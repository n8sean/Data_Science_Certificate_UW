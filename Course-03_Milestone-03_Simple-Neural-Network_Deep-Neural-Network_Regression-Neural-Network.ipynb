{
 "cells": [
  {
   "cell_type": "markdown",
   "metadata": {},
   "source": [
    "# Certificate in Data Science | Milestone 3 |  \n",
    "> University of Washington, Seattle, WA    \n",
    "> January 2020  \n",
    "> N. Hicks"
   ]
  },
  {
   "cell_type": "markdown",
   "metadata": {},
   "source": [
    "## Assignment Instructions"
   ]
  },
  {
   "cell_type": "markdown",
   "metadata": {},
   "source": [
    "Create a new notebook and perform each of the following tasks and answer the related questions:  \n",
    "- Build a simple neural networks model.\n",
    "- Build a DNN model.\n",
    "- Build a RNN model.\n",
    "- Summarize your findings with examples. Explain what the manufacturer should focus on to optimize the diaper manufacturing process.\n",
    "- Solicit specific feedback on your code."
   ]
  },
  {
   "cell_type": "markdown",
   "metadata": {},
   "source": [
    "# Pre-Existing Work"
   ]
  },
  {
   "cell_type": "markdown",
   "metadata": {},
   "source": [
    "As derived in previously accomplished assignments `Milestone 01` and `Milestone 02`."
   ]
  },
  {
   "cell_type": "markdown",
   "metadata": {},
   "source": [
    "## Establish the Datatset"
   ]
  },
  {
   "cell_type": "markdown",
   "metadata": {},
   "source": [
    "### Import Libraries"
   ]
  },
  {
   "cell_type": "code",
   "execution_count": 1,
   "metadata": {
    "ExecuteTime": {
     "end_time": "2020-01-12T23:55:48.790212Z",
     "start_time": "2020-01-12T23:55:38.231678Z"
    }
   },
   "outputs": [
    {
     "name": "stderr",
     "output_type": "stream",
     "text": [
      "C:\\Users\\NateDogg\\Anaconda3\\lib\\site-packages\\sklearn\\utils\\deprecation.py:144: FutureWarning: The sklearn.neighbors.base module is  deprecated in version 0.22 and will be removed in version 0.24. The corresponding classes / functions should instead be imported from sklearn.neighbors. Anything that cannot be imported from sklearn.neighbors is now part of the private API.\n",
      "  warnings.warn(message, FutureWarning)\n",
      "C:\\Users\\NateDogg\\Anaconda3\\lib\\site-packages\\sklearn\\utils\\deprecation.py:144: FutureWarning: The sklearn.ensemble.bagging module is  deprecated in version 0.22 and will be removed in version 0.24. The corresponding classes / functions should instead be imported from sklearn.ensemble. Anything that cannot be imported from sklearn.ensemble is now part of the private API.\n",
      "  warnings.warn(message, FutureWarning)\n",
      "C:\\Users\\NateDogg\\Anaconda3\\lib\\site-packages\\sklearn\\utils\\deprecation.py:144: FutureWarning: The sklearn.ensemble.base module is  deprecated in version 0.22 and will be removed in version 0.24. The corresponding classes / functions should instead be imported from sklearn.ensemble. Anything that cannot be imported from sklearn.ensemble is now part of the private API.\n",
      "  warnings.warn(message, FutureWarning)\n",
      "C:\\Users\\NateDogg\\Anaconda3\\lib\\site-packages\\sklearn\\utils\\deprecation.py:144: FutureWarning: The sklearn.ensemble.forest module is  deprecated in version 0.22 and will be removed in version 0.24. The corresponding classes / functions should instead be imported from sklearn.ensemble. Anything that cannot be imported from sklearn.ensemble is now part of the private API.\n",
      "  warnings.warn(message, FutureWarning)\n",
      "Using TensorFlow backend.\n",
      "C:\\Users\\NateDogg\\Anaconda3\\lib\\site-packages\\sklearn\\utils\\deprecation.py:144: FutureWarning: The sklearn.utils.testing module is  deprecated in version 0.22 and will be removed in version 0.24. The corresponding classes / functions should instead be imported from sklearn.utils. Anything that cannot be imported from sklearn.utils is now part of the private API.\n",
      "  warnings.warn(message, FutureWarning)\n",
      "C:\\Users\\NateDogg\\Anaconda3\\lib\\site-packages\\sklearn\\utils\\deprecation.py:144: FutureWarning: The sklearn.metrics.classification module is  deprecated in version 0.22 and will be removed in version 0.24. The corresponding classes / functions should instead be imported from sklearn.metrics. Anything that cannot be imported from sklearn.metrics is now part of the private API.\n",
      "  warnings.warn(message, FutureWarning)\n"
     ]
    }
   ],
   "source": [
    "'''\n",
    "Import Required Libraries\n",
    "'''\n",
    "import pandas as pd\n",
    "import numpy as np\n",
    "import os\n",
    "\n",
    "from imblearn.over_sampling import SMOTE\n",
    "from collections import Counter"
   ]
  },
  {
   "cell_type": "markdown",
   "metadata": {},
   "source": [
    "### Functions for Scripting"
   ]
  },
  {
   "cell_type": "code",
   "execution_count": 2,
   "metadata": {
    "ExecuteTime": {
     "end_time": "2020-01-12T23:55:48.882216Z",
     "start_time": "2020-01-12T23:55:48.790212Z"
    },
    "code_folding": [
     4
    ]
   },
   "outputs": [],
   "source": [
    "'''\n",
    "Retrieve the prescribed dataset.\n",
    "RETURN: pd.DataFrame\n",
    "'''\n",
    "def fetch_data(path, file):\n",
    "    try:\n",
    "        # import the file to a dataframe\n",
    "        _df = pd.read_csv(path + file, sep=' ', header=None)\n",
    "        print('REMOTE FILE USED')\n",
    "    except:\n",
    "        # Local Copy -- Link would not permit access\n",
    "        path = os.getcwd()\n",
    "        print('LOCAL FILE USED\\n\\n')\n",
    "        # import the file to a dataframe\n",
    "        _df = pd.read_csv(os.path.join(path, file))\n",
    "    \n",
    "    return _df"
   ]
  },
  {
   "cell_type": "code",
   "execution_count": 3,
   "metadata": {
    "ExecuteTime": {
     "end_time": "2020-01-12T23:55:48.915218Z",
     "start_time": "2020-01-12T23:55:48.899217Z"
    },
    "code_folding": [
     4
    ]
   },
   "outputs": [],
   "source": [
    "'''\n",
    "Create a scale function for a single feature.\n",
    "RETURN: a scaled column feature\n",
    "'''\n",
    "def scale(col):\n",
    "    mean_col = np.mean(col)\n",
    "    sd_col = np.std(col)\n",
    "    std = (col - mean_col) / sd_col\n",
    "    return std"
   ]
  },
  {
   "cell_type": "code",
   "execution_count": 4,
   "metadata": {
    "ExecuteTime": {
     "end_time": "2020-01-12T23:55:48.959221Z",
     "start_time": "2020-01-12T23:55:48.934219Z"
    },
    "code_folding": [
     9
    ]
   },
   "outputs": [],
   "source": [
    "'''\n",
    "Accomplish a 'train-test-validate' split of a provided dataset.\n",
    "INPUT: pd.DataFrame\n",
    "RETURN: pd.DataFrame| [train, validate, test]\n",
    "'''\n",
    "    # np.split will split at 60% of the length of the shuffled array,\n",
    "    # then 80% of length (which is an additional 20% of data),\n",
    "    # thus leaving a remaining 20% of the data.\n",
    "    # This is due to the definition of the function.\n",
    "def train_test_validate_split(_df):\n",
    "    train, validate, test = np.split(_df.sample(frac=1), [int(.6*len(_df)), int(.8*len(_df))])\n",
    "    print('TRAIN:    {}\\nVALIDATE: {}\\nTEST:     {}'.format(train.shape, validate.shape, test.shape))\n",
    "    return [train, validate, test]"
   ]
  },
  {
   "cell_type": "markdown",
   "metadata": {},
   "source": [
    "### Import the Data"
   ]
  },
  {
   "cell_type": "code",
   "execution_count": 5,
   "metadata": {
    "ExecuteTime": {
     "end_time": "2020-01-12T23:55:54.104410Z",
     "start_time": "2020-01-12T23:55:48.976222Z"
    }
   },
   "outputs": [
    {
     "name": "stdout",
     "output_type": "stream",
     "text": [
      "REMOTE FILE USED\n",
      "REMOTE FILE USED\n"
     ]
    }
   ],
   "source": [
    "# import the sensors dataset\n",
    "path = 'https://archive.ics.uci.edu/ml/machine-learning-databases/secom/'\n",
    "file_data = 'secom.data'\n",
    "file_labels = 'secom_labels.data'\n",
    "secom_df = fetch_data(path, file_data)\n",
    "labels_df = fetch_data(path, file_labels)"
   ]
  },
  {
   "cell_type": "markdown",
   "metadata": {},
   "source": [
    "## Wrangle the Data"
   ]
  },
  {
   "cell_type": "code",
   "execution_count": 6,
   "metadata": {
    "ExecuteTime": {
     "end_time": "2020-01-12T23:55:54.273419Z",
     "start_time": "2020-01-12T23:55:54.109410Z"
    }
   },
   "outputs": [],
   "source": [
    "# replace the 'NaN' values\n",
    "secom_df  = secom_df.fillna(0)"
   ]
  },
  {
   "cell_type": "code",
   "execution_count": 7,
   "metadata": {
    "ExecuteTime": {
     "end_time": "2020-01-12T23:55:54.327422Z",
     "start_time": "2020-01-12T23:55:54.276419Z"
    }
   },
   "outputs": [],
   "source": [
    "# replace all '-1' values with '0' values\n",
    "# this is a more standardized manner with which to display the target attribute\n",
    "labels_df = labels_df.replace(-1, 0)"
   ]
  },
  {
   "cell_type": "code",
   "execution_count": 8,
   "metadata": {
    "ExecuteTime": {
     "end_time": "2020-01-12T23:55:55.365481Z",
     "start_time": "2020-01-12T23:55:54.341423Z"
    }
   },
   "outputs": [],
   "source": [
    "# Change the dtype of 'labels_df[1]' to datetime\n",
    "cols = [1]\n",
    "labels_df[cols] = labels_df[cols].apply(pd.to_datetime)"
   ]
  },
  {
   "cell_type": "markdown",
   "metadata": {},
   "source": [
    "## Merge the DataFrames"
   ]
  },
  {
   "cell_type": "code",
   "execution_count": 9,
   "metadata": {
    "ExecuteTime": {
     "end_time": "2020-01-12T23:55:55.400483Z",
     "start_time": "2020-01-12T23:55:55.378482Z"
    }
   },
   "outputs": [],
   "source": [
    "df = secom_df.copy(deep=True)\n",
    "last_col = len(df.columns)\n",
    "labels_df = labels_df.rename(columns={0:last_col, 1:last_col+1})\n",
    "labels_df.columns\n",
    "df = pd.concat([df, labels_df], axis=1)"
   ]
  },
  {
   "cell_type": "markdown",
   "metadata": {},
   "source": [
    "## Identify 'Mean Zero' Attributes"
   ]
  },
  {
   "cell_type": "code",
   "execution_count": 10,
   "metadata": {
    "ExecuteTime": {
     "end_time": "2020-01-12T23:55:56.218530Z",
     "start_time": "2020-01-12T23:55:55.403483Z"
    }
   },
   "outputs": [],
   "source": [
    "# return the mean-zero attributes\n",
    "drop_cols = []\n",
    "is_zero = np.mean(df)==0\n",
    "for item in is_zero.index:\n",
    "    if is_zero[item]==True:\n",
    "        drop_cols.append(item)\n",
    "\n",
    "# drop the mean-zero attributes from the DataFrame\n",
    "df = df.drop(drop_cols, axis=1)"
   ]
  },
  {
   "cell_type": "code",
   "execution_count": 11,
   "metadata": {
    "ExecuteTime": {
     "end_time": "2020-01-12T23:55:59.915740Z",
     "start_time": "2020-01-12T23:55:56.221530Z"
    }
   },
   "outputs": [],
   "source": [
    "#re-name the columns, after the dropped attributes\n",
    "new_cols = np.arange(0,len(df.columns))\n",
    "i = 0\n",
    "\n",
    "# rename the attributes, consecutively\n",
    "for item in df.columns:\n",
    "    df.rename(columns={item:new_cols[i]}, inplace=True)\n",
    "    i += 1"
   ]
  },
  {
   "cell_type": "markdown",
   "metadata": {},
   "source": [
    "## Scale the Attributes"
   ]
  },
  {
   "cell_type": "code",
   "execution_count": 12,
   "metadata": {
    "ExecuteTime": {
     "end_time": "2020-01-12T23:55:59.984744Z",
     "start_time": "2020-01-12T23:55:59.953742Z"
    }
   },
   "outputs": [],
   "source": [
    "# define a list of attributes to iterate \n",
    "drop_cols = [478, 479]\n",
    "attributes = df.columns\n",
    "attributes = np.delete(attributes, drop_cols)\n",
    "target = drop_cols[0]"
   ]
  },
  {
   "cell_type": "code",
   "execution_count": 13,
   "metadata": {
    "ExecuteTime": {
     "end_time": "2020-01-12T23:56:00.059748Z",
     "start_time": "2020-01-12T23:56:00.040747Z"
    }
   },
   "outputs": [],
   "source": [
    "# establish the attributes and target\n",
    "X = df.copy()\n",
    "X = X.drop(drop_cols, axis=1)\n",
    "y = df[target]"
   ]
  },
  {
   "cell_type": "code",
   "execution_count": 14,
   "metadata": {
    "ExecuteTime": {
     "end_time": "2020-01-12T23:56:01.138810Z",
     "start_time": "2020-01-12T23:56:00.063748Z"
    }
   },
   "outputs": [],
   "source": [
    "# scale the remaining features\n",
    "for attr in attributes:\n",
    "    X[attr] = scale(X[attr])"
   ]
  },
  {
   "cell_type": "markdown",
   "metadata": {},
   "source": [
    "## Over-sample the Dataset"
   ]
  },
  {
   "cell_type": "code",
   "execution_count": 15,
   "metadata": {
    "ExecuteTime": {
     "end_time": "2020-01-12T23:56:01.367823Z",
     "start_time": "2020-01-12T23:56:01.141810Z"
    }
   },
   "outputs": [
    {
     "name": "stdout",
     "output_type": "stream",
     "text": [
      "Resampled dataset shape Counter({0: 1463, 1: 1463})\n"
     ]
    },
    {
     "name": "stderr",
     "output_type": "stream",
     "text": [
      "C:\\Users\\NateDogg\\Anaconda3\\lib\\site-packages\\sklearn\\utils\\deprecation.py:87: FutureWarning: Function safe_indexing is deprecated; safe_indexing is deprecated in version 0.22 and will be removed in version 0.24.\n",
      "  warnings.warn(msg, category=FutureWarning)\n"
     ]
    }
   ],
   "source": [
    "# oversample the dataset to balance it, for improved prediction capability\n",
    "sm_res = SMOTE(random_state=43)\n",
    "X_sm, y_sm = sm_res.fit_sample(X, y)\n",
    "print('Resampled dataset shape {}'.format(Counter(y_sm)))"
   ]
  },
  {
   "cell_type": "code",
   "execution_count": 16,
   "metadata": {
    "ExecuteTime": {
     "end_time": "2020-01-12T23:56:01.429826Z",
     "start_time": "2020-01-12T23:56:01.372823Z"
    }
   },
   "outputs": [],
   "source": [
    "# recombine the arrays, after oversampling, as DataFrames\n",
    "smX_df = pd.DataFrame(X_sm)\n",
    "smY_df = pd.DataFrame(y_sm)\n",
    "\n",
    "oversampled_df = pd.concat([smX_df, smY_df], axis=1)\n",
    "oversampled_df.columns = np.arange(0, oversampled_df.shape[1])"
   ]
  },
  {
   "cell_type": "markdown",
   "metadata": {},
   "source": [
    "## Split Dataset - Train / Test / Validate"
   ]
  },
  {
   "cell_type": "code",
   "execution_count": 17,
   "metadata": {
    "ExecuteTime": {
     "end_time": "2020-01-12T23:56:01.474829Z",
     "start_time": "2020-01-12T23:56:01.432826Z"
    }
   },
   "outputs": [
    {
     "name": "stdout",
     "output_type": "stream",
     "text": [
      "TRAIN:    (1755, 479)\n",
      "VALIDATE: (585, 479)\n",
      "TEST:     (586, 479)\n",
      "-----------------------------------\n",
      "THE OVERSAMPLED DATASET is NOW SPLIT\n"
     ]
    }
   ],
   "source": [
    "# establish the initial dataset split\n",
    "split_data = train_test_validate_split(oversampled_df)   # [train, validate, test]\n",
    "\n",
    "# re-assign the split results\n",
    "print('-----------------------------------')\n",
    "print('THE OVERSAMPLED DATASET is NOW SPLIT')\n",
    "train_data = split_data[0]\n",
    "val_data = split_data[1]\n",
    "test_data = split_data[2]"
   ]
  },
  {
   "cell_type": "code",
   "execution_count": 18,
   "metadata": {
    "ExecuteTime": {
     "end_time": "2020-01-12T23:56:01.527832Z",
     "start_time": "2020-01-12T23:56:01.478829Z"
    }
   },
   "outputs": [],
   "source": [
    "# establish the features and target segmentations\n",
    "# convert the DataFrame to numpy arrays\n",
    "X_train = train_data[attributes].values\n",
    "Y_train = train_data[target].values\n",
    "\n",
    "X_test = test_data[attributes].values\n",
    "Y_test = test_data[target].values\n",
    "\n",
    "X_val = val_data[attributes].values\n",
    "Y_val = val_data[target].values"
   ]
  },
  {
   "cell_type": "markdown",
   "metadata": {},
   "source": [
    "# Current Work"
   ]
  },
  {
   "cell_type": "markdown",
   "metadata": {},
   "source": [
    "## Functions for Scripting"
   ]
  },
  {
   "cell_type": "code",
   "execution_count": 19,
   "metadata": {
    "ExecuteTime": {
     "end_time": "2020-01-12T23:56:01.542833Z",
     "start_time": "2020-01-12T23:56:01.530832Z"
    },
    "code_folding": [
     4,
     15
    ]
   },
   "outputs": [],
   "source": [
    "'''\n",
    "Create a numerically stable logistic\n",
    "RETURN: np.array\n",
    "'''\n",
    "def sigmoid(x):\n",
    "    x = np.clip(x, -500, 500)\n",
    "    if x.any()>=0:\n",
    "        return 1/(1 + np.exp(-x))\n",
    "    else:\n",
    "        return np.exp(x)/(1 + np.exp(x))\n",
    "    \n",
    "'''\n",
    "Compute the gradient of the logistic\n",
    "RETURN: np.array\n",
    "'''\n",
    "def sigmoid_grad(z):\n",
    "    sg = sigmoid(z)\n",
    "    return sg * (1 - sg)"
   ]
  },
  {
   "cell_type": "code",
   "execution_count": 20,
   "metadata": {
    "ExecuteTime": {
     "end_time": "2020-01-12T23:56:01.563834Z",
     "start_time": "2020-01-12T23:56:01.549833Z"
    },
    "code_folding": [
     4
    ]
   },
   "outputs": [],
   "source": [
    "'''\n",
    "Randomly assign the weight vector matrices; input and output weights\n",
    "RETURN: np.array\n",
    "'''\n",
    "def init_parameters(n_features, n_hidden, n_output):\n",
    "    w1 = np.random.uniform(-1.0, 1.0,\n",
    "                            size=(n_hidden * (n_features + 1))).reshape(n_hidden, n_features + 1)        \n",
    "    w2 = np.random.uniform(-1.0, 1.0,\n",
    "                            size=(n_output * (n_hidden + 1))).reshape(n_output, n_hidden + 1)\n",
    "    return w1, w2"
   ]
  },
  {
   "cell_type": "code",
   "execution_count": 21,
   "metadata": {
    "ExecuteTime": {
     "end_time": "2020-01-12T23:56:01.584835Z",
     "start_time": "2020-01-12T23:56:01.571834Z"
    },
    "code_folding": [
     4
    ]
   },
   "outputs": [],
   "source": [
    "'''\n",
    "Update the feature matrix with an additional bias unit of '1'\n",
    "RETURN: np.array\n",
    "'''\n",
    "def add_bias_unit(bias_X, axis):\n",
    "    if axis=='column':\n",
    "        X_new = np.ones((bias_X.shape[0], bias_X.shape[1] + 1))\n",
    "        X_new[:, 1:] = bias_X           # establish a new feature matrix\n",
    "    elif axis=='row':\n",
    "        X_new = np.ones((bias_X.shape[0] + 1, bias_X.shape[1]))\n",
    "        X_new[1:, :] = bias_X           # establish a new feature matrix\n",
    "    \n",
    "    return X_new"
   ]
  },
  {
   "cell_type": "code",
   "execution_count": 22,
   "metadata": {
    "ExecuteTime": {
     "end_time": "2020-01-12T23:56:01.617837Z",
     "start_time": "2020-01-12T23:56:01.606836Z"
    },
    "code_folding": [
     4
    ]
   },
   "outputs": [],
   "source": [
    "'''\n",
    "Forward propogation for the multi-layer perceptron network\n",
    "RETURN: np.array| activation and transfer functions\n",
    "'''\n",
    "def fwd_prop(X_batch, w1, w2):\n",
    "    # the input nodes\n",
    "    a1 = add_bias_unit(X_batch, 'column')   # first, add a bias term of '1' as a new feature\n",
    "    z2 = np.dot(w1, a1.T)   # dot product of the weights and X + bias\n",
    "    a2 = sigmoid(z2)        # Use sigmoid function to create a predicted vector\n",
    "\n",
    "    # the output nodes\n",
    "    a2 = add_bias_unit(a2, 'row')\n",
    "    z3 = np.dot(w2, a2)\n",
    "    a3 = sigmoid(z3)\n",
    "    return a1, a2, a3, z2, z3"
   ]
  },
  {
   "cell_type": "code",
   "execution_count": 23,
   "metadata": {
    "ExecuteTime": {
     "end_time": "2020-01-12T23:56:01.639838Z",
     "start_time": "2020-01-12T23:56:01.629838Z"
    },
    "code_folding": [
     3
    ]
   },
   "outputs": [],
   "source": [
    "'''\n",
    "Calculate the gradient\n",
    "'''\n",
    "def get_grad(a1, a2, a3, z2, Y_batch, w1, w2):\n",
    "    delta_z3 = a3 - Y_batch                           # subtract weights: actual from predicted\n",
    "    z2 = add_bias_unit(z2, 'row')\n",
    "    delta_z2 = w2.T.dot(delta_z3) * sigmoid_grad(z2)\n",
    "    delta_z2 = delta_z2[1:, :]\n",
    "    grad1 = delta_z2.dot(a1)\n",
    "    grad2 = delta_z3.dot(a2.T)\n",
    "    \n",
    "    return grad1, grad2"
   ]
  },
  {
   "cell_type": "code",
   "execution_count": 24,
   "metadata": {
    "ExecuteTime": {
     "end_time": "2020-01-12T23:56:01.788847Z",
     "start_time": "2020-01-12T23:56:01.720843Z"
    },
    "code_folding": [
     3
    ]
   },
   "outputs": [],
   "source": [
    "'''\n",
    "Backpropagate the network to achieve improved weight vectors\n",
    "'''\n",
    "def back_prop(a1, a2, a3, z2, w1, w2, X_batch, Y_batch):\n",
    "    m = np.shape(X)[1] # used the calculate the cost by the number of inputs -1/m\n",
    "    output = a3\n",
    "    \n",
    "    # Calculate the cost\n",
    "    cost1 = -Y_batch * (np.log(output))\n",
    "    cost2 = (1 - Y_batch) * np.log(1 - output)\n",
    "    cost = (1/m) * np.sum(cost1 - cost2)\n",
    "\n",
    "    # Calculate the gradient\n",
    "    grad1, grad2 = get_grad(a1, a2, a3, z2, Y_batch, w1, w2)\n",
    "    \n",
    "    grads = {'dW1':grad1, 'dW2':grad2}              # Weight and bias vectors after backprop\n",
    "    \n",
    "    return grads, cost"
   ]
  },
  {
   "cell_type": "code",
   "execution_count": 25,
   "metadata": {
    "ExecuteTime": {
     "end_time": "2020-01-12T23:56:01.830849Z",
     "start_time": "2020-01-12T23:56:01.812848Z"
    },
    "code_folding": [
     3
    ]
   },
   "outputs": [],
   "source": [
    "'''\n",
    "Run the gradient descent algorithm\n",
    "'''\n",
    "def run_grad_desc(num_epochs, eta, alpha, _X, _Y, n_features, n_hidden, n_output):\n",
    "    loss_array = np.ones([num_epochs]) * np.nan         # resets the loss_array to NaNs\n",
    "    \n",
    "    # initialize the random weight matrices\n",
    "    w1, w2 = init_parameters(n_features, n_hidden, n_output)\n",
    "\n",
    "    # the momentum parameters\n",
    "    delta_w1_prior = np.zeros(w1.shape)\n",
    "    delta_w2_prior = np.zeros(w2.shape)\n",
    "    \n",
    "    # execute the training epoch\n",
    "    for i in np.arange(num_epochs):\n",
    "        X_data, Y_data = _X.copy(), _Y.copy()\n",
    "        \n",
    "        idx = np.random.permutation(Y_data.shape[0])     # shuffle the dataset for the epoch\n",
    "        X_data, Y_data = X_data[idx], Y_data[idx]\n",
    "        batch = np.array(range(Y_data.shape[0]))\n",
    "\n",
    "        # apply the forward propagation for each feature vector\n",
    "        a1, a2, a3, z2, z3 = fwd_prop(X_data[batch], w1, w2)             # get predicted vector\n",
    "        grads, cost = back_prop(a1, a2, a3, z2, w1, w2, X_data[batch], Y_data[batch])       # get gradient and the cost from BP \n",
    "        loss_array[i] = cost                         # loss array gets cross ent values\n",
    "\n",
    "        # Update the weight delta vectors (using momentum)\n",
    "        delta_w1 = eta * grads['dW1']      # calc new weight vector\n",
    "        delta_w2 = eta * grads['dW2']      # calc new bias vector\n",
    "        \n",
    "        # add the momentum terms to update the weights\n",
    "        w1 -= (delta_w1 + (alpha * delta_w1_prior))\n",
    "        w2 -= (delta_w2 + (alpha * delta_w2_prior))\n",
    "        \n",
    "        delta_w1_prior = delta_w1\n",
    "        delta_w2_prior = delta_w2\n",
    "\n",
    "        grads = {'dW1':delta_w1, 'dW2':delta_w2}   # Weight and bias vectors after back-prop\n",
    "        parameter = {'W1':w1, 'W2':w2}             # assign\n",
    "\n",
    "    return parameter, loss_array"
   ]
  },
  {
   "cell_type": "markdown",
   "metadata": {},
   "source": [
    "## Simple Neural Network"
   ]
  },
  {
   "cell_type": "markdown",
   "metadata": {},
   "source": [
    "### Functions for Scripting"
   ]
  },
  {
   "cell_type": "code",
   "execution_count": 26,
   "metadata": {
    "ExecuteTime": {
     "end_time": "2020-01-12T23:56:02.296876Z",
     "start_time": "2020-01-12T23:56:01.839850Z"
    }
   },
   "outputs": [],
   "source": [
    "'''\n",
    "Set the resultant plot parameters.\n",
    "RETURN: none.\n",
    "'''\n",
    "import seaborn as sns\n",
    "import matplotlib.pyplot as plt\n",
    "\n",
    "%matplotlib inline\n",
    "\n",
    "# set for all notebook; width, height of the resulting plots\n",
    "plt.rcParams[\"figure.figsize\"] = [10, 6.5]   # [width, height]\n",
    "\n",
    "sns.set()"
   ]
  },
  {
   "cell_type": "code",
   "execution_count": 27,
   "metadata": {
    "ExecuteTime": {
     "end_time": "2020-01-12T23:56:02.306876Z",
     "start_time": "2020-01-12T23:56:02.299876Z"
    },
    "code_folding": [
     0
    ]
   },
   "outputs": [],
   "source": [
    "def cart_plot(name, var, epochs):\n",
    "    # report the trained network score 'cost / loss'\n",
    "    print('Loss-Cost Score: {}'.format(np.round(loss_array[epochs-1], 3)))\n",
    "\n",
    "    # plot the cost curve\n",
    "    plt.plot(loss_array)\n",
    "    plt.title('Multi-Layer Perceptron Network with Back-propagation\\nTraining Loss vs. Total Epoches')\n",
    "    plt.xlabel('{} = {}'.format(name, var))\n",
    "    plt.grid()\n",
    "    plt.show()"
   ]
  },
  {
   "cell_type": "markdown",
   "metadata": {},
   "source": [
    "### Train the Network"
   ]
  },
  {
   "cell_type": "code",
   "execution_count": 28,
   "metadata": {
    "ExecuteTime": {
     "end_time": "2020-01-12T23:57:15.877084Z",
     "start_time": "2020-01-12T23:56:02.313877Z"
    },
    "scrolled": false
   },
   "outputs": [
    {
     "name": "stdout",
     "output_type": "stream",
     "text": [
      "TRAINING OF THE MULTI-LAYER PERCEPTRON NETWORK\n",
      "Learning Rate: 0.001\n",
      "Loss-Cost Score: 1.037\n"
     ]
    },
    {
     "data": {
      "image/png": "[encoded data removed]",
      "text/plain": [
       "<Figure size 720x468 with 1 Axes>"
      ]
     },
     "metadata": {},
     "output_type": "display_data"
    },
    {
     "name": "stdout",
     "output_type": "stream",
     "text": [
      "Learning Rate: 0.005\n",
      "Loss-Cost Score: 1.174\n"
     ]
    },
    {
     "data": {
      "image/png": "[encoded data removed]",
      "text/plain": [
       "<Figure size 720x468 with 1 Axes>"
      ]
     },
     "metadata": {},
     "output_type": "display_data"
    },
    {
     "name": "stdout",
     "output_type": "stream",
     "text": [
      "Learning Rate: 0.01\n",
      "Loss-Cost Score: 1.991\n"
     ]
    },
    {
     "data": {
      "image/png": "[encoded data removed]",
      "text/plain": [
       "<Figure size 720x468 with 1 Axes>"
      ]
     },
     "metadata": {},
     "output_type": "display_data"
    }
   ],
   "source": [
    "epochs = 400    # Number of Epochs\n",
    "# eta = 0.01    # Learning Rate\n",
    "alpha = 0.7     # Momentum\n",
    "n_features = np.shape(X)[1]   # Number of nodes in a hidden layer\n",
    "n_hidden = 1    # Number of Hidden Layers - Depth of Architecture\n",
    "n_output = 2    # Number of Output_nodes; Binary=2\n",
    "\n",
    "print('TRAINING OF THE MULTI-LAYER PERCEPTRON NETWORK')\n",
    "rates = [0.001, 0.005, 0.01]\n",
    "var_name = 'Learning Rate'\n",
    "for eta in rates:\n",
    "    print('{}: {}'.format(var_name, eta))\n",
    "    params, loss_array = run_grad_desc(epochs, eta, alpha, X_train, Y_train, n_features, n_hidden, n_output)\n",
    "    cart_plot(eta, var_name, epochs)"
   ]
  },
  {
   "cell_type": "markdown",
   "metadata": {},
   "source": [
    "## Deep Neural Network"
   ]
  },
  {
   "cell_type": "markdown",
   "metadata": {},
   "source": [
    "### Train the Network"
   ]
  },
  {
   "cell_type": "code",
   "execution_count": 29,
   "metadata": {
    "ExecuteTime": {
     "end_time": "2020-01-12T23:58:55.224767Z",
     "start_time": "2020-01-12T23:57:16.135099Z"
    },
    "scrolled": false
   },
   "outputs": [
    {
     "name": "stdout",
     "output_type": "stream",
     "text": [
      "TRAINING OF THE MULTI-LAYER PERCEPTRON NETWORK\n",
      "Hidden Layers: 2\n",
      "Loss-Cost Score: 0.947\n"
     ]
    },
    {
     "data": {
      "image/png": "[encoded data removed]",
      "text/plain": [
       "<Figure size 720x468 with 1 Axes>"
      ]
     },
     "metadata": {},
     "output_type": "display_data"
    },
    {
     "name": "stdout",
     "output_type": "stream",
     "text": [
      "Hidden Layers: 3\n",
      "Loss-Cost Score: 0.422\n"
     ]
    },
    {
     "data": {
      "image/png": "[encoded data removed]",
      "text/plain": [
       "<Figure size 720x468 with 1 Axes>"
      ]
     },
     "metadata": {},
     "output_type": "display_data"
    },
    {
     "name": "stdout",
     "output_type": "stream",
     "text": [
      "Hidden Layers: 4\n",
      "Loss-Cost Score: 0.288\n"
     ]
    },
    {
     "data": {
      "image/png": "[encoded data removed]",
      "text/plain": [
       "<Figure size 720x468 with 1 Axes>"
      ]
     },
     "metadata": {},
     "output_type": "display_data"
    },
    {
     "name": "stdout",
     "output_type": "stream",
     "text": [
      "Hidden Layers: 5\n",
      "Loss-Cost Score: 0.36\n"
     ]
    },
    {
     "data": {
      "image/png": "[encoded data removed]",
      "text/plain": [
       "<Figure size 720x468 with 1 Axes>"
      ]
     },
     "metadata": {},
     "output_type": "display_data"
    }
   ],
   "source": [
    "epochs = 400    # Number of Epochs\n",
    "eta = 0.005     # Learning Rate\n",
    "alpha = 0.7     # Momentum\n",
    "n_features = np.shape(X)[1]   # Number of nodes in a hidden layer\n",
    "# n_hidden = 3    # Number of Hidden Layers - Depth of Architecture\n",
    "n_output = 2    # Number of Output_nodes; Binary=2\n",
    "\n",
    "print('TRAINING OF THE MULTI-LAYER PERCEPTRON NETWORK')\n",
    "layers = [2, 3, 4, 5]\n",
    "var_name = 'Hidden Layers'\n",
    "for n_hidden in layers:\n",
    "    print('{}: {}'.format(var_name, n_hidden))\n",
    "    params, loss_array = run_grad_desc(epochs, eta, alpha, X_train, Y_train, n_features, n_hidden, n_output)\n",
    "    cart_plot(n_hidden, var_name, epochs)"
   ]
  },
  {
   "cell_type": "markdown",
   "metadata": {},
   "source": [
    "## Recurrent Neural Network"
   ]
  },
  {
   "cell_type": "code",
   "execution_count": 30,
   "metadata": {
    "ExecuteTime": {
     "end_time": "2020-01-12T23:58:55.245768Z",
     "start_time": "2020-01-12T23:58:55.235767Z"
    }
   },
   "outputs": [],
   "source": [
    "# import the required libraries\n",
    "# import tensorflow as tf\n",
    "from tensorflow import keras"
   ]
  },
  {
   "cell_type": "code",
   "execution_count": 31,
   "metadata": {
    "ExecuteTime": {
     "end_time": "2020-01-12T23:58:55.278770Z",
     "start_time": "2020-01-12T23:58:55.262769Z"
    },
    "code_folding": [
     4
    ]
   },
   "outputs": [],
   "source": [
    "'''\n",
    "Report the Numpy n-dimensional array characteristics.\n",
    "RETURN: None; print the characteristics.\n",
    "'''\n",
    "def print_array_attrs(arr, txt):\n",
    "    print('--------------------------')\n",
    "    print('DATASET                 {}'.format(txt))\n",
    "    print('dType                   {}'.format(arr.dtype))      # the array data type\n",
    "    print('num_dimensions          {}'.format(arr.ndim))       # numbr of dimensions\n",
    "    print('shape                   {}'.format(arr.shape))      # the array shape\n",
    "    print('stride                  {}'.format(arr.strides))    # the stride of the array\n",
    "    print('total num_elements      {}\\n'.format(arr.size))       # number of elements\n",
    "    print('memory address          {}'.format(arr.data))       # the memory address\n",
    "    print('element length, bytes   {}'.format(arr.itemsize))   # length of one array element, in bytes\n",
    "    print('elements size, bytes    {}'.format(arr.nbytes))     # total bytes consumed of the elements\n",
    "    print('memory layout\\n{}'.format(arr.flags))      # memory layout"
   ]
  },
  {
   "cell_type": "markdown",
   "metadata": {},
   "source": [
    "### Train the Network"
   ]
  },
  {
   "cell_type": "code",
   "execution_count": 32,
   "metadata": {
    "ExecuteTime": {
     "end_time": "2020-01-12T23:58:55.319772Z",
     "start_time": "2020-01-12T23:58:55.292771Z"
    }
   },
   "outputs": [],
   "source": [
    "x_train = X_train.copy()\n",
    "x_test = X_test.copy()\n",
    "x_val = X_val.copy()\n",
    "\n",
    "y_train = Y_train.copy()\n",
    "y_test = Y_test.copy()\n",
    "y_val = Y_val.copy()"
   ]
  },
  {
   "cell_type": "code",
   "execution_count": 33,
   "metadata": {
    "ExecuteTime": {
     "end_time": "2020-01-12T23:58:55.347774Z",
     "start_time": "2020-01-12T23:58:55.327773Z"
    }
   },
   "outputs": [],
   "source": [
    "# reshape input to be [samples, time steps, features]\n",
    "# for the RNN\n",
    "x_train = np.reshape(x_train, (x_train.shape[0], 1, x_train.shape[1]))\n",
    "x_test = np.reshape(x_test, (x_test.shape[0], 1, x_test.shape[1]))\n",
    "x_val = np.reshape(x_val, (x_val.shape[0], 1, x_val.shape[1]))"
   ]
  },
  {
   "cell_type": "code",
   "execution_count": 34,
   "metadata": {
    "ExecuteTime": {
     "end_time": "2020-01-12T23:58:57.011861Z",
     "start_time": "2020-01-12T23:58:55.358774Z"
    }
   },
   "outputs": [
    {
     "name": "stdout",
     "output_type": "stream",
     "text": [
      "Model: \"sequential\"\n",
      "_________________________________________________________________\n",
      "Layer (type)                 Output Shape              Param #   \n",
      "=================================================================\n",
      "lstm (LSTM)                  (None, 4)                 7728      \n",
      "_________________________________________________________________\n",
      "dense (Dense)                (None, 1)                 5         \n",
      "=================================================================\n",
      "Total params: 7,733\n",
      "Trainable params: 7,733\n",
      "Non-trainable params: 0\n",
      "_________________________________________________________________\n"
     ]
    }
   ],
   "source": [
    "# create and fit the LSTM network\n",
    "model = keras.models.Sequential()\n",
    "model.add(keras.layers.LSTM(4, input_shape=(1, 478)))\n",
    "model.add(keras.layers.Dense(1, activation='sigmoid'))\n",
    "model.compile(loss='binary_crossentropy', optimizer='adam', metrics=['accuracy'])\n",
    "model.summary()"
   ]
  },
  {
   "cell_type": "code",
   "execution_count": 35,
   "metadata": {
    "ExecuteTime": {
     "end_time": "2020-01-13T00:00:35.041411Z",
     "start_time": "2020-01-12T23:58:57.011861Z"
    }
   },
   "outputs": [
    {
     "name": "stdout",
     "output_type": "stream",
     "text": [
      "Train on 1755 samples, validate on 586 samples\n",
      "Epoch 1/3\n",
      "1755/1755 [==============================] - 40s 23ms/sample - loss: 0.5037 - accuracy: 0.8182 - val_loss: 0.3777 - val_accuracy: 0.8925\n",
      "Epoch 2/3\n",
      "1755/1755 [==============================] - 28s 16ms/sample - loss: 0.2483 - accuracy: 0.9453 - val_loss: 0.2553 - val_accuracy: 0.9113\n",
      "Epoch 3/3\n",
      "1755/1755 [==============================] - 30s 17ms/sample - loss: 0.1348 - accuracy: 0.9744 - val_loss: 0.1805 - val_accuracy: 0.9283\n"
     ]
    },
    {
     "data": {
      "text/plain": [
       "<tensorflow.python.keras.callbacks.History at 0x1a4783c8>"
      ]
     },
     "execution_count": 35,
     "metadata": {},
     "output_type": "execute_result"
    }
   ],
   "source": [
    "x_train_val, y_train_val = x_train.copy(), y_train.copy()\n",
    "model.fit(x_train_val, y_train_val, validation_data=(x_test, y_test), epochs=3, batch_size=1, verbose=1)"
   ]
  },
  {
   "cell_type": "code",
   "execution_count": 36,
   "metadata": {
    "ExecuteTime": {
     "end_time": "2020-01-13T00:00:37.134511Z",
     "start_time": "2020-01-13T00:00:35.145417Z"
    }
   },
   "outputs": [
    {
     "name": "stdout",
     "output_type": "stream",
     "text": [
      "Accuracy: 92.83%\n"
     ]
    }
   ],
   "source": [
    "# Evaluate model\n",
    "scores = model.evaluate(x_test, y_test, verbose=0)\n",
    "print(\"Accuracy: %.2f%%\" % (scores[1]*100))"
   ]
  },
  {
   "cell_type": "markdown",
   "metadata": {},
   "source": [
    "## Results"
   ]
  },
  {
   "cell_type": "markdown",
   "metadata": {},
   "source": [
    "This assignment achieved the 3 neural network model architectures specified at the beginning of this document: 1) a simple neural network, 2) a deep neural network, and 3) a recurrent neural network.\n",
    "<br>  \n",
    "The simple neural network was the least performant of the models as compared to the deep neural network. As shown in the results above, the primary imrpovement between these 2 models is the inclusion of additional hidden layers for the latter of the 2 architectures.\n",
    "<br>  \n",
    "In order to further evaluate these 2 architectures it would be prudent to apply a 'predict' algorithm, however, this method was not derived at the onset of the originating assignmnet (assignment 8). In this approach, a total of 5 hidden layers were examined and shown that at approximately 25 epoches the model is most efficiently trained and readied for said predictions. \n",
    "<br>  \n",
    "The recurrent neural network outperforms the prior 2 architectures, mainly that such a model is intended for time series data. The results derived here show a 93% accuracy.\n",
    "<br>  \n",
    "For the diaper manufacturer, further effort should focus on identifcation of those sensors beyond the 93% accuracy. The manufacturer should understand that false positives are inherent to machine learning practices, and that perhaps, implimenting redundant sensor measurements may help to mitigate such outcomes."
   ]
  }
 ],
 "metadata": {
  "kernelspec": {
   "display_name": "Python 3",
   "language": "python",
   "name": "python3"
  },
  "language_info": {
   "codemirror_mode": {
    "name": "ipython",
    "version": 3
   },
   "file_extension": ".py",
   "mimetype": "text/x-python",
   "name": "python",
   "nbconvert_exporter": "python",
   "pygments_lexer": "ipython3",
   "version": "3.7.5"
  },
  "toc": {
   "base_numbering": 1,
   "nav_menu": {},
   "number_sections": true,
   "sideBar": true,
   "skip_h1_title": false,
   "title_cell": "Table of Contents",
   "title_sidebar": "Contents",
   "toc_cell": false,
   "toc_position": {
    "height": "calc(100% - 180px)",
    "left": "10px",
    "top": "150px",
    "width": "321px"
   },
   "toc_section_display": true,
   "toc_window_display": true
  }
 },
 "nbformat": 4,
 "nbformat_minor": 2
}
