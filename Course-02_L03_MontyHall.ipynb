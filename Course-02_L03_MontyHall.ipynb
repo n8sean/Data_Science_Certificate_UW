{
 "cells": [
  {
   "cell_type": "markdown",
   "metadata": {},
   "source": [
    "# Certificate in Data Science | Assignment 3 |  \n",
    "- Monty Hall Simulation\n",
    "\n",
    "> University of Washington  \n",
    "> July 2019  \n",
    "> N. HICKS"
   ]
  },
  {
   "cell_type": "markdown",
   "metadata": {},
   "source": [
    "## Instructions\n",
    "Simulate the conditional probabilities of the distributions for winning a car vs. a goat for the Monty Hall Problem that includes the following:\n",
    "1. the cases for switching or not switching\n",
    "2. histograms and summary statistics (at least mean and variance) of the results for winning the car or a goat for both strategies: switching or not switching\n",
    "3. comparison of the cases to determine the best strategy\n",
    "4. recommended strategy\n",
    "\n"
   ]
  },
  {
   "cell_type": "markdown",
   "metadata": {},
   "source": [
    "Note:  \n",
    "Please clearly outline the results and your recommendation with markdown text. Be sure your discussion includes narrative for your figures and tables so it is clear to the reader the importance of each bit of evidence."
   ]
  },
  {
   "cell_type": "code",
   "execution_count": 1,
   "metadata": {},
   "outputs": [],
   "source": [
    "# Import libraries\n",
    "from __future__ import division \n",
    "import numpy as np\n",
    "import pandas as pd\n",
    "from matplotlib import pyplot as plt\n",
    "import seaborn as sns\n",
    "\n",
    "# establish JN inline plotting results\n",
    "%matplotlib inline\n",
    "sns.set()"
   ]
  },
  {
   "cell_type": "code",
   "execution_count": 2,
   "metadata": {},
   "outputs": [],
   "source": [
    "# define a function to update this notebooks theme parameters\n",
    "def updateTheme(figArea):\n",
    "    try:\n",
    "        from jupyterthemes import jtplot\n",
    "        # choose which theme to inherit plotting style from:\n",
    "        # onedork | grade3 | oceans16 | chesterish | monokai | solarizedl | solarizedd\n",
    "        themeChoice = 'onedork'\n",
    "        jtplot.style(theme=themeChoice)\n",
    "\n",
    "        # set \"context\" from:\n",
    "        # paper | notebook | talk | poster\n",
    "        # scale font-size of ticklabels, legend, etc.\n",
    "        # remove spines from x and y axes and make grid dashed\n",
    "        jtplot.style(context='notebook', fscale=1.6, spines=False, gridlines='--')\n",
    "\n",
    "        # turn on X- and Y-axis tick marks (default=False)\n",
    "        # turn off the axis grid lines (default=True)\n",
    "        # and set the default figure size\n",
    "        jtplot.style(ticks=True, grid=False, figsize=figArea)\n",
    "\n",
    "        # Set the palette using the name of a palette:\n",
    "        # deep | muted | pastel | bright | dark | colorblind\n",
    "        sns.set_palette(\"pastel\")\n",
    "\n",
    "    except ImportError:\n",
    "        sns.set()"
   ]
  },
  {
   "cell_type": "code",
   "execution_count": 3,
   "metadata": {},
   "outputs": [],
   "source": [
    "# apply updated theme to JN environment\n",
    "updateJNTheme = False     # update existing Jupyter Notebook theme or not\n",
    "# define the area of the resultant plots\n",
    "figArea = (25, 15)\n",
    "    \n",
    "if updateJNTheme == True:\n",
    "    updateTheme(figArea)\n",
    "else:\n",
    "    sns.set()"
   ]
  },
  {
   "cell_type": "markdown",
   "metadata": {},
   "source": [
    "## Establish Model to Process the Conditional Probabilities"
   ]
  },
  {
   "cell_type": "code",
   "execution_count": 4,
   "metadata": {},
   "outputs": [],
   "source": [
    "# if the first choice is a door with a goat behind it...\n",
    "def goatFirst(choice):\n",
    "    pGoat_0 = 2/3\n",
    "    # probability(picked goat then switched and won car)\n",
    "    if choice == 'switch':\n",
    "        pCar = 1\n",
    "    # probability(picked goat then did not switch then won car)\n",
    "    if choice == 'stay':\n",
    "        pCar = 0\n",
    "    pPrize = pCar * pGoat_0\n",
    "    return pPrize\n",
    "\n",
    "# if the first choice is a dorr with a car behind it...\n",
    "def carFirst(choice):\n",
    "    pCar_0 = 1/3\n",
    "    # probability(picked car then switched and won car)\n",
    "    if choice == 'switch':\n",
    "        pCar = 0\n",
    "    # probability(picked car then did not switch then won car)\n",
    "    if choice == 'stay':\n",
    "        pCar = 1\n",
    "    pPrize = pCar * pCar_0\n",
    "    pPrize_1, pPrize_2 = hostOptions(pPrize)\n",
    "    return pPrize_1, pPrize_2"
   ]
  },
  {
   "cell_type": "code",
   "execution_count": 5,
   "metadata": {},
   "outputs": [],
   "source": [
    "# for when the host offers alternative doors to choose,\n",
    "# when you have already selected the car on the first choice, and only the host knows this fact\n",
    "def hostOptions(pPrize):\n",
    "    pChoice = 1/2\n",
    "    pPrize_1 = pPrize * pChoice\n",
    "    pPrize_2 = pPrize_1\n",
    "    return pPrize_1, pPrize_2"
   ]
  },
  {
   "cell_type": "markdown",
   "metadata": {},
   "source": [
    "## Test the Model for Proper Outcomes  \n",
    "- Validate that after the first door chosen, the probabilities add to unity.  \n",
    "- The result shows that the contestant has best probability of winning the car by switching doors when presented with the option to do so.  \n",
    "- (Recommendation) By using a switching strategy, the proability of winning is 2/3.  \n",
    "---\n",
    "  ***NOTE***: REF below table, where:  \n",
    "  - ROW-1 shows the probabilities of the ***FIRST*** door choice  \n",
    "  - ROW-2 shows the probabilities of the ***SECOND*** door choice  \n",
    "  \n",
    "  From the table, it is seen that the probability of winning the car, is the least probable outcome at only 17%, where by using a switching strategy, this probability is much improved at 67%."
   ]
  },
  {
   "cell_type": "code",
   "execution_count": 6,
   "metadata": {},
   "outputs": [
    {
     "name": "stdout",
     "output_type": "stream",
     "text": [
      "****************************\n",
      "VALIDATION of INITIAL CHOICE\n",
      "****************************\n",
      "\n",
      "First Door: Goat\n",
      "Final Door: Switch Doors\n",
      "P(Win Car): 66.7%\n",
      "\n",
      "\n",
      "First Door: Goat\n",
      "Final Door: Do Not Switch Doors\n",
      "P(Win Car): 0.0%\n",
      "\n",
      "\n",
      "First Door: Car\n",
      "Final Door: Switch Doors\n",
      "P(Win Car): 0.0%\n",
      "\n",
      "\n",
      "First Door: Car\n",
      "Final Door: Do Not Switch Doors\n",
      "P(Win Car): 33.3%\n",
      "\n",
      "---------------------------------------\n",
      "Total probability: | Goat-Switch | Goat-Stay | Car-Switch |  Car-Stay  |\n",
      "       1.0         |    0.67     |    0.0    |    0.0     |    0.33    |\n",
      "       1.0         |    0.67     |    0.0    |    0.0     | 0.17  0.17 |\n"
     ]
    }
   ],
   "source": [
    "print('****************************')\n",
    "print('VALIDATION of INITIAL CHOICE')\n",
    "print('****************************\\n')\n",
    "choice = 'switch'\n",
    "pWin_A = goatFirst(choice)\n",
    "print('First Door: Goat\\nFinal Door: Switch Doors\\nP(Win Car): '\n",
    "      + str(round(pWin_A*100,1)) + '%\\n\\n')\n",
    "\n",
    "choice = 'stay'\n",
    "pWin_B = goatFirst(choice)\n",
    "print('First Door: Goat\\nFinal Door: Do Not Switch Doors\\nP(Win Car): '\n",
    "      + str(round(pWin_B*100,1)) + '%\\n\\n')\n",
    "\n",
    "choice = 'switch'\n",
    "pWin_C1, pWin_C2 = carFirst(choice)\n",
    "pWin_C = pWin_C1 + pWin_C2\n",
    "print('First Door: Car\\nFinal Door: Switch Doors\\nP(Win Car): '\n",
    "      + str(round(pWin_C*100,1)) + '%\\n\\n')\n",
    "\n",
    "choice = 'stay'\n",
    "pWin_D1, pWin_D2 = carFirst(choice)\n",
    "pWin_D = pWin_D1 + pWin_D2\n",
    "print('First Door: Car\\nFinal Door: Do Not Switch Doors\\nP(Win Car): '\n",
    "      + str(round(pWin_D*100,1)) + '%')\n",
    "\n",
    "print('\\n---------------------------------------')\n",
    "print('Total probability: | Goat-Switch | Goat-Stay | Car-Switch |  Car-Stay  |\\n       ' + str(pWin_A+pWin_B+pWin_C+pWin_D) + '         |    '\n",
    "      + str(np.round(pWin_A, 2)) + '     |    ' + str(pWin_B) + '    |    ' + str(pWin_C) + '     |    ' + str(np.round(pWin_D, 2)) + '    |\\n       '\n",
    "      + str(np.round(pWin_A+pWin_B+pWin_C1+pWin_C2+pWin_D1+pWin_D2, 2)) + '         |    '\n",
    "      + str(np.round(pWin_A, 2)) + '     |    ' + str(pWin_B) + '    |    ' + str(pWin_C1+pWin_C2) + '     | ' + str(np.round(pWin_D1, 2))\n",
    "      + '  ' + str(np.round(pWin_D2, 2)) + ' |')"
   ]
  },
  {
   "cell_type": "markdown",
   "metadata": {},
   "source": [
    "## Establish a Bernoulli Distribution  \n",
    "- A Bernoulli distribution model provides the outcome of trials or experiments with binary results.  \n",
    "- For an event with a binary outcome, 0 or 1, a probability 𝑝 of state 1 is derived."
   ]
  },
  {
   "cell_type": "code",
   "execution_count": 7,
   "metadata": {},
   "outputs": [],
   "source": [
    " def reportSummary(choice, pick):\n",
    "    bern_sample_mean = bern_samples.sum() / bern_samples.size\n",
    "    # Note: there's also a built-in for mean: `bern_samples.mean()`\n",
    "\n",
    "    # define the sample variance\n",
    "    sampVar = (1-bern_sample_mean)\n",
    "    # The expected mean is `p`\n",
    "    print('First Pick: ' + pick + '\\nSecond Pick: ' + choice)\n",
    "    print('-------------------------------------------------')\n",
    "    print('   p = %.3f              variance = %.3f\\n   Sample mean = %.3f    Sample variance = %.3f' % (p, var, bern_sample_mean, sampVar))"
   ]
  },
  {
   "cell_type": "code",
   "execution_count": 8,
   "metadata": {},
   "outputs": [
    {
     "name": "stdout",
     "output_type": "stream",
     "text": [
      "*************************************************\n",
      "MONTY HALL SIMULATION RESULTS - SUMMARY STATISTIC\n",
      "*************************************************\n",
      "\n",
      "First Pick: goat\n",
      "Second Pick: switch\n",
      "-------------------------------------------------\n",
      "   p = 0.667              variance = 0.333\n",
      "   Sample mean = 0.655    Sample variance = 0.345\n",
      "\n",
      "\n",
      "First Pick: goat\n",
      "Second Pick: stay\n",
      "-------------------------------------------------\n",
      "   p = 0.000              variance = 1.000\n",
      "   Sample mean = 0.000    Sample variance = 1.000\n",
      "\n",
      "\n",
      "First Pick: car\n",
      "Second Pick: switch\n",
      "-------------------------------------------------\n",
      "   p = 0.000              variance = 1.000\n",
      "   Sample mean = 0.000    Sample variance = 1.000\n",
      "\n",
      "\n",
      "First Pick: car\n",
      "Second Pick: stay\n",
      "-------------------------------------------------\n",
      "   p = 0.333              variance = 0.667\n",
      "   Sample mean = 0.339    Sample variance = 0.661\n",
      "\n",
      "\n"
     ]
    }
   ],
   "source": [
    "# execute a Bournoulli distribution of the Monty Hall conditional probility problem statement\n",
    "pick_A = ['goat', 'car']\n",
    "pick_B = ['switch', 'stay']     # | 'yesSwitch' | 'noSwitch' |\n",
    "n = 1000     # the number of realizations\n",
    "print('*************************************************')\n",
    "print('MONTY HALL SIMULATION RESULTS - SUMMARY STATISTIC')\n",
    "print('*************************************************\\n')\n",
    "for pick in pick_A:\n",
    "    if pick=='goat':\n",
    "        for prize in pick_B:\n",
    "            p = goatFirst(prize)\n",
    "            var = (1-p)\n",
    "            # Compute `n` random draws\n",
    "            bern_samples = np.random.binomial(1, p, n)\n",
    "            reportSummary(prize, pick)\n",
    "            print('\\n')\n",
    "    if pick=='car':\n",
    "        for prize in pick_B:\n",
    "            p1, p2 = carFirst(prize)\n",
    "            p = p1+p2\n",
    "            var = (1-p)\n",
    "            # Compute `n` random draws\n",
    "            bern_samples = np.random.binomial(1, p, n)\n",
    "            reportSummary(prize, pick)\n",
    "            print('\\n')"
   ]
  },
  {
   "cell_type": "code",
   "execution_count": 9,
   "metadata": {},
   "outputs": [],
   "source": [
    "def plotHisto(data, pick, prize):\n",
    "    plt.hist(data)\n",
    "    plt.title('choose ' + pick.upper() + ', then ' + prize.upper())\n",
    "    plt.ylabel('Counts')\n",
    "    plt.xlabel('Bernoulli Outcome\\nWin Goat = 0.0\\nWin Car = 1.0')"
   ]
  },
  {
   "cell_type": "markdown",
   "metadata": {},
   "source": [
    "## Establish Data Visualization of the Bernoulli Modeling\n",
    "- Using 1,000 realizations, the histogram plots below show clearly the resultant distributions per the Bernoulli model of game show progression.  \n",
    "- Given 2 opportunities to choose from 3 total doors will result in a 0.0% probability outcome in 2 of the 4 combinations (as shown in the 2 middle histograms:  \n",
    "      A) Choosing a goat first, then not switching doors on the next opportunity, and  \n",
    "      B) Choosing the car first, then switching doors at the next opportunity.  \n",
    "   \n",
    "- The remaining 2 outcomes as reflected in the histograms, shows larger frequency occurance for choosing a new door (switching) when the opportunity presents itself:  \n",
    "      A) If the first door has the car behind it and a switch is chosen, then winning a goat is ensured.  \n",
    "      B) If the goat is chosen and then the doors are switched, the probability of winning the car is largest of all outcomes.  \n",
    "- The highest likelihood of winning the car is by using a switching strategy."
   ]
  },
  {
   "cell_type": "code",
   "execution_count": 10,
   "metadata": {},
   "outputs": [
    {
     "data": {
      "image/png": "[encoded data removed]",
      "text/plain": [
       "<Figure size 432x288 with 1 Axes>"
      ]
     },
     "metadata": {},
     "output_type": "display_data"
    },
    {
     "name": "stdout",
     "output_type": "stream",
     "text": [
      "\n",
      "\n"
     ]
    },
    {
     "data": {
      "image/png": "[encoded data removed]",
      "text/plain": [
       "<Figure size 432x288 with 1 Axes>"
      ]
     },
     "metadata": {},
     "output_type": "display_data"
    },
    {
     "name": "stdout",
     "output_type": "stream",
     "text": [
      "\n",
      "\n"
     ]
    },
    {
     "data": {
      "image/png": "[encoded data removed]",
      "text/plain": [
       "<Figure size 432x288 with 1 Axes>"
      ]
     },
     "metadata": {},
     "output_type": "display_data"
    },
    {
     "name": "stdout",
     "output_type": "stream",
     "text": [
      "\n",
      "\n"
     ]
    },
    {
     "data": {
      "image/png": "[encoded data removed]",
      "text/plain": [
       "<Figure size 432x288 with 1 Axes>"
      ]
     },
     "metadata": {},
     "output_type": "display_data"
    },
    {
     "name": "stdout",
     "output_type": "stream",
     "text": [
      "\n",
      "\n"
     ]
    }
   ],
   "source": [
    "pick_A = ['goat', 'car']\n",
    "pick_B = ['switch', 'stay']     # | 'yesSwitch' | 'noSwitch' |\n",
    "n = 1000     # the number of realizations\n",
    "for pick in pick_A:\n",
    "    if pick=='goat':\n",
    "        for prize in pick_B:\n",
    "            p = goatFirst(prize)\n",
    "            # Compute `n` random draws\n",
    "            bern_samples = np.random.binomial(1, p, n)\n",
    "            plotHisto(bern_samples, pick, prize)\n",
    "            plt.show()\n",
    "            print('\\n')\n",
    "    if pick=='car':\n",
    "        for prize in pick_B:\n",
    "            p1, p2 = carFirst(prize)\n",
    "            p = p1+p2\n",
    "            # Compute `n` random draws\n",
    "            bern_samples = np.random.binomial(1, p, n)\n",
    "            plotHisto(bern_samples, pick, prize)\n",
    "            plt.show()\n",
    "            print('\\n')"
   ]
  }
 ],
 "metadata": {
  "kernelspec": {
   "display_name": "Python 3",
   "language": "python",
   "name": "python3"
  },
  "language_info": {
   "codemirror_mode": {
    "name": "ipython",
    "version": 3
   },
   "file_extension": ".py",
   "mimetype": "text/x-python",
   "name": "python",
   "nbconvert_exporter": "python",
   "pygments_lexer": "ipython3",
   "version": "3.7.5"
  },
  "toc": {
   "base_numbering": 1,
   "nav_menu": {},
   "number_sections": true,
   "sideBar": true,
   "skip_h1_title": false,
   "title_cell": "Table of Contents",
   "title_sidebar": "Contents",
   "toc_cell": false,
   "toc_position": {},
   "toc_section_display": true,
   "toc_window_display": true
  }
 },
 "nbformat": 4,
 "nbformat_minor": 2
}
