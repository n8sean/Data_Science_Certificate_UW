{
 "cells": [
  {
   "cell_type": "markdown",
   "metadata": {},
   "source": [
    "# Certificate in Data Science | Assignment 5 |  \n",
    "> University of Washington, Seattle, WA    \n",
    "> December 2019  \n",
    "> N. Hicks"
   ]
  },
  {
   "cell_type": "markdown",
   "metadata": {},
   "source": [
    "## Problem Statement"
   ]
  },
  {
   "cell_type": "markdown",
   "metadata": {},
   "source": [
    "Rooney's client is a tech-manufacturing startup working on a number of automated detection devices for the medical and construction industries. Among the auto-detection devices is a reader that looks at possible carcinoma tissue samples to classify the sample as either benign or malignant. Rooney asks you for help in developing a better algorithm than the current classifier, perhaps a decision tree can help.\n",
    "\n",
    "For this assignment, you will be designing an experiment using decision tree classifiers for the detection of breast cancer and comparing the accuracy.\n",
    "\n",
    "REF: https://archive.ics.uci.edu/ml/datasets/breast+cancer+wisconsin+(original)"
   ]
  },
  {
   "cell_type": "markdown",
   "metadata": {},
   "source": [
    "## Assignment Instructions"
   ]
  },
  {
   "cell_type": "markdown",
   "metadata": {},
   "source": [
    "Using the WI_Breast_Cancer csv file, create a new notebook to build a decision tree classifier that would be able to detect whether a tumor is benign or malignant. Complete the following tasks and answer the questions:\n",
    "\n",
    "- Test both entropy and the gini coefficient. Which performs better and why?\n",
    "- What are the best hyperparameter settings for both?\n",
    "- Visualize both models and see which feature is selected for each criterion. Are they same for both? Why or why not?\n",
    "- Determine the AUC for the best model you can achieve. What are the precision and recal values and which might be the one you want to maximize?\n",
    "- What are the implications of using this type of machine learning algorithm for breast cancer analysis?\n"
   ]
  },
  {
   "cell_type": "markdown",
   "metadata": {},
   "source": [
    "## Import Libraries"
   ]
  },
  {
   "cell_type": "code",
   "execution_count": 1,
   "metadata": {
    "ExecuteTime": {
     "end_time": "2019-12-29T01:52:00.871069Z",
     "start_time": "2019-12-29T01:51:57.771892Z"
    }
   },
   "outputs": [
    {
     "name": "stderr",
     "output_type": "stream",
     "text": [
      "C:\\Users\\NateDogg\\Anaconda3\\lib\\site-packages\\sklearn\\utils\\deprecation.py:144: FutureWarning: The sklearn.neighbors.base module is  deprecated in version 0.22 and will be removed in version 0.24. The corresponding classes / functions should instead be imported from sklearn.neighbors. Anything that cannot be imported from sklearn.neighbors is now part of the private API.\n",
      "  warnings.warn(message, FutureWarning)\n",
      "C:\\Users\\NateDogg\\Anaconda3\\lib\\site-packages\\sklearn\\utils\\deprecation.py:144: FutureWarning: The sklearn.ensemble.bagging module is  deprecated in version 0.22 and will be removed in version 0.24. The corresponding classes / functions should instead be imported from sklearn.ensemble. Anything that cannot be imported from sklearn.ensemble is now part of the private API.\n",
      "  warnings.warn(message, FutureWarning)\n",
      "C:\\Users\\NateDogg\\Anaconda3\\lib\\site-packages\\sklearn\\utils\\deprecation.py:144: FutureWarning: The sklearn.ensemble.base module is  deprecated in version 0.22 and will be removed in version 0.24. The corresponding classes / functions should instead be imported from sklearn.ensemble. Anything that cannot be imported from sklearn.ensemble is now part of the private API.\n",
      "  warnings.warn(message, FutureWarning)\n",
      "C:\\Users\\NateDogg\\Anaconda3\\lib\\site-packages\\sklearn\\utils\\deprecation.py:144: FutureWarning: The sklearn.ensemble.forest module is  deprecated in version 0.22 and will be removed in version 0.24. The corresponding classes / functions should instead be imported from sklearn.ensemble. Anything that cannot be imported from sklearn.ensemble is now part of the private API.\n",
      "  warnings.warn(message, FutureWarning)\n",
      "C:\\Users\\NateDogg\\Anaconda3\\lib\\site-packages\\sklearn\\utils\\deprecation.py:144: FutureWarning: The sklearn.utils.testing module is  deprecated in version 0.22 and will be removed in version 0.24. The corresponding classes / functions should instead be imported from sklearn.utils. Anything that cannot be imported from sklearn.utils is now part of the private API.\n",
      "  warnings.warn(message, FutureWarning)\n",
      "C:\\Users\\NateDogg\\Anaconda3\\lib\\site-packages\\sklearn\\utils\\deprecation.py:144: FutureWarning: The sklearn.metrics.classification module is  deprecated in version 0.22 and will be removed in version 0.24. The corresponding classes / functions should instead be imported from sklearn.metrics. Anything that cannot be imported from sklearn.metrics is now part of the private API.\n",
      "  warnings.warn(message, FutureWarning)\n"
     ]
    }
   ],
   "source": [
    "'''\n",
    "Import Required Libraries\n",
    "'''\n",
    "import pandas as pd\n",
    "import numpy as np\n",
    "# import matplotlib.pyplot as plt\n",
    "# import seaborn as sns\n",
    "import os\n",
    "\n",
    "from sklearn.model_selection import train_test_split\n",
    "\n",
    "from imblearn.over_sampling import SMOTE\n",
    "from collections import Counter\n",
    "\n",
    "from sklearn.tree import DecisionTreeClassifier\n",
    "from sklearn import tree\n",
    "from subprocess import check_call\n",
    "from IPython.display import Image\n",
    "\n",
    "from sklearn.metrics import accuracy_score\n",
    "from sklearn.metrics import confusion_matrix\n",
    "\n",
    "from sklearn.metrics import roc_auc_score\n",
    "from sklearn.metrics import classification_report"
   ]
  },
  {
   "cell_type": "markdown",
   "metadata": {},
   "source": [
    "## Establish the Datatset"
   ]
  },
  {
   "cell_type": "markdown",
   "metadata": {},
   "source": [
    "### Functions for Scripting"
   ]
  },
  {
   "cell_type": "code",
   "execution_count": 2,
   "metadata": {
    "ExecuteTime": {
     "end_time": "2019-12-29T01:52:01.218089Z",
     "start_time": "2019-12-29T01:52:01.209088Z"
    },
    "code_folding": [
     4
    ]
   },
   "outputs": [],
   "source": [
    "'''\n",
    "Retrieve the prescribed dataset.\n",
    "RETURN: pd.DataFrame\n",
    "'''\n",
    "def fetch_data(path, file):\n",
    "    try:\n",
    "        # import the file to a dataframe\n",
    "        _df = pd.read_csv(path + file, sep=' ', header=None)\n",
    "        print('REMOTE FILE USED')\n",
    "    except:\n",
    "        # Local Copy -- Link would not permit access\n",
    "        path = os.getcwd()\n",
    "        print('LOCAL FILE USED')\n",
    "        # import the file to a dataframe\n",
    "        _df = pd.read_csv(os.path.join(path, file), sep=',', header=None)\n",
    "    \n",
    "    return _df"
   ]
  },
  {
   "cell_type": "code",
   "execution_count": 3,
   "metadata": {
    "ExecuteTime": {
     "end_time": "2019-12-29T01:52:02.550146Z",
     "start_time": "2019-12-29T01:52:02.526145Z"
    },
    "code_folding": [
     0
    ]
   },
   "outputs": [],
   "source": [
    "'''\n",
    "Tools for viewing a dataset\n",
    "INPUT: pd.DataFrame\n",
    "OUTPUT: print the results\n",
    "'''\n",
    "def print_data_attrs(_df):\n",
    "    print(_df.info())          # gives the structure of the data (rows/cols)\n",
    "    print('\\nDATASET HEAD\\n{}'.format(_df.head()))          # shows the top five data entries\n",
    "    print('\\nDATASET DESCRIBE\\n{}'.format(_df.describe()))      # gives the statistics on the data in the DF"
   ]
  },
  {
   "cell_type": "code",
   "execution_count": 4,
   "metadata": {
    "ExecuteTime": {
     "end_time": "2019-12-29T01:52:02.907167Z",
     "start_time": "2019-12-29T01:52:02.899166Z"
    },
    "code_folding": [
     6
    ]
   },
   "outputs": [],
   "source": [
    "'''\n",
    "Describe all unique attributes of all dataset features\n",
    "INPUT: pd.DataFrame\n",
    "RETURN: pd.Series; print unique values\n",
    "'''\n",
    "def get_unique_vals(_df):\n",
    "    features_all = _df.columns\n",
    "    print('THE UNIQUE VALUES OF ALL DATASET FEATURES')\n",
    "    print('=========================================')\n",
    "    for feature in features_all:\n",
    "        val = _df[feature].unique()\n",
    "        print('\\n' + str(feature) + ' ({}):\\n{}'.format(len(val), val))"
   ]
  },
  {
   "cell_type": "code",
   "execution_count": 5,
   "metadata": {
    "ExecuteTime": {
     "end_time": "2019-12-29T01:52:03.522202Z",
     "start_time": "2019-12-29T01:52:03.514202Z"
    },
    "code_folding": [
     5
    ]
   },
   "outputs": [],
   "source": [
    "'''\n",
    "Convert and update a feature column to numeric dtype\n",
    "INPUT: _df|a DataFrame, attributes|as a list of column names\n",
    "RETURN: pd.DataFrame\n",
    "'''\n",
    "def convert_attribute_to_numeric(_df, attributes):\n",
    "    print('OBJECT COLUMNS CONVERTED TO NUMERIC DTYPES')\n",
    "    print('==========================================')\n",
    "    for attr in attributes:\n",
    "        val = _df[attr].dtype\n",
    "        if  val == 'object':\n",
    "            print('({}) {}'.format(attr, _df[attr].dtype))\n",
    "            _df[attr] = pd.to_numeric(_df[attr])\n",
    "    \n",
    "    return _df"
   ]
  },
  {
   "cell_type": "code",
   "execution_count": 6,
   "metadata": {
    "ExecuteTime": {
     "end_time": "2019-12-29T01:52:04.032231Z",
     "start_time": "2019-12-29T01:52:04.027231Z"
    },
    "code_folding": [
     6
    ]
   },
   "outputs": [],
   "source": [
    "'''\n",
    "Generate an accuracy Score.\n",
    "INPUT: y_test|the test target, y_pred|the predicted scores.\n",
    "RETURN: prints the Accuracy Score.\n",
    "'''\n",
    "def print_scores(y_test, y_pred):\n",
    "    print(\"Accuracy: {}%\".format(accuracy_score(y_test, y_pred)*100))"
   ]
  },
  {
   "cell_type": "code",
   "execution_count": 7,
   "metadata": {
    "ExecuteTime": {
     "end_time": "2019-12-29T01:52:04.517259Z",
     "start_time": "2019-12-29T01:52:04.510258Z"
    },
    "code_folding": [
     6
    ]
   },
   "outputs": [],
   "source": [
    "'''\n",
    "Establish an appropriately labeled confusion matrix  \n",
    "INPUT: y_test|test target, y_pred| test prediction, pos|positivie outcome, neg|negative outcome\n",
    "RETURN: pd.DataFrame\n",
    "'''\n",
    "def conf_matrix(y_test, y_pred, pos, neg):\n",
    "    return pd.DataFrame(\n",
    "        confusion_matrix(y_test, y_pred),\n",
    "        columns=['Predicted '+neg, 'Predicted '+pos],\n",
    "        index=['True '+neg, 'True '+pos]\n",
    "    )"
   ]
  },
  {
   "cell_type": "code",
   "execution_count": 8,
   "metadata": {
    "ExecuteTime": {
     "end_time": "2019-12-29T01:52:05.058290Z",
     "start_time": "2019-12-29T01:52:05.050289Z"
    },
    "code_folding": [
     5
    ]
   },
   "outputs": [],
   "source": [
    "'''\n",
    "Create a visualization of a decision tree -- must install graphviz and pydot2 packages for this to work\n",
    "INPUT: model|the decision tree model, labels|the column labels as type 'list'\n",
    "RETURNS: image file of the decision tree\n",
    "'''\n",
    "def tree_visualize(model, labels, file_out):\n",
    "    dotfile = open(file_out + '.dot', 'w')\n",
    "    tree.export_graphviz(model, out_file=dotfile, feature_names=labels)\n",
    "    dotfile.close()\n",
    "\n",
    "    # Convert the dot file to a png -- optional method\n",
    "    #import os\n",
    "#     os.system(\"dot -Tpng dtree.dot -o dtree.png\")\n",
    "\n",
    "    # Convert the dot file to a png\n",
    "    check_call(['dot','-Tpng', file_out + '.dot', '-o', file_out + '.png'])"
   ]
  },
  {
   "cell_type": "code",
   "execution_count": 9,
   "metadata": {
    "ExecuteTime": {
     "end_time": "2019-12-29T01:52:05.592320Z",
     "start_time": "2019-12-29T01:52:05.565319Z"
    },
    "code_folding": [
     4
    ]
   },
   "outputs": [],
   "source": [
    "'''\n",
    "Derive the hyperparameter results of a decision tree via looping the given parameters\n",
    "RETURN: output the model accuracies\n",
    "'''\n",
    "def tune_tree(print_label, leaf=None, depth=None, leaf2=1, split=2):\n",
    "    print('====================')\n",
    "    print('ENTROPY COEFFICIENTS - {}'.format(print_label))\n",
    "    print('====================')\n",
    "    model_ent = DecisionTreeClassifier(criterion='entropy',\n",
    "                                       splitter='best',\n",
    "                                       max_depth=depth,\n",
    "                                       min_samples_split=split,\n",
    "                                       max_leaf_nodes=leaf,\n",
    "                                       min_samples_leaf=leaf2\n",
    "                                       ).fit(X_train, y_train) \n",
    "    y_ent_pred = model_ent.predict(X_test)\n",
    "    print_scores(y_test, y_ent_pred)\n",
    "\n",
    "    print('=================')\n",
    "    print('GINI COEFFICIENTS -    {}'.format(print_label))\n",
    "    print('=================')\n",
    "    model_gini = DecisionTreeClassifier(criterion='gini',\n",
    "                                        splitter='best',\n",
    "                                        max_depth=depth,\n",
    "                                        min_samples_split=split,\n",
    "                                        max_leaf_nodes=leaf,\n",
    "                                        min_samples_leaf=leaf2\n",
    "                                        ).fit(X_train, y_train) \n",
    "    y_gini_pred = model_gini.predict(X_test)\n",
    "    print_scores(y_test, y_gini_pred)\n",
    "    print('\\n')"
   ]
  },
  {
   "cell_type": "markdown",
   "metadata": {},
   "source": [
    "### Import the Data"
   ]
  },
  {
   "cell_type": "code",
   "execution_count": 10,
   "metadata": {
    "ExecuteTime": {
     "end_time": "2019-12-29T01:52:07.187381Z",
     "start_time": "2019-12-29T01:52:06.935367Z"
    }
   },
   "outputs": [
    {
     "name": "stdout",
     "output_type": "stream",
     "text": [
      "LOCAL FILE USED\n"
     ]
    }
   ],
   "source": [
    "# import the sensors dataset\n",
    "path = 'https://library.startlearninglabs.uw.edu/DATASCI420/2019/Datasets/'   # check this repository first; else use current working directory\n",
    "file = 'WI_Breast_Cancer.csv'\n",
    "cancer_df = fetch_data(path, file)"
   ]
  },
  {
   "cell_type": "markdown",
   "metadata": {},
   "source": [
    "### Wrangle the Data"
   ]
  },
  {
   "cell_type": "code",
   "execution_count": 11,
   "metadata": {
    "ExecuteTime": {
     "end_time": "2019-12-29T01:52:08.429436Z",
     "start_time": "2019-12-29T01:52:08.299429Z"
    },
    "scrolled": true
   },
   "outputs": [
    {
     "name": "stdout",
     "output_type": "stream",
     "text": [
      "<class 'pandas.core.frame.DataFrame'>\n",
      "RangeIndex: 709 entries, 0 to 708\n",
      "Data columns (total 11 columns):\n",
      "0     709 non-null object\n",
      "1     702 non-null object\n",
      "2     702 non-null float64\n",
      "3     701 non-null float64\n",
      "4     701 non-null float64\n",
      "5     701 non-null float64\n",
      "6     701 non-null float64\n",
      "7     701 non-null float64\n",
      "8     701 non-null float64\n",
      "9     701 non-null float64\n",
      "10    701 non-null object\n",
      "dtypes: float64(8), object(3)\n",
      "memory usage: 61.1+ KB\n",
      "None\n",
      "\n",
      "DATASET HEAD\n",
      "        0  1    2    3    4    5    6     7    8    9  10\n",
      "0  1000025  2  5.0  1.0  1.0  1.0  2.0   1.0  3.0  1.0  1\n",
      "1  1002945  2  5.0  4.0  4.0  5.0  7.0  10.0  3.0  2.0  1\n",
      "2  1015425  2  3.0  1.0  1.0  1.0  2.0   2.0  3.0  1.0  1\n",
      "3  1016277  2  6.0  8.0  8.0  1.0  3.0   4.0  3.0  7.0  1\n",
      "4  1017023  2  4.0  1.0  1.0  3.0  2.0   1.0  3.0  1.0  1\n",
      "\n",
      "DATASET DESCRIBE\n",
      "                 2           3          4           5           6           7  \\\n",
      "count   702.000000  701.000000  701.00000  701.000000  701.000000  701.000000   \n",
      "mean      7.263533    3.154066    3.21826    2.813124    3.226819    3.456491   \n",
      "std      75.031332    3.069053    2.97456    2.858201    2.220340    3.637881   \n",
      "min       1.000000    1.000000    1.00000    1.000000    1.000000    0.000000   \n",
      "25%       2.000000    1.000000    1.00000    1.000000    2.000000    1.000000   \n",
      "50%       4.000000    1.000000    1.00000    1.000000    2.000000    1.000000   \n",
      "75%       6.000000    5.000000    5.00000    4.000000    4.000000    5.000000   \n",
      "max    1991.000000   10.000000   10.00000   10.000000   10.000000   10.000000   \n",
      "\n",
      "                8           9  \n",
      "count  701.000000  701.000000  \n",
      "mean     3.447932    2.877318  \n",
      "std      2.447550    3.061150  \n",
      "min      1.000000    1.000000  \n",
      "25%      2.000000    1.000000  \n",
      "50%      3.000000    1.000000  \n",
      "75%      5.000000    4.000000  \n",
      "max     10.000000   10.000000  \n"
     ]
    }
   ],
   "source": [
    "# return the basic dataset perspectives\n",
    "print_data_attrs(cancer_df)"
   ]
  },
  {
   "cell_type": "code",
   "execution_count": 12,
   "metadata": {
    "ExecuteTime": {
     "end_time": "2019-12-29T01:52:21.322684Z",
     "start_time": "2019-12-29T01:52:21.304683Z"
    }
   },
   "outputs": [
    {
     "name": "stdout",
     "output_type": "stream",
     "text": [
      "THE UNIQUE VALUES OF ALL DATASET FEATURES\n",
      "=========================================\n",
      "\n",
      "0 (654):\n",
      "['1000025' '1002945' '1015425' '1016277' '1017023' '1017122' '1018099'\n",
      " '1018561' '1033078' '1035283' '1036172' '1041801' '1043999' '1044572'\n",
      " '1047630' '1048672' '1049815' '1050670' '1050718' '1054590' '1054593'\n",
      " '1056784' '1057013' '1059552' '1065726' '1066373' '1066979' '1067444'\n",
      " '1070935' '1071760' '1072179' '1074610' '1075123' '1079304' '1080185'\n",
      " '1081791' '1084584' '1091262' '1096800' '1099510' '1100524' '1102573'\n",
      " '1103608' '1103722' '1105257' '1105524' '1106095' '1106829' '1108370'\n",
      " '1108449' '1110102' '1110503' '1110524' '1111249' '1112209' '1113038'\n",
      " '1113483' '1113906' '1115282' '1115293' '1116116' '1116132' '1116192'\n",
      " '1116998' '1117152' '1118039' '1120559' '1121732' '1121919' '1123061'\n",
      " '1124651' '1125035' '1126417' '1131294' '1132347' '1133041' '1133136'\n",
      " '1136142' '1137156' '1143978' '1147044' '1147699' '1147748' '1148278'\n",
      " '1148873' '1152331' '1155546' '1156272' '1156948' '1157734' '1158247'\n",
      " '1160476' '1164066' '1165297' '1165790' '1165926' '1166630' '1166654'\n",
      " '1167439' '1167471' '1168359' '1168736' '1169049' '1170419' '1170420'\n",
      " '1171710' '1171795' '1171845' '1172152' '1173216' '1173235' '1173347'\n",
      " '1173509' '1173514' '1173681' '1174057' '1174131' '1174428' '1175937'\n",
      " '1176406' '1176881' '1177027' '1177399' '1177512' '1178580' '1179818'\n",
      " '1180194' '1180523' '1180831' '1181356' '1182404' '1182410' '1183240'\n",
      " '1183246' '1183516' '1183911' '1183983' '1184184' '1184241' '1184840'\n",
      " '1185609' '1185610' '1187457' '1187805' '1188472' '1189266' '1189286'\n",
      " '1190394' '1190485' '1192325' '1193091' '1193210' '1193683' '1196295'\n",
      " '1196915' '1197080' '1197270' '1197440' '1197510' '1197979' '1197993'\n",
      " '1198128' '1198641' '1199219' '1199731' '1199983' '1200772' '1200847'\n",
      " '1200892' '1200952' '1201834' '1201936' '1202125' '1202812' '1203096'\n",
      " '1204242' '1204898' '1205138' '1205579' '1206089' '1206695' '1206841'\n",
      " '1207986' '1208301' '1210963' '1211202' '1212232' '1212251' '1212422'\n",
      " '1213375' '1213383' '1214092' '1214556' '1214966' '1216694' '1216947'\n",
      " '1217051' '1217264' '1218105' '1218741' '1218860' '1219406' '1219525'\n",
      " '1219859' '1220330' '1221863' '1222047' '1222936' '1223282' '1223426'\n",
      " '1223793' '1223967' '1224329' '1225799' '1226012' '1226612' '1227210'\n",
      " '1227244' '1227481' '1228152' '1228311' '1230175' '1230688' '1231387'\n",
      " '1231706' '1232225' '1236043' '1241232' '1241559' '1241679' '1242364'\n",
      " '1243256' '1270479' '1276091' '1277018' '128059' '1285531' '1287775'\n",
      " '144888' '145447' '167528' '169356' '183913' '191250' '242970' '255644'\n",
      " '263538' '274137' '303213' '314428' '320675' '324427' '385103' '390840'\n",
      " '411453' '428903' '431495' '432809' '434518' '452264' '456282' '476903'\n",
      " '486283' '486662' '488173' '492268' '508234' '527363' '529329' '535331'\n",
      " '543558' '555977' '560680' '561477' '563649' '601265' '606140' '606722'\n",
      " '616240' '61634' '625201' '63375' '635844' '636130' '640744' '646904'\n",
      " '653777' '659642' '666090' '666942' '667204' '673637' '684955' '688033'\n",
      " '691628' '693702' '704097' '704168' '706426' '709287' '718641' '721482'\n",
      " '730881' '733639' '733823' '740492' '743348' '752904' '756136' '760001'\n",
      " '760239' '76389' '764974' '770066' '785208' '785615' '792744' '797327'\n",
      " '798429' '806423' '809912' '810104' '814265' '814911' '822829' '826923'\n",
      " '830690' '831268' '832226' '832567' '836433' '837082' '846832' '850831'\n",
      " '855524' '857774' '859164' '859350' '866325' '873549' '877291' '877943'\n",
      " '888169' '888523' '896404' '897172' '95719'\n",
      " '##### Group 2 : 70 points: 57B 13M (October 1989)' '160296' '342245'\n",
      " '428598' '492561' '493452' '521441' '636437' '640712' '654244' '657753'\n",
      " '685977' '805448' '846423' '1002504' '1022257' '1026122' '1071084'\n",
      " '1080233' '1114570' '1116715' '1131411' '1151734' '1156017' '1158405'\n",
      " '1168278' '1176187' '1196263' '1196475' '1206314' '1211265' '1213784'\n",
      " '1223003' '1223306' '1223543' '1229929' '1231853' '1234554' '1236837'\n",
      " '1237674' '1238021' '1238464' '1238633' '1238915' '1238948' '1239232'\n",
      " '1239347' '1239967' '1240337' '1253505' '1255384' '1257200' '1257648'\n",
      " '1257815' '1257938' '1258549' '1258556' '1266154' '1272039' '1277629'\n",
      " '1293439' '1294562' '1295186'\n",
      " '##### Group 3 : 31 points: 22B 9M (February 1990)' '527337' '558538'\n",
      " '566509' '608157' '677910' '734111' '780555' '827627' '1049837' '1058849'\n",
      " '1193544' '1201870' '1202253' '1227081' '1230994' '1238410' '1246562'\n",
      " '1257470' '1259008' '1266124' '1267898' '1268313' '1268804' '1280258'\n",
      " '1293966' '1296572' '1298416' '1299596'\n",
      " '##### Group 4 : 17 points: 14B 3M (April 1990)' '1181685' '1211594'\n",
      " '1238777' '1257608' '1269574' '1277145' '1287282' '1296025' '1296263'\n",
      " '1296593' '1299161' '1301945' '1302428' '1318169' '474162' '787451'\n",
      " '##### Group 5 : 48 points: 36B 12M (August 1990)' '1002025' '1070522'\n",
      " '1073960' '1076352' '1084139' '1119189' '1133991' '1142706' '1155967'\n",
      " '1170945' '1181567' '1204558' '1217952' '1224565' '1238186' '1253917'\n",
      " '1265899' '1268766' '1277268' '1286943' '1295508' '1297327' '1297522'\n",
      " '1298360' '1299924' '1299994' '1304595' '1306282' '1313325' '1320077'\n",
      " '1320304' '1330439' '333093' '369565' '412300' '672113' '749653' '769612'\n",
      " '807657' '8233704' '837480' '867392' '869828'\n",
      " '##### Group 6: 49 Points: 40B  9M (December 7'\n",
      " '##### by dropping 2 unsatisfactorily   measured points 803531 &'\n",
      " '##### 1268952' '1043068' '1056171' '1061990' '1113061' '1135090'\n",
      " '1145420' '1158157' '1171578' '1174841' '1184586' '1186936' '1197527'\n",
      " '1222464' '1240603' '1241035' '1287971' '1289391' '1306339' '1313658'\n",
      " '1313982' '1321264' '1321321' '1321348' '1321931' '1321942' '1328331'\n",
      " '1328755' '1331405' '1331412' '1333104' '1334071' '1343068' '1343374'\n",
      " '1344121' '142932' '183936' '324382' '378275' '690557' '695091' '695219'\n",
      " '824249' '871549' '878358'\n",
      " '##### Group 7: 31 Points: 16B  15M (June 1991)' '1107684' '1115762'\n",
      " '1217717' '1239420' '1254538' '1261751' '1268275' '1272166' '1294261'\n",
      " '1295529' '1298484' '1311875' '1315506' '1320141' '1325309' '1333063'\n",
      " '1333495' '1334659' '1336798' '1344449' '1350568' '1352663' '188336'\n",
      " '352431' '353098' '557583' '636375' '736150' '803531'\n",
      " '##### Group 8: 86 Points: 72B  14M  (November 1991)' '1016634' '1031608'\n",
      " '1041043' '1042252' '1057067' '1073836' '1083817' '1096352' '1140597'\n",
      " '1149548' '1174009' '1183596' '1190386' '1190546' '1213273' '1218982'\n",
      " '1225382' '1235807' '1253955' '1257366' '1260659' '1268952' '1275807'\n",
      " '1277792' '1285722' '1288608' '1290203' '1294413' '1303489' '1311033'\n",
      " '1311108' '1315807' '1318671' '1319609' '1323477' '1324572' '1324681'\n",
      " '1325159' '1326892' '1330361' '1333877' '1334015' '1334667' '1339781'\n",
      " '13454352' '1345452' '1345593' '1347749' '1347943' '1348851' '1350319'\n",
      " '1350423' '1352848' '1353092' '1354840' '1355260' '1365075' '1365328'\n",
      " '1368267' '1368273' '1368882' '1369821' '1371026' '1371920' '466906'\n",
      " '534555' '536708' '566346' '603148' '654546' '714039' '763235' '776715'\n",
      " '841769' '888820' '897471']\n",
      "\n",
      "1 (4):\n",
      "['2' '4' nan ' 1990; Updated Jan 8']\n",
      "\n",
      "2 (12):\n",
      "[5.000e+00 3.000e+00 6.000e+00 4.000e+00 8.000e+00 1.000e+00 2.000e+00\n",
      " 7.000e+00 1.000e+01 9.000e+00       nan 1.991e+03]\n",
      "\n",
      "3 (11):\n",
      "[ 1.  4.  8. 10.  2.  3.  7.  5.  6.  9. nan]\n",
      "\n",
      "4 (11):\n",
      "[ 1.  4.  8. 10.  2.  3.  5.  6.  7.  9. nan]\n",
      "\n",
      "5 (11):\n",
      "[ 1.  5.  3.  8. 10.  4.  6.  2.  9.  7. nan]\n",
      "\n",
      "6 (11):\n",
      "[ 2.  7.  3.  1.  6.  4.  5.  8. 10.  9. nan]\n",
      "\n",
      "7 (12):\n",
      "[ 1. 10.  2.  4.  3.  9.  7.  0.  5.  8.  6. nan]\n",
      "\n",
      "8 (11):\n",
      "[ 3.  9.  1.  2.  4.  5.  7.  8.  6. 10. nan]\n",
      "\n",
      "9 (11):\n",
      "[ 1.  2.  7.  4.  5.  3. 10.  6.  9.  8. nan]\n",
      "\n",
      "10 (12):\n",
      "['1' '5' '4' '2' '3' '7' '10' '8' '6' nan\n",
      " '3) <-----Reappears in Group 8 as:' '3 ']\n"
     ]
    }
   ],
   "source": [
    "# establish the unique values of all attributes individualy\n",
    "get_unique_vals(cancer_df)"
   ]
  },
  {
   "cell_type": "code",
   "execution_count": 13,
   "metadata": {
    "ExecuteTime": {
     "end_time": "2019-12-26T23:52:17.565243Z",
     "start_time": "2019-12-26T23:52:17.557242Z"
    }
   },
   "outputs": [],
   "source": [
    "# based upon the prior result above:\n",
    "# Drop rows with 'NaN' elements.\n",
    "cancer_df = cancer_df.dropna() "
   ]
  },
  {
   "cell_type": "code",
   "execution_count": 14,
   "metadata": {
    "ExecuteTime": {
     "end_time": "2019-12-26T23:52:17.584244Z",
     "start_time": "2019-12-26T23:52:17.572243Z"
    }
   },
   "outputs": [],
   "source": [
    "# remove rows that contain the specified string\n",
    "cancer_df = cancer_df[~cancer_df[0].str.contains('#####')]\n",
    "cancer_df = cancer_df[~cancer_df[10].str.contains('<-----')]"
   ]
  },
  {
   "cell_type": "code",
   "execution_count": 15,
   "metadata": {
    "ExecuteTime": {
     "end_time": "2019-12-26T23:52:17.707251Z",
     "start_time": "2019-12-26T23:52:17.587244Z"
    }
   },
   "outputs": [],
   "source": [
    "# replace all '3 ' values with '3' values\n",
    "cancer_df[10] = cancer_df[10].replace('3 ', '3')\n",
    "\n",
    "# for the target attribute, replace '2|benign' with '0', and '4|malignant' with '1' \n",
    "cancer_df[1] = cancer_df[1].replace('2', '0')\n",
    "cancer_df[1] = cancer_df[1].replace('4', '1')"
   ]
  },
  {
   "cell_type": "code",
   "execution_count": 16,
   "metadata": {
    "ExecuteTime": {
     "end_time": "2019-12-26T23:52:17.760254Z",
     "start_time": "2019-12-26T23:52:17.738252Z"
    }
   },
   "outputs": [
    {
     "name": "stdout",
     "output_type": "stream",
     "text": [
      "THE UNIQUE VALUES OF ALL DATASET FEATURES\n",
      "=========================================\n",
      "\n",
      "0 (645):\n",
      "['1000025' '1002945' '1015425' '1016277' '1017023' '1017122' '1018099'\n",
      " '1018561' '1033078' '1035283' '1036172' '1041801' '1043999' '1044572'\n",
      " '1047630' '1048672' '1049815' '1050670' '1050718' '1054590' '1054593'\n",
      " '1056784' '1057013' '1059552' '1065726' '1066373' '1066979' '1067444'\n",
      " '1070935' '1071760' '1072179' '1074610' '1075123' '1079304' '1080185'\n",
      " '1081791' '1084584' '1091262' '1096800' '1099510' '1100524' '1102573'\n",
      " '1103608' '1103722' '1105257' '1105524' '1106095' '1106829' '1108370'\n",
      " '1108449' '1110102' '1110503' '1110524' '1111249' '1112209' '1113038'\n",
      " '1113483' '1113906' '1115282' '1115293' '1116116' '1116132' '1116192'\n",
      " '1116998' '1117152' '1118039' '1120559' '1121732' '1121919' '1123061'\n",
      " '1124651' '1125035' '1126417' '1131294' '1132347' '1133041' '1133136'\n",
      " '1136142' '1137156' '1143978' '1147044' '1147699' '1147748' '1148278'\n",
      " '1148873' '1152331' '1155546' '1156272' '1156948' '1157734' '1158247'\n",
      " '1160476' '1164066' '1165297' '1165790' '1165926' '1166630' '1166654'\n",
      " '1167439' '1167471' '1168359' '1168736' '1169049' '1170419' '1170420'\n",
      " '1171710' '1171795' '1171845' '1172152' '1173216' '1173235' '1173347'\n",
      " '1173509' '1173514' '1173681' '1174057' '1174131' '1174428' '1175937'\n",
      " '1176406' '1176881' '1177027' '1177399' '1177512' '1178580' '1179818'\n",
      " '1180194' '1180523' '1180831' '1181356' '1182404' '1182410' '1183240'\n",
      " '1183246' '1183516' '1183911' '1183983' '1184184' '1184241' '1184840'\n",
      " '1185609' '1185610' '1187457' '1187805' '1188472' '1189266' '1189286'\n",
      " '1190394' '1190485' '1192325' '1193091' '1193210' '1193683' '1196295'\n",
      " '1196915' '1197080' '1197270' '1197440' '1197510' '1197979' '1197993'\n",
      " '1198128' '1198641' '1199219' '1199731' '1199983' '1200772' '1200847'\n",
      " '1200892' '1200952' '1201834' '1201936' '1202125' '1202812' '1203096'\n",
      " '1204242' '1204898' '1205138' '1205579' '1206089' '1206695' '1206841'\n",
      " '1207986' '1208301' '1210963' '1211202' '1212232' '1212251' '1212422'\n",
      " '1213375' '1213383' '1214092' '1214556' '1214966' '1216694' '1216947'\n",
      " '1217051' '1217264' '1218105' '1218741' '1218860' '1219406' '1219525'\n",
      " '1219859' '1220330' '1221863' '1222047' '1222936' '1223282' '1223426'\n",
      " '1223793' '1223967' '1224329' '1225799' '1226012' '1226612' '1227210'\n",
      " '1227244' '1227481' '1228152' '1228311' '1230175' '1230688' '1231387'\n",
      " '1231706' '1232225' '1236043' '1241232' '1241559' '1241679' '1242364'\n",
      " '1243256' '1270479' '1276091' '1277018' '128059' '1285531' '1287775'\n",
      " '144888' '145447' '167528' '169356' '183913' '191250' '242970' '255644'\n",
      " '263538' '274137' '303213' '314428' '320675' '324427' '385103' '390840'\n",
      " '411453' '428903' '431495' '432809' '434518' '452264' '456282' '476903'\n",
      " '486283' '486662' '488173' '492268' '508234' '527363' '529329' '535331'\n",
      " '543558' '555977' '560680' '561477' '563649' '601265' '606140' '606722'\n",
      " '616240' '61634' '625201' '63375' '635844' '636130' '640744' '646904'\n",
      " '653777' '659642' '666090' '666942' '667204' '673637' '684955' '688033'\n",
      " '691628' '693702' '704097' '704168' '706426' '709287' '718641' '721482'\n",
      " '730881' '733639' '733823' '740492' '743348' '752904' '756136' '760001'\n",
      " '760239' '76389' '764974' '770066' '785208' '785615' '792744' '797327'\n",
      " '798429' '806423' '809912' '810104' '814265' '814911' '822829' '826923'\n",
      " '830690' '831268' '832226' '832567' '836433' '837082' '846832' '850831'\n",
      " '855524' '857774' '859164' '859350' '866325' '873549' '877291' '877943'\n",
      " '888169' '888523' '896404' '897172' '95719' '160296' '342245' '428598'\n",
      " '492561' '493452' '521441' '636437' '640712' '654244' '657753' '685977'\n",
      " '805448' '846423' '1002504' '1022257' '1026122' '1071084' '1080233'\n",
      " '1114570' '1116715' '1131411' '1151734' '1156017' '1158405' '1168278'\n",
      " '1176187' '1196263' '1196475' '1206314' '1211265' '1213784' '1223003'\n",
      " '1223306' '1223543' '1229929' '1231853' '1234554' '1236837' '1237674'\n",
      " '1238021' '1238464' '1238633' '1238915' '1238948' '1239232' '1239347'\n",
      " '1239967' '1240337' '1253505' '1255384' '1257200' '1257648' '1257815'\n",
      " '1257938' '1258549' '1258556' '1266154' '1272039' '1277629' '1293439'\n",
      " '1294562' '1295186' '527337' '558538' '566509' '608157' '677910' '734111'\n",
      " '780555' '827627' '1049837' '1058849' '1193544' '1201870' '1202253'\n",
      " '1227081' '1230994' '1238410' '1246562' '1257470' '1259008' '1266124'\n",
      " '1267898' '1268313' '1268804' '1280258' '1293966' '1296572' '1298416'\n",
      " '1299596' '1181685' '1211594' '1238777' '1257608' '1269574' '1277145'\n",
      " '1287282' '1296025' '1296263' '1296593' '1299161' '1301945' '1302428'\n",
      " '1318169' '474162' '787451' '1002025' '1070522' '1073960' '1076352'\n",
      " '1084139' '1119189' '1133991' '1142706' '1155967' '1170945' '1181567'\n",
      " '1204558' '1217952' '1224565' '1238186' '1253917' '1265899' '1268766'\n",
      " '1277268' '1286943' '1295508' '1297327' '1297522' '1298360' '1299924'\n",
      " '1299994' '1304595' '1306282' '1313325' '1320077' '1320304' '1330439'\n",
      " '333093' '369565' '412300' '672113' '749653' '769612' '807657' '8233704'\n",
      " '837480' '867392' '869828' '1043068' '1056171' '1061990' '1113061'\n",
      " '1135090' '1145420' '1158157' '1171578' '1174841' '1184586' '1186936'\n",
      " '1197527' '1222464' '1240603' '1241035' '1287971' '1289391' '1306339'\n",
      " '1313658' '1313982' '1321264' '1321321' '1321348' '1321931' '1321942'\n",
      " '1328331' '1328755' '1331405' '1331412' '1333104' '1334071' '1343068'\n",
      " '1343374' '1344121' '142932' '183936' '324382' '378275' '690557' '695091'\n",
      " '695219' '824249' '871549' '878358' '1107684' '1115762' '1217717'\n",
      " '1239420' '1254538' '1261751' '1268275' '1272166' '1294261' '1295529'\n",
      " '1298484' '1311875' '1315506' '1320141' '1325309' '1333063' '1333495'\n",
      " '1334659' '1336798' '1344449' '1350568' '1352663' '188336' '352431'\n",
      " '353098' '557583' '636375' '736150' '803531' '1016634' '1031608'\n",
      " '1041043' '1042252' '1057067' '1073836' '1083817' '1096352' '1140597'\n",
      " '1149548' '1174009' '1183596' '1190386' '1190546' '1213273' '1218982'\n",
      " '1225382' '1235807' '1253955' '1257366' '1260659' '1268952' '1275807'\n",
      " '1277792' '1285722' '1288608' '1290203' '1294413' '1303489' '1311033'\n",
      " '1311108' '1315807' '1318671' '1319609' '1323477' '1324572' '1324681'\n",
      " '1325159' '1326892' '1330361' '1333877' '1334015' '1334667' '1339781'\n",
      " '13454352' '1345452' '1345593' '1347749' '1347943' '1348851' '1350319'\n",
      " '1350423' '1352848' '1353092' '1354840' '1355260' '1365075' '1365328'\n",
      " '1368267' '1368273' '1368882' '1369821' '1371026' '1371920' '466906'\n",
      " '534555' '536708' '566346' '603148' '654546' '714039' '763235' '776715'\n",
      " '841769' '888820' '897471']\n",
      "\n",
      "1 (2):\n",
      "['0' '1']\n",
      "\n",
      "2 (10):\n",
      "[ 5.  3.  6.  4.  8.  1.  2.  7. 10.  9.]\n",
      "\n",
      "3 (10):\n",
      "[ 1.  4.  8. 10.  2.  3.  7.  5.  6.  9.]\n",
      "\n",
      "4 (10):\n",
      "[ 1.  4.  8. 10.  2.  3.  5.  6.  7.  9.]\n",
      "\n",
      "5 (10):\n",
      "[ 1.  5.  3.  8. 10.  4.  6.  2.  9.  7.]\n",
      "\n",
      "6 (10):\n",
      "[ 2.  7.  3.  1.  6.  4.  5.  8. 10.  9.]\n",
      "\n",
      "7 (11):\n",
      "[ 1. 10.  2.  4.  3.  9.  7.  0.  5.  8.  6.]\n",
      "\n",
      "8 (10):\n",
      "[ 3.  9.  1.  2.  4.  5.  7.  8.  6. 10.]\n",
      "\n",
      "9 (10):\n",
      "[ 1.  2.  7.  4.  5.  3. 10.  6.  9.  8.]\n",
      "\n",
      "10 (9):\n",
      "['1' '5' '4' '2' '3' '7' '10' '8' '6']\n"
     ]
    }
   ],
   "source": [
    "# establish the unique values of all attributes individualy\n",
    "get_unique_vals(cancer_df)"
   ]
  },
  {
   "cell_type": "code",
   "execution_count": 17,
   "metadata": {
    "ExecuteTime": {
     "end_time": "2019-12-26T23:52:17.773254Z",
     "start_time": "2019-12-26T23:52:17.768254Z"
    }
   },
   "outputs": [],
   "source": [
    "# return the DataFrame column names, as a list\n",
    "col_names = list(cancer_df)"
   ]
  },
  {
   "cell_type": "code",
   "execution_count": 18,
   "metadata": {
    "ExecuteTime": {
     "end_time": "2019-12-26T23:52:18.004268Z",
     "start_time": "2019-12-26T23:52:17.785255Z"
    },
    "scrolled": true
   },
   "outputs": [
    {
     "name": "stdout",
     "output_type": "stream",
     "text": [
      "OBJECT COLUMNS CONVERTED TO NUMERIC DTYPES\n",
      "==========================================\n",
      "(0) object\n",
      "(1) object\n",
      "(10) object\n",
      "\n",
      "\n",
      "<class 'pandas.core.frame.DataFrame'>\n",
      "Int64Index: 699 entries, 0 to 708\n",
      "Data columns (total 11 columns):\n",
      "0     699 non-null int64\n",
      "1     699 non-null int64\n",
      "2     699 non-null float64\n",
      "3     699 non-null float64\n",
      "4     699 non-null float64\n",
      "5     699 non-null float64\n",
      "6     699 non-null float64\n",
      "7     699 non-null float64\n",
      "8     699 non-null float64\n",
      "9     699 non-null float64\n",
      "10    699 non-null int64\n",
      "dtypes: float64(8), int64(3)\n",
      "memory usage: 65.5 KB\n",
      "None\n",
      "\n",
      "DATASET HEAD\n",
      "        0   1    2    3    4    5    6     7    8    9   10\n",
      "0  1000025   0  5.0  1.0  1.0  1.0  2.0   1.0  3.0  1.0   1\n",
      "1  1002945   0  5.0  4.0  4.0  5.0  7.0  10.0  3.0  2.0   1\n",
      "2  1015425   0  3.0  1.0  1.0  1.0  2.0   2.0  3.0  1.0   1\n",
      "3  1016277   0  6.0  8.0  8.0  1.0  3.0   4.0  3.0  7.0   1\n",
      "4  1017023   0  4.0  1.0  1.0  3.0  2.0   1.0  3.0  1.0   1\n",
      "\n",
      "DATASET DESCRIBE\n",
      "                 0           1           2           3           4   \\\n",
      "count  6.990000e+02  699.000000  699.000000  699.000000  699.000000   \n",
      "mean   1.071704e+06    0.344778    4.417740    3.134478    3.207439   \n",
      "std    6.170957e+05    0.475636    2.815741    3.051459    2.971913   \n",
      "min    6.163400e+04    0.000000    1.000000    1.000000    1.000000   \n",
      "25%    8.706885e+05    0.000000    2.000000    1.000000    1.000000   \n",
      "50%    1.171710e+06    0.000000    4.000000    1.000000    1.000000   \n",
      "75%    1.238298e+06    1.000000    6.000000    5.000000    5.000000   \n",
      "max    1.345435e+07    1.000000   10.000000   10.000000   10.000000   \n",
      "\n",
      "               5           6           7           8           9           10  \n",
      "count  699.000000  699.000000  699.000000  699.000000  699.000000  699.000000  \n",
      "mean     2.806867    3.216023    3.463519    3.437768    2.866953    1.589413  \n",
      "std      2.855379    2.214300    3.640708    2.438364    3.053634    1.715078  \n",
      "min      1.000000    1.000000    0.000000    1.000000    1.000000    1.000000  \n",
      "25%      1.000000    2.000000    1.000000    2.000000    1.000000    1.000000  \n",
      "50%      1.000000    2.000000    1.000000    3.000000    1.000000    1.000000  \n",
      "75%      4.000000    4.000000    5.000000    5.000000    4.000000    1.000000  \n",
      "max     10.000000   10.000000   10.000000   10.000000   10.000000   10.000000  \n"
     ]
    }
   ],
   "source": [
    "# Convert the 'object' dtypes to 'int'\n",
    "cancer_df = convert_attribute_to_numeric(cancer_df, col_names)\n",
    "print('\\n')\n",
    "# return the basic dataset perspectives\n",
    "print_data_attrs(cancer_df)"
   ]
  },
  {
   "cell_type": "code",
   "execution_count": 19,
   "metadata": {
    "ExecuteTime": {
     "end_time": "2019-12-26T23:52:18.021269Z",
     "start_time": "2019-12-26T23:52:18.010268Z"
    }
   },
   "outputs": [],
   "source": [
    "# give the attributes the specified names\n",
    "cancer_df = cancer_df.rename(columns={0: 'Sample', 1: 'Class',\n",
    "                                      2: 'Clump_Thickness', 3: 'Uniformity_Cell_Size',\n",
    "                                      4: 'Uniformity_Cell_Shape', 5: 'Marginal_Adhesion',\n",
    "                                      6: 'Epithelial_Cell_Size', 7: 'Bare_Nuclei',\n",
    "                                      8: 'Bland_Chromatin', 9: 'Normal_Nucleoli',\n",
    "                                      10: 'Mitosis'\n",
    "                                     })"
   ]
  },
  {
   "cell_type": "markdown",
   "metadata": {},
   "source": [
    "## Establish Decision Trees"
   ]
  },
  {
   "cell_type": "code",
   "execution_count": 20,
   "metadata": {
    "ExecuteTime": {
     "end_time": "2019-12-26T23:52:18.084272Z",
     "start_time": "2019-12-26T23:52:18.028269Z"
    },
    "scrolled": true
   },
   "outputs": [
    {
     "name": "stdout",
     "output_type": "stream",
     "text": [
      "   Clump_Thickness  Uniformity_Cell_Size  Uniformity_Cell_Shape  \\\n",
      "0              5.0                   1.0                    1.0   \n",
      "1              5.0                   4.0                    4.0   \n",
      "2              3.0                   1.0                    1.0   \n",
      "3              6.0                   8.0                    8.0   \n",
      "4              4.0                   1.0                    1.0   \n",
      "\n",
      "   Marginal_Adhesion  Epithelial_Cell_Size  Bare_Nuclei  Bland_Chromatin  \\\n",
      "0                1.0                   2.0          1.0              3.0   \n",
      "1                5.0                   7.0         10.0              3.0   \n",
      "2                1.0                   2.0          2.0              3.0   \n",
      "3                1.0                   3.0          4.0              3.0   \n",
      "4                3.0                   2.0          1.0              3.0   \n",
      "\n",
      "   Normal_Nucleoli  Mitosis  \n",
      "0              1.0        1  \n",
      "1              2.0        1  \n",
      "2              1.0        1  \n",
      "3              7.0        1  \n",
      "4              1.0        1  \n",
      "\n",
      "0    0\n",
      "1    0\n",
      "2    0\n",
      "3    0\n",
      "4    0\n",
      "Name: Class, dtype: int64\n"
     ]
    }
   ],
   "source": [
    "# Establish the features and targets\n",
    "X = cancer_df.copy()         # load features into X DF\n",
    "X = X.drop(['Sample', 'Class'], axis=1)\n",
    "Y = cancer_df.iloc[:, 1]     # Load target into Y DF\n",
    "print(X.head())\n",
    "print('\\n{}'.format(Y.head()))"
   ]
  },
  {
   "cell_type": "code",
   "execution_count": 21,
   "metadata": {
    "ExecuteTime": {
     "end_time": "2019-12-26T23:52:18.112274Z",
     "start_time": "2019-12-26T23:52:18.094273Z"
    }
   },
   "outputs": [
    {
     "name": "stdout",
     "output_type": "stream",
     "text": [
      "Original dataset size (0: 458, 1: 241)\n"
     ]
    }
   ],
   "source": [
    "# return the count of the target attributes; assess dataset imbalance\n",
    "temp_count = Y.value_counts()\n",
    "print('Original dataset size (0: {}, 1: {})'.format(temp_count[0], temp_count[1]))"
   ]
  },
  {
   "cell_type": "code",
   "execution_count": 22,
   "metadata": {
    "ExecuteTime": {
     "end_time": "2019-12-26T23:52:18.137275Z",
     "start_time": "2019-12-26T23:52:18.117274Z"
    }
   },
   "outputs": [
    {
     "name": "stdout",
     "output_type": "stream",
     "text": [
      "Resampled dataset shape Counter({0: 458, 1: 458})\n"
     ]
    }
   ],
   "source": [
    "# oversample the dataset to balance it, for improved tree results\n",
    "sm_res = SMOTE(random_state=43)\n",
    "X_sm, Y_sm = sm_res.fit_sample(X, Y)\n",
    "print('Resampled dataset shape {}'.format(Counter(Y_sm)))"
   ]
  },
  {
   "cell_type": "code",
   "execution_count": 23,
   "metadata": {
    "ExecuteTime": {
     "end_time": "2019-12-26T23:52:18.174277Z",
     "start_time": "2019-12-26T23:52:18.141276Z"
    }
   },
   "outputs": [],
   "source": [
    "# Ensure the decision tree is deterministic\n",
    "np.random.seed(101)\n",
    "\n",
    "# X_train, X_test, y_train, y_test = train_test_split(X_sm, Y_sm, test_size = 0.2, random_state=1)\n",
    "X_train, X_test, y_train, y_test = train_test_split(X, Y, test_size = 0.2, random_state=1)"
   ]
  },
  {
   "cell_type": "markdown",
   "metadata": {},
   "source": [
    "### Basic Decision Tree Accuracies"
   ]
  },
  {
   "cell_type": "code",
   "execution_count": 24,
   "metadata": {
    "ExecuteTime": {
     "end_time": "2019-12-26T23:52:18.223280Z",
     "start_time": "2019-12-26T23:52:18.179278Z"
    }
   },
   "outputs": [
    {
     "name": "stdout",
     "output_type": "stream",
     "text": [
      "Accuracy: 93.57142857142857%\n"
     ]
    }
   ],
   "source": [
    "# return the basic entropy decision tree\n",
    "model_ent = DecisionTreeClassifier(criterion='entropy').fit(X_train, y_train)\n",
    "y_ent_pred = model_ent.predict(X_test)\n",
    "print_scores(y_test, y_ent_pred)"
   ]
  },
  {
   "cell_type": "code",
   "execution_count": 25,
   "metadata": {
    "ExecuteTime": {
     "end_time": "2019-12-26T23:52:18.245281Z",
     "start_time": "2019-12-26T23:52:18.228281Z"
    }
   },
   "outputs": [
    {
     "name": "stdout",
     "output_type": "stream",
     "text": [
      "Accuracy: 90.0%\n"
     ]
    }
   ],
   "source": [
    "# return the basic gini decision tree\n",
    "model_gini = DecisionTreeClassifier(criterion='gini').fit(X_train, y_train)\n",
    "y_gini_pred = model_gini.predict(X_test)\n",
    "print_scores(y_test, y_gini_pred)"
   ]
  },
  {
   "cell_type": "code",
   "execution_count": 26,
   "metadata": {
    "ExecuteTime": {
     "end_time": "2019-12-26T23:52:18.297284Z",
     "start_time": "2019-12-26T23:52:18.249282Z"
    }
   },
   "outputs": [
    {
     "name": "stdout",
     "output_type": "stream",
     "text": [
      " CONFUSION MATRIX - ENTROPY MODEL\n"
     ]
    },
    {
     "data": {
      "text/html": [
       "<div>\n",
       "<style scoped>\n",
       "    .dataframe tbody tr th:only-of-type {\n",
       "        vertical-align: middle;\n",
       "    }\n",
       "\n",
       "    .dataframe tbody tr th {\n",
       "        vertical-align: top;\n",
       "    }\n",
       "\n",
       "    .dataframe thead th {\n",
       "        text-align: right;\n",
       "    }\n",
       "</style>\n",
       "<table border=\"1\" class=\"dataframe\">\n",
       "  <thead>\n",
       "    <tr style=\"text-align: right;\">\n",
       "      <th></th>\n",
       "      <th>Predicted Benign</th>\n",
       "      <th>Predicted Malignant</th>\n",
       "    </tr>\n",
       "  </thead>\n",
       "  <tbody>\n",
       "    <tr>\n",
       "      <th>True Benign</th>\n",
       "      <td>91</td>\n",
       "      <td>1</td>\n",
       "    </tr>\n",
       "    <tr>\n",
       "      <th>True Malignant</th>\n",
       "      <td>8</td>\n",
       "      <td>40</td>\n",
       "    </tr>\n",
       "  </tbody>\n",
       "</table>\n",
       "</div>"
      ],
      "text/plain": [
       "                Predicted Benign  Predicted Malignant\n",
       "True Benign                   91                    1\n",
       "True Malignant                 8                   40"
      ]
     },
     "execution_count": 26,
     "metadata": {},
     "output_type": "execute_result"
    }
   ],
   "source": [
    "print(' CONFUSION MATRIX - ENTROPY MODEL')\n",
    "conf_matrix(y_test, y_ent_pred, 'Malignant', 'Benign')"
   ]
  },
  {
   "cell_type": "code",
   "execution_count": 27,
   "metadata": {
    "ExecuteTime": {
     "end_time": "2019-12-26T23:52:18.344287Z",
     "start_time": "2019-12-26T23:52:18.305285Z"
    }
   },
   "outputs": [
    {
     "name": "stdout",
     "output_type": "stream",
     "text": [
      " CONFUSION MATRIX - GINI MODEL\n"
     ]
    },
    {
     "data": {
      "text/html": [
       "<div>\n",
       "<style scoped>\n",
       "    .dataframe tbody tr th:only-of-type {\n",
       "        vertical-align: middle;\n",
       "    }\n",
       "\n",
       "    .dataframe tbody tr th {\n",
       "        vertical-align: top;\n",
       "    }\n",
       "\n",
       "    .dataframe thead th {\n",
       "        text-align: right;\n",
       "    }\n",
       "</style>\n",
       "<table border=\"1\" class=\"dataframe\">\n",
       "  <thead>\n",
       "    <tr style=\"text-align: right;\">\n",
       "      <th></th>\n",
       "      <th>Predicted Benign</th>\n",
       "      <th>Predicted Malignant</th>\n",
       "    </tr>\n",
       "  </thead>\n",
       "  <tbody>\n",
       "    <tr>\n",
       "      <th>True Benign</th>\n",
       "      <td>91</td>\n",
       "      <td>1</td>\n",
       "    </tr>\n",
       "    <tr>\n",
       "      <th>True Malignant</th>\n",
       "      <td>13</td>\n",
       "      <td>35</td>\n",
       "    </tr>\n",
       "  </tbody>\n",
       "</table>\n",
       "</div>"
      ],
      "text/plain": [
       "                Predicted Benign  Predicted Malignant\n",
       "True Benign                   91                    1\n",
       "True Malignant                13                   35"
      ]
     },
     "execution_count": 27,
     "metadata": {},
     "output_type": "execute_result"
    }
   ],
   "source": [
    "print(' CONFUSION MATRIX - GINI MODEL')\n",
    "conf_matrix(y_test, y_gini_pred, 'Malignant', 'Benign')"
   ]
  },
  {
   "cell_type": "markdown",
   "metadata": {},
   "source": [
    "### Hyperparameter Tuning"
   ]
  },
  {
   "cell_type": "code",
   "execution_count": 28,
   "metadata": {
    "ExecuteTime": {
     "end_time": "2019-12-26T23:52:19.128332Z",
     "start_time": "2019-12-26T23:52:18.371289Z"
    },
    "scrolled": true
   },
   "outputs": [
    {
     "name": "stdout",
     "output_type": "stream",
     "text": [
      "-------\n",
      "====================\n",
      "ENTROPY COEFFICIENTS - MAX LEAF NODES: 2\n",
      "====================\n",
      "Accuracy: 93.57142857142857%\n",
      "=================\n",
      "GINI COEFFICIENTS -    MAX LEAF NODES: 2\n",
      "=================\n",
      "Accuracy: 91.42857142857143%\n",
      "\n",
      "\n",
      "====================\n",
      "ENTROPY COEFFICIENTS - MAX LEAF NODES: 3\n",
      "====================\n",
      "Accuracy: 93.57142857142857%\n",
      "=================\n",
      "GINI COEFFICIENTS -    MAX LEAF NODES: 3\n",
      "=================\n",
      "Accuracy: 92.14285714285714%\n",
      "\n",
      "\n",
      "====================\n",
      "ENTROPY COEFFICIENTS - MAX LEAF NODES: 4\n",
      "====================\n",
      "Accuracy: 92.85714285714286%\n",
      "=================\n",
      "GINI COEFFICIENTS -    MAX LEAF NODES: 4\n",
      "=================\n",
      "Accuracy: 91.42857142857143%\n",
      "\n",
      "\n",
      "====================\n",
      "ENTROPY COEFFICIENTS - MAX LEAF NODES: 5\n",
      "====================\n",
      "Accuracy: 93.57142857142857%\n",
      "=================\n",
      "GINI COEFFICIENTS -    MAX LEAF NODES: 5\n",
      "=================\n",
      "Accuracy: 91.42857142857143%\n",
      "\n",
      "\n",
      "====================\n",
      "ENTROPY COEFFICIENTS - MAX LEAF NODES: 6\n",
      "====================\n",
      "Accuracy: 93.57142857142857%\n",
      "=================\n",
      "GINI COEFFICIENTS -    MAX LEAF NODES: 6\n",
      "=================\n",
      "Accuracy: 90.0%\n",
      "\n",
      "\n",
      "====================\n",
      "ENTROPY COEFFICIENTS - MAX LEAF NODES: 7\n",
      "====================\n",
      "Accuracy: 93.57142857142857%\n",
      "=================\n",
      "GINI COEFFICIENTS -    MAX LEAF NODES: 7\n",
      "=================\n",
      "Accuracy: 91.42857142857143%\n",
      "\n",
      "\n",
      "====================\n",
      "ENTROPY COEFFICIENTS - MAX LEAF NODES: 8\n",
      "====================\n",
      "Accuracy: 92.85714285714286%\n",
      "=================\n",
      "GINI COEFFICIENTS -    MAX LEAF NODES: 8\n",
      "=================\n",
      "Accuracy: 90.71428571428571%\n",
      "\n",
      "\n",
      "====================\n",
      "ENTROPY COEFFICIENTS - MAX LEAF NODES: 9\n",
      "====================\n",
      "Accuracy: 93.57142857142857%\n",
      "=================\n",
      "GINI COEFFICIENTS -    MAX LEAF NODES: 9\n",
      "=================\n",
      "Accuracy: 92.14285714285714%\n",
      "\n",
      "\n",
      "-------\n",
      "====================\n",
      "ENTROPY COEFFICIENTS - MAX TREE DEPTH: 1\n",
      "====================\n",
      "Accuracy: 92.85714285714286%\n",
      "=================\n",
      "GINI COEFFICIENTS -    MAX TREE DEPTH: 1\n",
      "=================\n",
      "Accuracy: 90.0%\n",
      "\n",
      "\n",
      "====================\n",
      "ENTROPY COEFFICIENTS - MAX TREE DEPTH: 2\n",
      "====================\n",
      "Accuracy: 93.57142857142857%\n",
      "=================\n",
      "GINI COEFFICIENTS -    MAX TREE DEPTH: 2\n",
      "=================\n",
      "Accuracy: 91.42857142857143%\n",
      "\n",
      "\n",
      "====================\n",
      "ENTROPY COEFFICIENTS - MAX TREE DEPTH: 3\n",
      "====================\n",
      "Accuracy: 92.14285714285714%\n",
      "=================\n",
      "GINI COEFFICIENTS -    MAX TREE DEPTH: 3\n",
      "=================\n",
      "Accuracy: 92.85714285714286%\n",
      "\n",
      "\n",
      "====================\n",
      "ENTROPY COEFFICIENTS - MAX TREE DEPTH: 4\n",
      "====================\n",
      "Accuracy: 92.85714285714286%\n",
      "=================\n",
      "GINI COEFFICIENTS -    MAX TREE DEPTH: 4\n",
      "=================\n",
      "Accuracy: 92.14285714285714%\n",
      "\n",
      "\n",
      "====================\n",
      "ENTROPY COEFFICIENTS - MAX TREE DEPTH: 5\n",
      "====================\n",
      "Accuracy: 92.85714285714286%\n",
      "=================\n",
      "GINI COEFFICIENTS -    MAX TREE DEPTH: 5\n",
      "=================\n",
      "Accuracy: 92.14285714285714%\n",
      "\n",
      "\n",
      "====================\n",
      "ENTROPY COEFFICIENTS - MAX TREE DEPTH: 6\n",
      "====================\n",
      "Accuracy: 92.85714285714286%\n",
      "=================\n",
      "GINI COEFFICIENTS -    MAX TREE DEPTH: 6\n",
      "=================\n",
      "Accuracy: 90.71428571428571%\n",
      "\n",
      "\n",
      "====================\n",
      "ENTROPY COEFFICIENTS - MAX TREE DEPTH: 7\n",
      "====================\n",
      "Accuracy: 92.85714285714286%\n",
      "=================\n",
      "GINI COEFFICIENTS -    MAX TREE DEPTH: 7\n",
      "=================\n",
      "Accuracy: 92.85714285714286%\n",
      "\n",
      "\n",
      "====================\n",
      "ENTROPY COEFFICIENTS - MAX TREE DEPTH: 8\n",
      "====================\n",
      "Accuracy: 93.57142857142857%\n",
      "=================\n",
      "GINI COEFFICIENTS -    MAX TREE DEPTH: 8\n",
      "=================\n",
      "Accuracy: 92.14285714285714%\n",
      "\n",
      "\n",
      "====================\n",
      "ENTROPY COEFFICIENTS - MAX TREE DEPTH: 9\n",
      "====================\n",
      "Accuracy: 92.85714285714286%\n",
      "=================\n",
      "GINI COEFFICIENTS -    MAX TREE DEPTH: 9\n",
      "=================\n",
      "Accuracy: 92.14285714285714%\n",
      "\n",
      "\n",
      "-------\n",
      "====================\n",
      "ENTROPY COEFFICIENTS - MAX SAMPLES LEAF: 1\n",
      "====================\n",
      "Accuracy: 94.28571428571428%\n",
      "=================\n",
      "GINI COEFFICIENTS -    MAX SAMPLES LEAF: 1\n",
      "=================\n",
      "Accuracy: 90.71428571428571%\n",
      "\n",
      "\n",
      "====================\n",
      "ENTROPY COEFFICIENTS - MAX SAMPLES LEAF: 2\n",
      "====================\n",
      "Accuracy: 93.57142857142857%\n",
      "=================\n",
      "GINI COEFFICIENTS -    MAX SAMPLES LEAF: 2\n",
      "=================\n",
      "Accuracy: 93.57142857142857%\n",
      "\n",
      "\n",
      "====================\n",
      "ENTROPY COEFFICIENTS - MAX SAMPLES LEAF: 3\n",
      "====================\n",
      "Accuracy: 93.57142857142857%\n",
      "=================\n",
      "GINI COEFFICIENTS -    MAX SAMPLES LEAF: 3\n",
      "=================\n",
      "Accuracy: 91.42857142857143%\n",
      "\n",
      "\n",
      "====================\n",
      "ENTROPY COEFFICIENTS - MAX SAMPLES LEAF: 4\n",
      "====================\n",
      "Accuracy: 93.57142857142857%\n",
      "=================\n",
      "GINI COEFFICIENTS -    MAX SAMPLES LEAF: 4\n",
      "=================\n",
      "Accuracy: 92.85714285714286%\n",
      "\n",
      "\n",
      "====================\n",
      "ENTROPY COEFFICIENTS - MAX SAMPLES LEAF: 5\n",
      "====================\n",
      "Accuracy: 93.57142857142857%\n",
      "=================\n",
      "GINI COEFFICIENTS -    MAX SAMPLES LEAF: 5\n",
      "=================\n",
      "Accuracy: 88.57142857142857%\n",
      "\n",
      "\n",
      "====================\n",
      "ENTROPY COEFFICIENTS - MAX SAMPLES LEAF: 6\n",
      "====================\n",
      "Accuracy: 93.57142857142857%\n",
      "=================\n",
      "GINI COEFFICIENTS -    MAX SAMPLES LEAF: 6\n",
      "=================\n",
      "Accuracy: 91.42857142857143%\n",
      "\n",
      "\n",
      "====================\n",
      "ENTROPY COEFFICIENTS - MAX SAMPLES LEAF: 7\n",
      "====================\n",
      "Accuracy: 93.57142857142857%\n",
      "=================\n",
      "GINI COEFFICIENTS -    MAX SAMPLES LEAF: 7\n",
      "=================\n",
      "Accuracy: 92.14285714285714%\n",
      "\n",
      "\n",
      "====================\n",
      "ENTROPY COEFFICIENTS - MAX SAMPLES LEAF: 8\n",
      "====================\n",
      "Accuracy: 93.57142857142857%\n",
      "=================\n",
      "GINI COEFFICIENTS -    MAX SAMPLES LEAF: 8\n",
      "=================\n",
      "Accuracy: 91.42857142857143%\n",
      "\n",
      "\n",
      "====================\n",
      "ENTROPY COEFFICIENTS - MAX SAMPLES LEAF: 9\n",
      "====================\n",
      "Accuracy: 94.28571428571428%\n",
      "=================\n",
      "GINI COEFFICIENTS -    MAX SAMPLES LEAF: 9\n",
      "=================\n",
      "Accuracy: 92.14285714285714%\n",
      "\n",
      "\n",
      "-------\n",
      "====================\n",
      "ENTROPY COEFFICIENTS - MAX SAMPLES SPLIT: 2\n",
      "====================\n",
      "Accuracy: 93.57142857142857%\n",
      "=================\n",
      "GINI COEFFICIENTS -    MAX SAMPLES SPLIT: 2\n",
      "=================\n",
      "Accuracy: 90.0%\n",
      "\n",
      "\n",
      "====================\n",
      "ENTROPY COEFFICIENTS - MAX SAMPLES SPLIT: 3\n",
      "====================\n",
      "Accuracy: 94.28571428571428%\n",
      "=================\n",
      "GINI COEFFICIENTS -    MAX SAMPLES SPLIT: 3\n",
      "=================\n",
      "Accuracy: 89.28571428571429%\n",
      "\n",
      "\n",
      "====================\n",
      "ENTROPY COEFFICIENTS - MAX SAMPLES SPLIT: 4\n",
      "====================\n",
      "Accuracy: 93.57142857142857%\n",
      "=================\n",
      "GINI COEFFICIENTS -    MAX SAMPLES SPLIT: 4\n",
      "=================\n",
      "Accuracy: 92.14285714285714%\n",
      "\n",
      "\n",
      "====================\n",
      "ENTROPY COEFFICIENTS - MAX SAMPLES SPLIT: 5\n",
      "====================\n",
      "Accuracy: 92.85714285714286%\n",
      "=================\n",
      "GINI COEFFICIENTS -    MAX SAMPLES SPLIT: 5\n",
      "=================\n",
      "Accuracy: 90.71428571428571%\n",
      "\n",
      "\n",
      "====================\n",
      "ENTROPY COEFFICIENTS - MAX SAMPLES SPLIT: 6\n",
      "====================\n",
      "Accuracy: 93.57142857142857%\n",
      "=================\n",
      "GINI COEFFICIENTS -    MAX SAMPLES SPLIT: 6\n",
      "=================\n",
      "Accuracy: 91.42857142857143%\n",
      "\n",
      "\n",
      "====================\n",
      "ENTROPY COEFFICIENTS - MAX SAMPLES SPLIT: 7\n",
      "====================\n",
      "Accuracy: 93.57142857142857%\n",
      "=================\n",
      "GINI COEFFICIENTS -    MAX SAMPLES SPLIT: 7\n",
      "=================\n",
      "Accuracy: 90.71428571428571%\n",
      "\n",
      "\n",
      "====================\n",
      "ENTROPY COEFFICIENTS - MAX SAMPLES SPLIT: 8\n",
      "====================\n",
      "Accuracy: 93.57142857142857%\n",
      "=================\n",
      "GINI COEFFICIENTS -    MAX SAMPLES SPLIT: 8\n",
      "=================\n",
      "Accuracy: 92.85714285714286%\n",
      "\n",
      "\n",
      "====================\n",
      "ENTROPY COEFFICIENTS - MAX SAMPLES SPLIT: 9\n",
      "====================\n",
      "Accuracy: 93.57142857142857%\n",
      "=================\n",
      "GINI COEFFICIENTS -    MAX SAMPLES SPLIT: 9\n",
      "=================\n",
      "Accuracy: 90.0%\n",
      "\n",
      "\n"
     ]
    }
   ],
   "source": [
    "# Use the entropy coefficient model\n",
    "\n",
    "leaf_nodes = np.arange(2,10)\n",
    "max_depth = np.arange(1,10)\n",
    "min_leaf = np.arange(1,10)\n",
    "min_split = np.arange(2,10)\n",
    "all_vals = [leaf_nodes, max_depth, min_leaf, min_split]\n",
    "\n",
    "i = 0\n",
    "for single_val in all_vals:\n",
    "    print('-------')\n",
    "    \n",
    "    for j in single_val:\n",
    "        if i == 0:\n",
    "            label = 'MAX LEAF NODES: '\n",
    "            leaf = j\n",
    "        elif i == 1:\n",
    "            label = 'MAX TREE DEPTH: '\n",
    "            depth = j\n",
    "        elif i == 2:\n",
    "            label = 'MAX SAMPLES LEAF: '\n",
    "            leaf2 = j\n",
    "        elif i == 3:\n",
    "            label = 'MAX SAMPLES SPLIT: '\n",
    "            split = j\n",
    "        label = label + str(j)\n",
    "        tune_tree(label, leaf=None, depth=None, leaf2=1, split=2)\n",
    "    \n",
    "    i += 1"
   ]
  },
  {
   "cell_type": "markdown",
   "metadata": {},
   "source": [
    "### Visualize the Decision Trees"
   ]
  },
  {
   "cell_type": "code",
   "execution_count": 29,
   "metadata": {
    "ExecuteTime": {
     "end_time": "2019-12-26T23:52:19.146333Z",
     "start_time": "2019-12-26T23:52:19.135332Z"
    }
   },
   "outputs": [],
   "source": [
    "# define the updated hyperparameters    \n",
    "leaf = None\n",
    "depth = 5\n",
    "leaf2 = 2\n",
    "split = 3"
   ]
  },
  {
   "cell_type": "code",
   "execution_count": 30,
   "metadata": {
    "ExecuteTime": {
     "end_time": "2019-12-26T23:52:19.177335Z",
     "start_time": "2019-12-26T23:52:19.151333Z"
    }
   },
   "outputs": [
    {
     "name": "stdout",
     "output_type": "stream",
     "text": [
      "Accuracy: 93.57142857142857%\n"
     ]
    }
   ],
   "source": [
    "# refine the ENTROPY model with updated hyperparameters\n",
    "model_ent = DecisionTreeClassifier(criterion='entropy',\n",
    "                                   splitter='best',\n",
    "                                   max_depth=depth,\n",
    "                                   min_samples_split=split,\n",
    "                                   max_leaf_nodes=leaf,\n",
    "                                   min_samples_leaf=leaf2\n",
    "                                   ).fit(X_train, y_train) \n",
    "y_ent_pred = model_ent.predict(X_test)\n",
    "print_scores(y_test, y_ent_pred)"
   ]
  },
  {
   "cell_type": "code",
   "execution_count": 31,
   "metadata": {
    "ExecuteTime": {
     "end_time": "2019-12-26T23:52:19.257339Z",
     "start_time": "2019-12-26T23:52:19.180335Z"
    }
   },
   "outputs": [
    {
     "name": "stdout",
     "output_type": "stream",
     "text": [
      "Accuracy: 93.57142857142857%\n"
     ]
    }
   ],
   "source": [
    "# refine the GINI model with updated hyperparameters\n",
    "model_gini = DecisionTreeClassifier(criterion='gini',\n",
    "                                    splitter='best',\n",
    "                                    max_depth=depth,\n",
    "                                    min_samples_split=split,\n",
    "                                    max_leaf_nodes=leaf,\n",
    "                                    min_samples_leaf=leaf2\n",
    "                                    ).fit(X_train, y_train) \n",
    "y_gini_pred = model_gini.predict(X_test)\n",
    "print_scores(y_test, y_gini_pred)"
   ]
  },
  {
   "cell_type": "code",
   "execution_count": 32,
   "metadata": {
    "ExecuteTime": {
     "end_time": "2019-12-26T23:52:19.998382Z",
     "start_time": "2019-12-26T23:52:19.260340Z"
    },
    "scrolled": false
   },
   "outputs": [
    {
     "data": {
      "image/png": "[encoded data removed]",
      "text/plain": [
       "<IPython.core.display.Image object>"
      ]
     },
     "execution_count": 32,
     "metadata": {},
     "output_type": "execute_result"
    }
   ],
   "source": [
    "# return the DataFrame column names, as a list\n",
    "col_names = list(X)\n",
    "# establish the PNG image file type of the decision tree results\n",
    "file_out = 'model_ent'\n",
    "tree_visualize(model_ent, col_names, file_out)\n",
    "# display the image\n",
    "Image(filename=file_out + '.png')"
   ]
  },
  {
   "cell_type": "code",
   "execution_count": 33,
   "metadata": {
    "ExecuteTime": {
     "end_time": "2019-12-26T23:52:21.110445Z",
     "start_time": "2019-12-26T23:52:20.002382Z"
    }
   },
   "outputs": [
    {
     "data": {
      "image/png": "[encoded data removed]",
      "text/plain": [
       "<IPython.core.display.Image object>"
      ]
     },
     "execution_count": 33,
     "metadata": {},
     "output_type": "execute_result"
    }
   ],
   "source": [
    "# establish the PNG image file type of the decision tree results\n",
    "file_out = 'model_gini'\n",
    "tree_visualize(model_gini, col_names, file_out)\n",
    "# display the image\n",
    "Image(filename=file_out+'.png')"
   ]
  },
  {
   "cell_type": "markdown",
   "metadata": {},
   "source": [
    "### The AUC Score"
   ]
  },
  {
   "cell_type": "code",
   "execution_count": 34,
   "metadata": {
    "ExecuteTime": {
     "end_time": "2019-12-26T23:52:21.124446Z",
     "start_time": "2019-12-26T23:52:21.115446Z"
    }
   },
   "outputs": [
    {
     "name": "stdout",
     "output_type": "stream",
     "text": [
      "         Benign-Malignant\n",
      "entropy: [0 1]\n",
      "gini:    [0 1]\n"
     ]
    }
   ],
   "source": [
    "# return the classifications of the binary states of the fitted models\n",
    "print('         Benign-Malignant')\n",
    "print('entropy: {}'.format(model_ent.classes_))\n",
    "print('gini:    {}'.format(model_gini.classes_))"
   ]
  },
  {
   "cell_type": "code",
   "execution_count": 35,
   "metadata": {
    "ExecuteTime": {
     "end_time": "2019-12-26T23:52:21.157448Z",
     "start_time": "2019-12-26T23:52:21.137447Z"
    },
    "scrolled": true
   },
   "outputs": [
    {
     "name": "stdout",
     "output_type": "stream",
     "text": [
      "ENTROPY MODEL PROBABILITIES\n",
      "[[1.         0.        ]\n",
      " [1.         0.        ]\n",
      " [1.         0.        ]\n",
      " [0.         1.        ]\n",
      " [1.         0.        ]\n",
      " [1.         0.        ]\n",
      " [0.         1.        ]\n",
      " [1.         0.        ]\n",
      " [1.         0.        ]\n",
      " [1.         0.        ]\n",
      " [0.         1.        ]\n",
      " [0.25       0.75      ]\n",
      " [1.         0.        ]\n",
      " [0.78571429 0.21428571]\n",
      " [0.         1.        ]\n",
      " [0.         1.        ]\n",
      " [1.         0.        ]\n",
      " [1.         0.        ]\n",
      " [1.         0.        ]\n",
      " [1.         0.        ]\n",
      " [1.         0.        ]]\n",
      "\n",
      "GINI MODEL PROBABILITIES\n",
      "[[1.         0.        ]\n",
      " [1.         0.        ]\n",
      " [1.         0.        ]\n",
      " [0.         1.        ]\n",
      " [1.         0.        ]\n",
      " [1.         0.        ]\n",
      " [0.00819672 0.99180328]\n",
      " [1.         0.        ]\n",
      " [1.         0.        ]\n",
      " [1.         0.        ]\n",
      " [0.00819672 0.99180328]\n",
      " [0.28571429 0.71428571]\n",
      " [1.         0.        ]\n",
      " [1.         0.        ]\n",
      " [0.03703704 0.96296296]\n",
      " [0.00819672 0.99180328]\n",
      " [1.         0.        ]\n",
      " [1.         0.        ]\n",
      " [1.         0.        ]\n",
      " [1.         0.        ]\n",
      " [1.         0.        ]]\n"
     ]
    }
   ],
   "source": [
    "# predict the probabilities for each decision tree\n",
    "y_ent_pred_proba = model_ent.predict_proba(X_test)\n",
    "y_gini_pred_proba = model_gini.predict_proba(X_test)\n",
    "\n",
    "print('ENTROPY MODEL PROBABILITIES')\n",
    "print(y_ent_pred_proba[0:21,:])\n",
    "print('\\nGINI MODEL PROBABILITIES')\n",
    "print(y_gini_pred_proba[0:21,:])"
   ]
  },
  {
   "cell_type": "code",
   "execution_count": 36,
   "metadata": {
    "ExecuteTime": {
     "end_time": "2019-12-26T23:52:21.242453Z",
     "start_time": "2019-12-26T23:52:21.161448Z"
    },
    "scrolled": true
   },
   "outputs": [
    {
     "name": "stdout",
     "output_type": "stream",
     "text": [
      "AUC Scores - Malignant\n",
      "entropy: 0.9690896739130436\n",
      "gini:    0.9346693840579711\n"
     ]
    }
   ],
   "source": [
    "# compute the AUC scores\n",
    "print('AUC Scores - Malignant')\n",
    "print('entropy: {}'.format(roc_auc_score(y_test, y_ent_pred_proba[:,1])))\n",
    "print('gini:    {}'.format(roc_auc_score(y_test, y_gini_pred_proba[:,1])))"
   ]
  },
  {
   "cell_type": "markdown",
   "metadata": {},
   "source": [
    "### Precision and Recall"
   ]
  },
  {
   "cell_type": "code",
   "execution_count": 37,
   "metadata": {
    "ExecuteTime": {
     "end_time": "2019-12-26T23:52:21.284455Z",
     "start_time": "2019-12-26T23:52:21.247453Z"
    }
   },
   "outputs": [
    {
     "name": "stdout",
     "output_type": "stream",
     "text": [
      "ENTROPY MODEL\n",
      "              precision    recall  f1-score   support\n",
      "\n",
      "           0       0.93      0.98      0.95        92\n",
      "           1       0.95      0.85      0.90        48\n",
      "\n",
      "    accuracy                           0.94       140\n",
      "   macro avg       0.94      0.92      0.93       140\n",
      "weighted avg       0.94      0.94      0.93       140\n",
      "\n",
      "\n",
      "GINI MODEL\n",
      "              precision    recall  f1-score   support\n",
      "\n",
      "           0       0.95      0.96      0.95        92\n",
      "           1       0.91      0.90      0.91        48\n",
      "\n",
      "    accuracy                           0.94       140\n",
      "   macro avg       0.93      0.93      0.93       140\n",
      "weighted avg       0.94      0.94      0.94       140\n",
      "\n"
     ]
    }
   ],
   "source": [
    "# return the precision and recall results\n",
    "print('ENTROPY MODEL')\n",
    "print(classification_report(y_test, y_ent_pred))\n",
    "print('\\nGINI MODEL')\n",
    "print(classification_report(y_test, y_gini_pred))"
   ]
  },
  {
   "cell_type": "markdown",
   "metadata": {},
   "source": [
    "## Questions to Respond  "
   ]
  },
  {
   "cell_type": "markdown",
   "metadata": {},
   "source": [
    "1. Test both entropy and the gini coefficient. Which performs better and why?\n",
    "  - For the basic decision tree models, the Entropy and Gini models, the best accuracy results are:  \n",
    "         - Entropy: 93.57%  \n",
    "         - Gini:    90.00%\n",
    "  - Thus, the baseline accuracy shows that the entropy model performs best.  \n",
    "  - The better performance could reasonably be from the improved balance of the split function calls acted upon by the entropy algorithm."
   ]
  },
  {
   "cell_type": "markdown",
   "metadata": {},
   "source": [
    "2. What are the best hyperparameter settings for both models with respect to accuracy?  \n",
    "  - For the hyperparameter tuning, 4 values were modified, with the resultant optimizations:\n",
    "         - MAX LEAF NODES | entropy = 3 for 93.57% accuracy.\n",
    "           MAX LEAF NODES | gini    = 3 for 92.14% accuracy.  \n",
    "           \n",
    "         - MAX TREE DEPTH | entropy = 8 for 93.57% accuracy.\n",
    "           MAX TREE DEPTH | gini    = 7 for 92.85% accuracy.\n",
    "           \n",
    "         - MAX SAMPLES LEAF | entropy = 5 for 94.29% accuracy.\n",
    "           MAX SAMPLES LEAF | gini    = 5 for 92.14% accuracy.\n",
    "           \n",
    "         - MAX SAMPLES SPLIT | entropy = 7 for 94.29% accuracy.\n",
    "           MAX SAMPLES SPLIT | gini    = 7 for 92.14% accuracy.  \n",
    "  - As these results show, the entropy model reflects higher accuracies overall, as previsouly stated above.  \n",
    "  - So as to proceed with the highest accuracy hyperparameters, the following were selected to build the final model results:\n",
    "         - MAX LEAF NODES = None\n",
    "         - MAX TREE DEPTH = 5\n",
    "         - MAX SAMPLES LEAF = 2\n",
    "         - MAX SAMPLES SPLIT = 3\n",
    "         \n",
    "         - These each gave  93.57% (entropy) and 92.86% (gini) accuracies."
   ]
  },
  {
   "cell_type": "markdown",
   "metadata": {},
   "source": [
    "3. Visualize both models and see which feature is selected for each criterion. Are they same for both? Why or why not?\n",
    "  - No, the 2 decision trees do not return the same node labels for each criterion. This is easily seen upon inspection of the graphical tree outputs as shown above.\n",
    "  - The 2 visualizations are based on similar but different algorithms, that primarily explains why the results are not identical. In general, an entropy model will result in a better 'balanced' tree as apposed to the gini model. However, the graphs shown above appear to show in contradiction to this perspective. Ultimately, the rewsultant splits occur in differnt places due to the different algorithms applied."
   ]
  },
  {
   "cell_type": "markdown",
   "metadata": {},
   "source": [
    "4. Determine the AUC for the best model you can achieve. What are the precision and recall values and which might be the one you want to maximize?\n",
    "  - The AUC scores for each (malignant) decision tree prediction are:  \n",
    "         - entropy: 0.9690896739130436\n",
    "         - gini:    0.9543704710144927\n",
    "  - The precision and recall values resultant from the decision tree models are:  \n",
    "         ENTROPY          precision  recall\n",
    "         - 0 (benign)       0.93      0.98\n",
    "           1 (malignant)    0.95      0.85\n",
    "           \n",
    "         GINI             precision  recall\n",
    "         - 0 (benign)       0.95      0.97\n",
    "           1 (malignant)    0.93      0.90"
   ]
  },
  {
   "cell_type": "markdown",
   "metadata": {},
   "source": [
    "5. What are the implications of using this type of machine learning algorithm for breast cancer analysis?  \n",
    "  - The implications of using a decision tree for health care and related exams is monumental.\n",
    "  - A decision tree is relatively easy to employ and can be pruned in various ways in order to optimize results.\n",
    "  - Furthermore, a decision tree is easliy interpretable and permits increased confidence in its conclusions. As a result, the effected individual and also the caring physician are both more likely to make good decisions regarding future outcomes based upon such models. "
   ]
  },
  {
   "cell_type": "code",
   "execution_count": null,
   "metadata": {},
   "outputs": [],
   "source": []
  }
 ],
 "metadata": {
  "kernelspec": {
   "display_name": "Python 3",
   "language": "python",
   "name": "python3"
  },
  "language_info": {
   "codemirror_mode": {
    "name": "ipython",
    "version": 3
   },
   "file_extension": ".py",
   "mimetype": "text/x-python",
   "name": "python",
   "nbconvert_exporter": "python",
   "pygments_lexer": "ipython3",
   "version": "3.7.5"
  },
  "toc": {
   "base_numbering": 1,
   "nav_menu": {},
   "number_sections": true,
   "sideBar": true,
   "skip_h1_title": false,
   "title_cell": "Table of Contents",
   "title_sidebar": "Contents",
   "toc_cell": false,
   "toc_position": {
    "height": "calc(100% - 180px)",
    "left": "10px",
    "top": "150px",
    "width": "339.492px"
   },
   "toc_section_display": true,
   "toc_window_display": true
  }
 },
 "nbformat": 4,
 "nbformat_minor": 2
}
