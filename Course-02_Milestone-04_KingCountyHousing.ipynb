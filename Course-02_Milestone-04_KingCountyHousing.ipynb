{
 "cells": [
  {
   "cell_type": "markdown",
   "metadata": {},
   "source": [
    "# Certificate in Data Science | Milestone 4 |  \n",
    "- Final Project  \n",
    "\n",
    "> University of Washington  \n",
    "> October 2019  \n",
    "> N. HICKS"
   ]
  },
  {
   "cell_type": "markdown",
   "metadata": {},
   "source": [
    "## Project Guidance and Instructions\n",
    "Milestone 4 is where everything you built in the previous milestones comes together. For this Milestone, you focus on improving model accuracy and summarizing your findings. Try explaining your findings as if you are presenting to your management team in layman’s terms. For example, talk about the influencing factors, what can be improved, what is important in your findings, what is the key aspect to focus on, what do the data tell them that they do not know.  \n",
    "<br>  \n",
    "> 1. update Milestones 1 through 3, and assignment 9 based on feedback;  \n",
    "> <br>  \n",
    "> 2. enhance your model results by trying different model and/or data enhancement techniques (Build 3 models with different enhancements and feature engineering techniques);  \n",
    "> <br>  \n",
    "> 3. explain your choice of model and model accuracy; and  \n",
    "> <br>  \n",
    "> 4. draw direct inferences and conclusions from model results (describe how your model results can improve or provide a solution to the problem you have chosen). Use graphs and evidence from the data to prove your point. Part of being a data scientist is to tell a story that helps the business."
   ]
  },
  {
   "cell_type": "markdown",
   "metadata": {},
   "source": [
    "## Problem Statement"
   ]
  },
  {
   "cell_type": "markdown",
   "metadata": {},
   "source": [
    "> The Washington King County housing dataset, that includes the area of Seattle, reflects data derived from housing surveys conducted between May 2014 and May 2015. The dataset contains 19 features describing various aspects of a housing unit that might reflect redeeming qualities effecting resale value. Approximately 22,000 samples are made available herein for analysis.  \n",
    "<br>\n",
    "> As a housing construction contractor it is critical to achieve profit for every home sales opportunity. In this way, the need exists to identify those housing unit features that help to drive profit increase for every home property sale and / or renovation."
   ]
  },
  {
   "cell_type": "markdown",
   "metadata": {},
   "source": [
    "## Import Libraries"
   ]
  },
  {
   "cell_type": "code",
   "execution_count": 1,
   "metadata": {
    "ExecuteTime": {
     "end_time": "2019-10-21T00:17:52.220780Z",
     "start_time": "2019-10-21T00:17:43.677291Z"
    }
   },
   "outputs": [],
   "source": [
    "'''\n",
    "Load the necessary libraries.\n",
    "'''\n",
    "import pandas as pd\n",
    "import numpy as np\n",
    "import matplotlib.pyplot as plt\n",
    "import seaborn as sns\n",
    "import os\n",
    "from sklearn import preprocessing\n",
    "import statsmodels.formula.api as sm"
   ]
  },
  {
   "cell_type": "markdown",
   "metadata": {
    "heading_collapsed": true
   },
   "source": [
    "## Functions for Scripting"
   ]
  },
  {
   "cell_type": "code",
   "execution_count": 2,
   "metadata": {
    "ExecuteTime": {
     "end_time": "2019-10-21T00:17:52.266782Z",
     "start_time": "2019-10-21T00:17:52.234780Z"
    },
    "hidden": true
   },
   "outputs": [],
   "source": [
    "'''\n",
    "Set the resultant plot parameters.\n",
    "RETURN: none.\n",
    "'''\n",
    "%matplotlib inline\n",
    "\n",
    "# set for all notebook; width, height of the resulting plots\n",
    "plt.rcParams[\"figure.figsize\"] = [10, 7]\n",
    "\n",
    "# set the boxplot marker specification\n",
    "markerType = dict(marker='s', markeredgecolor='black', markerfacecolor='g', markersize=6)\n",
    "sns.set()"
   ]
  },
  {
   "cell_type": "code",
   "execution_count": 3,
   "metadata": {
    "ExecuteTime": {
     "end_time": "2019-10-21T00:17:52.317785Z",
     "start_time": "2019-10-21T00:17:52.291784Z"
    },
    "code_folding": [
     3
    ],
    "hidden": true
   },
   "outputs": [],
   "source": [
    "'''\n",
    "Retrieve the prescribed dataset.\n",
    "RETURN: pd.DataFrame\n",
    "'''\n",
    "def fetch_data(path, file):\n",
    "    try:\n",
    "        # import the file to a dataframe\n",
    "        _df = pd.read_csv(path+file, index_col=0)\n",
    "        print('REMOTE FILE USED')\n",
    "    except:\n",
    "        # Local Copy -- Link would not permit access\n",
    "        path = os.getcwd()\n",
    "        print('LOCAL FILE USED;\\nREMOTE SERVER NOT REACHABLE\\n--> [SSL: CERTIFICATE_VERIFY_FAILED] certificate verify failed (_ssl.c:590)\\n\\n')\n",
    "        # import the file to a dataframe\n",
    "        _df = pd.read_csv(os.path.join(path,file), index_col=0)\n",
    "    \n",
    "    return _df"
   ]
  },
  {
   "cell_type": "code",
   "execution_count": 4,
   "metadata": {
    "ExecuteTime": {
     "end_time": "2019-10-21T00:17:52.396790Z",
     "start_time": "2019-10-21T00:17:52.371788Z"
    },
    "code_folding": [
     2
    ],
    "hidden": true
   },
   "outputs": [],
   "source": [
    "'''\n",
    "Normalize a specified feature.\n",
    "RETURN: np.array\n",
    "'''\n",
    "def get_normFeature(pdSeries):\n",
    "    x_array = np.array(pdSeries)\n",
    "    normalized_X = preprocessing.normalize([x_array])\n",
    "    return normalized_X"
   ]
  },
  {
   "cell_type": "code",
   "execution_count": 5,
   "metadata": {
    "ExecuteTime": {
     "end_time": "2019-10-21T00:17:52.518797Z",
     "start_time": "2019-10-21T00:17:52.404790Z"
    },
    "code_folding": [
     2
    ],
    "hidden": true
   },
   "outputs": [],
   "source": [
    "'''\n",
    "Calculate the log of the specified feature.\n",
    "RETURN: pd.DataFrame\n",
    "'''\n",
    "def logFeature(df, feature):\n",
    "    logList = np.log(df[feature])\n",
    "    log_name = feature + '_log'\n",
    "    try:\n",
    "        df.insert(loc=2, column=log_name, value=logList)\n",
    "    except:\n",
    "        print('Feature \\'{}\\' already exists.'.format(log_name))\n",
    "    return df"
   ]
  },
  {
   "cell_type": "code",
   "execution_count": 6,
   "metadata": {
    "ExecuteTime": {
     "end_time": "2019-10-21T00:17:52.587801Z",
     "start_time": "2019-10-21T00:17:52.563799Z"
    },
    "code_folding": [
     4
    ],
    "hidden": true
   },
   "outputs": [],
   "source": [
    "'''\n",
    "Create a scale function for a single feature.\n",
    "RETURN: standard deviation of the feature (magnitude)\n",
    "'''\n",
    "def scale(col):\n",
    "    mean_col = np.mean(col)\n",
    "    sd_col = np.std(col)\n",
    "    std = (col - mean_col) / sd_col\n",
    "    return std"
   ]
  },
  {
   "cell_type": "markdown",
   "metadata": {},
   "source": [
    "## Import the Data"
   ]
  },
  {
   "cell_type": "code",
   "execution_count": 7,
   "metadata": {
    "ExecuteTime": {
     "end_time": "2019-10-21T00:17:52.909819Z",
     "start_time": "2019-10-21T00:17:52.593801Z"
    }
   },
   "outputs": [
    {
     "name": "stdout",
     "output_type": "stream",
     "text": [
      "LOCAL FILE USED;\n",
      "REMOTE SERVER NOT REACHABLE\n",
      "--> [SSL: CERTIFICATE_VERIFY_FAILED] certificate verify failed (_ssl.c:590)\n",
      "\n",
      "\n"
     ]
    },
    {
     "data": {
      "text/html": [
       "<div>\n",
       "<style scoped>\n",
       "    .dataframe tbody tr th:only-of-type {\n",
       "        vertical-align: middle;\n",
       "    }\n",
       "\n",
       "    .dataframe tbody tr th {\n",
       "        vertical-align: top;\n",
       "    }\n",
       "\n",
       "    .dataframe thead th {\n",
       "        text-align: right;\n",
       "    }\n",
       "</style>\n",
       "<table border=\"1\" class=\"dataframe\">\n",
       "  <thead>\n",
       "    <tr style=\"text-align: right;\">\n",
       "      <th></th>\n",
       "      <th>date</th>\n",
       "      <th>price</th>\n",
       "      <th>bedrooms</th>\n",
       "      <th>bathrooms</th>\n",
       "      <th>sqft_living</th>\n",
       "      <th>sqft_lot</th>\n",
       "      <th>floors</th>\n",
       "      <th>waterfront</th>\n",
       "      <th>view</th>\n",
       "      <th>condition</th>\n",
       "      <th>grade</th>\n",
       "      <th>sqft_above</th>\n",
       "      <th>sqft_basement</th>\n",
       "      <th>yr_built</th>\n",
       "      <th>yr_renovated</th>\n",
       "      <th>zipcode</th>\n",
       "      <th>lat</th>\n",
       "      <th>long</th>\n",
       "      <th>sqft_living15</th>\n",
       "      <th>sqft_lot15</th>\n",
       "    </tr>\n",
       "    <tr>\n",
       "      <th>id</th>\n",
       "      <th></th>\n",
       "      <th></th>\n",
       "      <th></th>\n",
       "      <th></th>\n",
       "      <th></th>\n",
       "      <th></th>\n",
       "      <th></th>\n",
       "      <th></th>\n",
       "      <th></th>\n",
       "      <th></th>\n",
       "      <th></th>\n",
       "      <th></th>\n",
       "      <th></th>\n",
       "      <th></th>\n",
       "      <th></th>\n",
       "      <th></th>\n",
       "      <th></th>\n",
       "      <th></th>\n",
       "      <th></th>\n",
       "      <th></th>\n",
       "    </tr>\n",
       "  </thead>\n",
       "  <tbody>\n",
       "    <tr>\n",
       "      <th>7129300520</th>\n",
       "      <td>20141013T000000</td>\n",
       "      <td>221900.0</td>\n",
       "      <td>3</td>\n",
       "      <td>1.00</td>\n",
       "      <td>1180</td>\n",
       "      <td>5650</td>\n",
       "      <td>1.0</td>\n",
       "      <td>0</td>\n",
       "      <td>0</td>\n",
       "      <td>3</td>\n",
       "      <td>7</td>\n",
       "      <td>1180</td>\n",
       "      <td>0</td>\n",
       "      <td>1955</td>\n",
       "      <td>0</td>\n",
       "      <td>98178</td>\n",
       "      <td>47.5112</td>\n",
       "      <td>-122.257</td>\n",
       "      <td>1340</td>\n",
       "      <td>5650</td>\n",
       "    </tr>\n",
       "    <tr>\n",
       "      <th>6414100192</th>\n",
       "      <td>20141209T000000</td>\n",
       "      <td>538000.0</td>\n",
       "      <td>3</td>\n",
       "      <td>2.25</td>\n",
       "      <td>2570</td>\n",
       "      <td>7242</td>\n",
       "      <td>2.0</td>\n",
       "      <td>0</td>\n",
       "      <td>0</td>\n",
       "      <td>3</td>\n",
       "      <td>7</td>\n",
       "      <td>2170</td>\n",
       "      <td>400</td>\n",
       "      <td>1951</td>\n",
       "      <td>1991</td>\n",
       "      <td>98125</td>\n",
       "      <td>47.7210</td>\n",
       "      <td>-122.319</td>\n",
       "      <td>1690</td>\n",
       "      <td>7639</td>\n",
       "    </tr>\n",
       "    <tr>\n",
       "      <th>5631500400</th>\n",
       "      <td>20150225T000000</td>\n",
       "      <td>180000.0</td>\n",
       "      <td>2</td>\n",
       "      <td>1.00</td>\n",
       "      <td>770</td>\n",
       "      <td>10000</td>\n",
       "      <td>1.0</td>\n",
       "      <td>0</td>\n",
       "      <td>0</td>\n",
       "      <td>3</td>\n",
       "      <td>6</td>\n",
       "      <td>770</td>\n",
       "      <td>0</td>\n",
       "      <td>1933</td>\n",
       "      <td>0</td>\n",
       "      <td>98028</td>\n",
       "      <td>47.7379</td>\n",
       "      <td>-122.233</td>\n",
       "      <td>2720</td>\n",
       "      <td>8062</td>\n",
       "    </tr>\n",
       "    <tr>\n",
       "      <th>2487200875</th>\n",
       "      <td>20141209T000000</td>\n",
       "      <td>604000.0</td>\n",
       "      <td>4</td>\n",
       "      <td>3.00</td>\n",
       "      <td>1960</td>\n",
       "      <td>5000</td>\n",
       "      <td>1.0</td>\n",
       "      <td>0</td>\n",
       "      <td>0</td>\n",
       "      <td>5</td>\n",
       "      <td>7</td>\n",
       "      <td>1050</td>\n",
       "      <td>910</td>\n",
       "      <td>1965</td>\n",
       "      <td>0</td>\n",
       "      <td>98136</td>\n",
       "      <td>47.5208</td>\n",
       "      <td>-122.393</td>\n",
       "      <td>1360</td>\n",
       "      <td>5000</td>\n",
       "    </tr>\n",
       "    <tr>\n",
       "      <th>1954400510</th>\n",
       "      <td>20150218T000000</td>\n",
       "      <td>510000.0</td>\n",
       "      <td>3</td>\n",
       "      <td>2.00</td>\n",
       "      <td>1680</td>\n",
       "      <td>8080</td>\n",
       "      <td>1.0</td>\n",
       "      <td>0</td>\n",
       "      <td>0</td>\n",
       "      <td>3</td>\n",
       "      <td>8</td>\n",
       "      <td>1680</td>\n",
       "      <td>0</td>\n",
       "      <td>1987</td>\n",
       "      <td>0</td>\n",
       "      <td>98074</td>\n",
       "      <td>47.6168</td>\n",
       "      <td>-122.045</td>\n",
       "      <td>1800</td>\n",
       "      <td>7503</td>\n",
       "    </tr>\n",
       "  </tbody>\n",
       "</table>\n",
       "</div>"
      ],
      "text/plain": [
       "                       date     price  bedrooms  bathrooms  sqft_living  \\\n",
       "id                                                                        \n",
       "7129300520  20141013T000000  221900.0         3       1.00         1180   \n",
       "6414100192  20141209T000000  538000.0         3       2.25         2570   \n",
       "5631500400  20150225T000000  180000.0         2       1.00          770   \n",
       "2487200875  20141209T000000  604000.0         4       3.00         1960   \n",
       "1954400510  20150218T000000  510000.0         3       2.00         1680   \n",
       "\n",
       "            sqft_lot  floors  waterfront  view  condition  grade  sqft_above  \\\n",
       "id                                                                             \n",
       "7129300520      5650     1.0           0     0          3      7        1180   \n",
       "6414100192      7242     2.0           0     0          3      7        2170   \n",
       "5631500400     10000     1.0           0     0          3      6         770   \n",
       "2487200875      5000     1.0           0     0          5      7        1050   \n",
       "1954400510      8080     1.0           0     0          3      8        1680   \n",
       "\n",
       "            sqft_basement  yr_built  yr_renovated  zipcode      lat     long  \\\n",
       "id                                                                             \n",
       "7129300520              0      1955             0    98178  47.5112 -122.257   \n",
       "6414100192            400      1951          1991    98125  47.7210 -122.319   \n",
       "5631500400              0      1933             0    98028  47.7379 -122.233   \n",
       "2487200875            910      1965             0    98136  47.5208 -122.393   \n",
       "1954400510              0      1987             0    98074  47.6168 -122.045   \n",
       "\n",
       "            sqft_living15  sqft_lot15  \n",
       "id                                     \n",
       "7129300520           1340        5650  \n",
       "6414100192           1690        7639  \n",
       "5631500400           2720        8062  \n",
       "2487200875           1360        5000  \n",
       "1954400510           1800        7503  "
      ]
     },
     "execution_count": 7,
     "metadata": {},
     "output_type": "execute_result"
    }
   ],
   "source": [
    "path = 'https://library.startlearninglabs.uw.edu//DATASCI410//Datasets//'\n",
    "file = 'kc_house_data.csv'\n",
    "abode_df = fetch_data(path, file)\n",
    "abode_df.head()"
   ]
  },
  {
   "cell_type": "markdown",
   "metadata": {},
   "source": [
    "## Data Exploration"
   ]
  },
  {
   "cell_type": "markdown",
   "metadata": {
    "heading_collapsed": true
   },
   "source": [
    "### Assess Features - Price"
   ]
  },
  {
   "cell_type": "code",
   "execution_count": 8,
   "metadata": {
    "ExecuteTime": {
     "end_time": "2019-10-21T00:17:54.182892Z",
     "start_time": "2019-10-21T00:17:52.917819Z"
    },
    "hidden": true
   },
   "outputs": [
    {
     "name": "stdout",
     "output_type": "stream",
     "text": [
      "PRICE\n",
      "10749 homes sold above the median sales price of $450000.\n",
      "\n",
      "1465 homes sold above $1-million.\n"
     ]
    },
    {
     "data": {
      "image/png": "[encoded data removed]",
      "text/plain": [
       "<Figure size 720x504 with 1 Axes>"
      ]
     },
     "metadata": {},
     "output_type": "display_data"
    }
   ],
   "source": [
    "'''\n",
    "Visualize the 'price' and 'price_log' features via histogram.\n",
    "Observe the improved logarithmic behavior that reflects normal Gaussian distribution charcateristics.\n",
    "'''\n",
    "abode_df.hist(column=['price'], bins=50)\n",
    "plt.show\n",
    "\n",
    "\n",
    "'''\n",
    "Discover specific attributes of the sales price.\n",
    "'''\n",
    "vals = abode_df['price'].values\n",
    "median = np.median(vals)\n",
    "\n",
    "result = vals > median\n",
    "print('PRICE\\n{} homes sold above the median sales price of ${}.\\n'.format(np.sum(result), int(median)))\n",
    "result = vals > 10**6\n",
    "print('{} homes sold above $1-million.'.format(np.sum(result), ',d'))"
   ]
  },
  {
   "cell_type": "markdown",
   "metadata": {},
   "source": [
    "### Assess Feature - Bedrooms"
   ]
  },
  {
   "cell_type": "code",
   "execution_count": 9,
   "metadata": {
    "ExecuteTime": {
     "end_time": "2019-10-21T00:17:55.345958Z",
     "start_time": "2019-10-21T00:17:54.225894Z"
    }
   },
   "outputs": [
    {
     "name": "stdout",
     "output_type": "stream",
     "text": [
      "BEDROOMS\n",
      "8817 homes sold that have above the median number of 3.0 floors.\n",
      "\n",
      "The data appears normally distributed, with the largest number of bedrooms at 33.\n"
     ]
    },
    {
     "data": {
      "image/png": "[encoded data removed]",
      "text/plain": [
       "<Figure size 720x504 with 1 Axes>"
      ]
     },
     "metadata": {},
     "output_type": "display_data"
    }
   ],
   "source": [
    "'''\n",
    "Visualize the 'bedrooms' feature via histogram.\n",
    "'''\n",
    "abode_df.hist(column=['bedrooms'], bins=50)\n",
    "plt.show\n",
    "\n",
    "\n",
    "'''\n",
    "Discover specific attributes of the sales bedrooms.\n",
    "'''\n",
    "vals = abode_df['bedrooms'].values\n",
    "median = np.median(vals)\n",
    "\n",
    "result = vals > median\n",
    "print('BEDROOMS\\n{} homes sold that have above the median number of {} floors.\\n'.format(np.sum(result), median))\n",
    "print('The data appears normally distributed, with the largest number of bedrooms at {}.'.format(np.max(vals)))"
   ]
  },
  {
   "cell_type": "markdown",
   "metadata": {},
   "source": [
    "### Assess Feature - Bathrooms"
   ]
  },
  {
   "cell_type": "code",
   "execution_count": 10,
   "metadata": {
    "ExecuteTime": {
     "end_time": "2019-10-21T00:17:56.526026Z",
     "start_time": "2019-10-21T00:17:55.354959Z"
    },
    "scrolled": false
   },
   "outputs": [
    {
     "name": "stdout",
     "output_type": "stream",
     "text": [
      "BATHROOMS\n",
      "9195 homes were sold that have above the median of 2.25 bathrooms,\n",
      "and with a mean of 2.11 bathrooms.\n",
      "\n",
      "This result is nearly normal in distribution, even with the small tail to the right.\n"
     ]
    },
    {
     "data": {
      "image/png": "[encoded data removed]",
      "text/plain": [
       "<Figure size 720x504 with 1 Axes>"
      ]
     },
     "metadata": {},
     "output_type": "display_data"
    }
   ],
   "source": [
    "'''\n",
    "Visualize the 'bathrooms' features via histogram.\n",
    "Observe the small tail of the distribution.\n",
    "'''\n",
    "abode_df.hist(column=['bathrooms'], bins=50)\n",
    "plt.show\n",
    "\n",
    "\n",
    "'''\n",
    "Discover specific attributes of the sales bedrooms.\n",
    "'''\n",
    "vals = abode_df['bathrooms'].values\n",
    "median = np.median(vals)\n",
    "mean = np.mean(vals)\n",
    "\n",
    "result = vals > median\n",
    "print('BATHROOMS\\n{} homes were sold that have above the median of {} bathrooms,'.format(np.sum(result), median))\n",
    "print('and with a mean of {} bathrooms.\\n'.format(round(mean, 2)))\n",
    "print('This result is nearly normal in distribution, even with the small tail to the right.')"
   ]
  },
  {
   "cell_type": "markdown",
   "metadata": {},
   "source": [
    "### Assess Features - sqft_living, sqft_lot"
   ]
  },
  {
   "cell_type": "code",
   "execution_count": 11,
   "metadata": {
    "ExecuteTime": {
     "end_time": "2019-10-21T00:18:00.961280Z",
     "start_time": "2019-10-21T00:17:56.532026Z"
    },
    "scrolled": false
   },
   "outputs": [
    {
     "name": "stdout",
     "output_type": "stream",
     "text": [
      "LIVING SPACE\n",
      "10793 homes sold that have above the median of 1910 square feet of living space,\n",
      "with the smallest living space at 290 square feet, and the largest at 13540 square feet.\n",
      "\n",
      "LOT SPACE\n",
      "10806 homes sold that have above the median of 7618 square feet of lot size,\n",
      "with the smallest lot size at 520 square feet, and the largest at 1651359 square feet.\n",
      "\n",
      "Notice the long tail to the right of the distribution for the 'sqft_lot' feature.\n"
     ]
    },
    {
     "data": {
      "image/png": "[encoded data removed]",
      "text/plain": [
       "<Figure size 720x504 with 1 Axes>"
      ]
     },
     "metadata": {},
     "output_type": "display_data"
    },
    {
     "data": {
      "image/png": "[encoded data removed]",
      "text/plain": [
       "<Figure size 720x504 with 1 Axes>"
      ]
     },
     "metadata": {},
     "output_type": "display_data"
    }
   ],
   "source": [
    "'''\n",
    "Visualize the 'sqft_living' and 'sqft_lot' features via histogram.\n",
    "'''\n",
    "abode_df.hist(column=['sqft_living'], bins=50)\n",
    "abode_df.hist(column=['sqft_lot'], bins=500)\n",
    "plt.xlim(0,200000)\n",
    "plt.show\n",
    "\n",
    "\n",
    "'''\n",
    "Discover specific attributes of the sales bedrooms.\n",
    "'''\n",
    "vals = abode_df['sqft_living'].values\n",
    "median = np.median(vals)\n",
    "min_space = np.min(abode_df['sqft_living'])\n",
    "max_space = np.max(abode_df['sqft_living'])\n",
    "\n",
    "result = vals > median\n",
    "print('LIVING SPACE\\n{} homes sold that have above the median of {} square feet of living space,'.format(np.sum(result), int(median)))\n",
    "print('with the smallest living space at {} square feet, and the largest at {} square feet.\\n'.format(min_space, max_space))\n",
    "vals = abode_df['sqft_lot'].values\n",
    "median = np.median(vals)\n",
    "result = vals > median\n",
    "min_space = np.min(abode_df['sqft_lot'])\n",
    "max_space = np.max(abode_df['sqft_lot'])\n",
    "\n",
    "print('LOT SPACE\\n{} homes sold that have above the median of {} square feet of lot size,'.format(np.sum(result), int(median)))\n",
    "print('with the smallest lot size at {} square feet, and the largest at {} square feet.\\n'.format(min_space, max_space))\n",
    "print('Notice the long tail to the right of the distribution for the \\'sqft_lot\\' feature.')"
   ]
  },
  {
   "cell_type": "markdown",
   "metadata": {},
   "source": [
    "### Assess Feature - Floors"
   ]
  },
  {
   "cell_type": "code",
   "execution_count": 12,
   "metadata": {
    "ExecuteTime": {
     "end_time": "2019-10-21T00:18:02.131346Z",
     "start_time": "2019-10-21T00:18:00.966280Z"
    }
   },
   "outputs": [
    {
     "name": "stdout",
     "output_type": "stream",
     "text": [
      "FLOORS\n",
      "9023 homes were sold that have above the median of 1.5 floors,\n",
      "with a mean of 1.49 floors.\n",
      "\n",
      "10680 homes sold had 1 floor.\n",
      "1910 homes sold had 1.5 floors.\n",
      "8241 homes sold had 2 floors.\n",
      "\n",
      "Observe that the distribution of data is considered normal, where the median and mean values are nearly identical.\n"
     ]
    },
    {
     "data": {
      "image/png": "[encoded data removed]",
      "text/plain": [
       "<Figure size 720x504 with 1 Axes>"
      ]
     },
     "metadata": {},
     "output_type": "display_data"
    }
   ],
   "source": [
    "'''\n",
    "Visualize the 'floors' features via histogram.\n",
    "Observe the small tail of the distribution.\n",
    "'''\n",
    "abode_df.hist(column=['floors'], bins=50)\n",
    "plt.show\n",
    "\n",
    "\n",
    "'''\n",
    "Discover specific attributes of the sales bedrooms.\n",
    "'''\n",
    "vals = abode_df['floors'].values\n",
    "median = np.median(vals)\n",
    "mean = np.mean(vals)\n",
    "\n",
    "result = vals > median\n",
    "result_1 = (vals == 1)\n",
    "result_15 = (vals == 1.5)\n",
    "result_2 = (vals == 2)\n",
    "print('FLOORS\\n{} homes were sold that have above the median of {} floors,'.format(np.sum(result), median))\n",
    "print('with a mean of {} floors.\\n'.format(round(mean, 2)))\n",
    "print('{} homes sold had 1 floor.'.format(np.sum(result_1)))\n",
    "print('{} homes sold had 1.5 floors.'.format(np.sum(result_15)))\n",
    "print('{} homes sold had 2 floors.\\n'.format(np.sum(result_2)))\n",
    "print('Observe that the distribution of data is considered normal, where the median and mean values are nearly identical.')"
   ]
  },
  {
   "cell_type": "markdown",
   "metadata": {},
   "source": [
    "### Assess Feature - Waterfront"
   ]
  },
  {
   "cell_type": "code",
   "execution_count": 13,
   "metadata": {
    "ExecuteTime": {
     "end_time": "2019-10-21T00:18:03.294413Z",
     "start_time": "2019-10-21T00:18:02.134347Z"
    }
   },
   "outputs": [
    {
     "name": "stdout",
     "output_type": "stream",
     "text": [
      "WATERFRONT\n",
      "163 homes have a waterfront view,\n",
      "while 21450 homes do not have a waterfront view.\n",
      "\n",
      "As observed, the 'waterfront' feature is imbalanced; it is unlikely to provide further benefit to this analysis,\n",
      "in that, any resulting model based on this feature will have a biased prediction outcome.\n"
     ]
    },
    {
     "data": {
      "image/png": "[encoded data removed]",
      "text/plain": [
       "<Figure size 720x504 with 1 Axes>"
      ]
     },
     "metadata": {},
     "output_type": "display_data"
    }
   ],
   "source": [
    "'''\n",
    "Visualize the 'waterfront' features via histogram.\n",
    "Observe the small tail of the distribution.\n",
    "'''\n",
    "abode_df.hist(column=['waterfront'], bins=50)\n",
    "plt.show\n",
    "\n",
    "\n",
    "'''\n",
    "Discover specific attributes of the sales waterfront.\n",
    "'''\n",
    "vals = abode_df['waterfront'].values\n",
    "view_yes = (vals==1)\n",
    "view_no = (vals==0)\n",
    "print('WATERFRONT\\n{} homes have a waterfront view,'.format(np.sum(view_yes)))\n",
    "print('while {} homes do not have a waterfront view.\\n'.format(np.sum(view_no)))\n",
    "print('As observed, the \\'waterfront\\' feature is imbalanced; it is unlikely to provide further benefit to this analysis,')\n",
    "print('in that, any resulting model based on this feature will have a biased prediction outcome.')"
   ]
  },
  {
   "cell_type": "markdown",
   "metadata": {},
   "source": [
    "### Assess Feature - Condition"
   ]
  },
  {
   "cell_type": "code",
   "execution_count": 14,
   "metadata": {
    "ExecuteTime": {
     "end_time": "2019-10-21T00:18:04.467480Z",
     "start_time": "2019-10-21T00:18:03.327415Z"
    }
   },
   "outputs": [
    {
     "name": "stdout",
     "output_type": "stream",
     "text": [
      "CONDITION\n",
      "Observe the data is normally distributed with a median of 3.0,\n",
      "and a mean of 3.41, where a 'best condition' is a magnitude of 5.0\n"
     ]
    },
    {
     "data": {
      "image/png": "[encoded data removed]",
      "text/plain": [
       "<Figure size 720x504 with 1 Axes>"
      ]
     },
     "metadata": {},
     "output_type": "display_data"
    }
   ],
   "source": [
    "'''\n",
    "Visualize the 'condition' features via histogram.\n",
    "Observe the small tail of the distribution.\n",
    "'''\n",
    "abode_df.hist(column=['condition'], bins=50)\n",
    "plt.show\n",
    "\n",
    "\n",
    "'''\n",
    "Discover specific attributes of the sales condition.\n",
    "'''\n",
    "mean = np.mean(abode_df['condition'])\n",
    "median = np.median(abode_df['condition'])\n",
    "print('CONDITION\\nObserve the data is normally distributed with a median of {},'.format(round(np.sum(median),2)))\n",
    "print('and a mean of {}, where a \\'best condition\\' is a magnitude of 5.0'.format(round(np.sum(mean),2)))"
   ]
  },
  {
   "cell_type": "markdown",
   "metadata": {},
   "source": [
    "### Assess Feature - Grade"
   ]
  },
  {
   "cell_type": "code",
   "execution_count": 15,
   "metadata": {
    "ExecuteTime": {
     "end_time": "2019-10-21T00:18:05.652548Z",
     "start_time": "2019-10-21T00:18:04.473480Z"
    }
   },
   "outputs": [
    {
     "name": "stdout",
     "output_type": "stream",
     "text": [
      "GRADE\n",
      "Observe the data is normally distributed with a median of 7.0,\n",
      "and a mean of 7.66.\n",
      "\n",
      "Both the median and mean indicate an 'average' construction grade of the homes purchased.\n"
     ]
    },
    {
     "data": {
      "image/png": "[encoded data removed]",
      "text/plain": [
       "<Figure size 720x504 with 1 Axes>"
      ]
     },
     "metadata": {},
     "output_type": "display_data"
    }
   ],
   "source": [
    "'''\n",
    "Visualize the 'grade' features via histogram.\n",
    "Observe the small tail of the distribution.\n",
    "'''\n",
    "abode_df.hist(column=['grade'], bins=50)\n",
    "plt.show\n",
    "\n",
    "\n",
    "'''\n",
    "Discover specific attributes of the grade.\n",
    "'''\n",
    "mean = np.mean(abode_df['grade'])\n",
    "median = np.median(abode_df['grade'])\n",
    "print('GRADE\\nObserve the data is normally distributed with a median of {},'.format(round(np.sum(median),2)))\n",
    "print('and a mean of {}.\\n'.format(round(np.sum(mean),2)))\n",
    "print('Both the median and mean indicate an \\'average\\' construction grade of the homes purchased.')"
   ]
  },
  {
   "cell_type": "markdown",
   "metadata": {},
   "source": [
    "### Assess Feature - View"
   ]
  },
  {
   "cell_type": "code",
   "execution_count": 16,
   "metadata": {
    "ExecuteTime": {
     "end_time": "2019-10-21T00:18:06.955622Z",
     "start_time": "2019-10-21T00:18:05.656548Z"
    }
   },
   "outputs": [
    {
     "name": "stdout",
     "output_type": "stream",
     "text": [
      "VIEW\n",
      "Observe the data is NOT normally distributed with a median of 0.0,\n",
      "and a mean of 0.23.\n",
      "\n",
      "This result indicates that this feature is likely not useful, primarily because most of the houses do not have a view.\n",
      "\n",
      "Equally, there is ambiguity surrounding the meaning of this feature,\n",
      "whether or not it speaks to the actual property view,\n",
      "or if it indicates the magnitude of property showings (in order to sell it).\n"
     ]
    },
    {
     "data": {
      "image/png": "[encoded data removed]",
      "text/plain": [
       "<Figure size 720x504 with 1 Axes>"
      ]
     },
     "metadata": {},
     "output_type": "display_data"
    }
   ],
   "source": [
    "'''\n",
    "Visualize the 'view' features via histogram.\n",
    "Observe the small tail of the distribution.\n",
    "'''\n",
    "abode_df.hist(column=['view'], bins=50)\n",
    "plt.show\n",
    "\n",
    "\n",
    "'''\n",
    "Discover specific attributes of the sales condition.\n",
    "'''\n",
    "mean = np.mean(abode_df['view'])\n",
    "median = np.median(abode_df['view'])\n",
    "print('VIEW\\nObserve the data is NOT normally distributed with a median of {},'.format(round(np.sum(median),2)))\n",
    "print('and a mean of {}.\\n'.format(round(np.sum(mean),2)))\n",
    "print('This result indicates that this feature is likely not useful, primarily because most of the houses do not have a view.\\n')\n",
    "print('Equally, there is ambiguity surrounding the meaning of this feature,')\n",
    "print('whether or not it speaks to the actual property view,\\nor if it indicates the magnitude of property showings (in order to sell it).')"
   ]
  },
  {
   "cell_type": "markdown",
   "metadata": {},
   "source": [
    "### Assess Features - Sqft_basement, Sqft_above"
   ]
  },
  {
   "cell_type": "code",
   "execution_count": 17,
   "metadata": {
    "ExecuteTime": {
     "end_time": "2019-10-21T00:18:09.232753Z",
     "start_time": "2019-10-21T00:18:06.962623Z"
    },
    "scrolled": false
   },
   "outputs": [
    {
     "name": "stdout",
     "output_type": "stream",
     "text": [
      "SQFT_BASEMENT\n",
      "Observe the data is NOT normally distributed with a median of 0.0,\n",
      "and a mean of 291.51.\n",
      "\n",
      "For those houses with basements, the feature IS normally distrubted with a median of 700.0\n",
      "and a mean of 742.36.\n",
      "\n",
      "There are a couple of concerns with using this feature for building a model:\n",
      "   1. Of the 3 features conatined within the original dataset, 'sqft_living', 'sqft_basement', and 'sqft_above',\n",
      "      the prior 2 are additively equivalent to the latter. Thus, the 2 redundant features should be removed from the analysis.\n",
      "   2. Per the histogram, the majority of houses do not have a basement.\n",
      "      Therefore, any analysis based on feature 'sqft_basement' will yield biased results.\n"
     ]
    },
    {
     "data": {
      "image/png": "[encoded data removed]",
      "text/plain": [
       "<Figure size 720x504 with 1 Axes>"
      ]
     },
     "metadata": {},
     "output_type": "display_data"
    },
    {
     "data": {
      "image/png": "[encoded data removed]",
      "text/plain": [
       "<Figure size 720x504 with 1 Axes>"
      ]
     },
     "metadata": {},
     "output_type": "display_data"
    }
   ],
   "source": [
    "'''\n",
    "Visualize the 'sqft_basement' features via histogram.\n",
    "Observe the small tail of the distribution.\n",
    "'''\n",
    "abode_df.hist(column=['sqft_basement'], bins=50)\n",
    "plt.show\n",
    "\n",
    "\n",
    "'''\n",
    "Discover specific attributes of the sales condition.\n",
    "'''\n",
    "vec = abode_df['sqft_basement']\n",
    "mean = np.mean(vec)\n",
    "median = np.median(vec)\n",
    "print('SQFT_BASEMENT\\nObserve the data is NOT normally distributed with a median of {},'.format(round(np.sum(median),2)))\n",
    "print('and a mean of {}.\\n'.format(round(np.sum(mean),2)))\n",
    "result_true = vec>0\n",
    "result = abode_df[result_true]\n",
    "vec2 = result['sqft_basement'].values\n",
    "mean_result = np.mean(vec2)\n",
    "median_result = np.median(vec2)\n",
    "print('For those houses with basements, the feature IS normally distrubted with a median of {}'.format(round(median_result,2)))\n",
    "print('and a mean of {}.\\n'.format(round(mean_result,2)))\n",
    "\n",
    "\n",
    "'''\n",
    "Visualize the 'sqft_basement' features via histogram.\n",
    "Observe the small tail of the distribution.\n",
    "'''\n",
    "result.hist(column=['sqft_basement'], bins=50)\n",
    "plt.show\n",
    "\n",
    "print('There are a couple of concerns with using this feature for building a model:')\n",
    "print('   1. Of the 3 features conatined within the original dataset, \\'sqft_living\\', \\'sqft_basement\\', and \\'sqft_above\\',')\n",
    "print('      the prior 2 are additively equivalent to the latter. Thus, the 2 redundant features should be removed from the analysis.')\n",
    "print('   2. Per the histogram, the majority of houses do not have a basement.')\n",
    "print('      Therefore, any analysis based on feature \\'sqft_basement\\' will yield biased results.')"
   ]
  },
  {
   "cell_type": "markdown",
   "metadata": {},
   "source": [
    "### Assess Feature - Year Built"
   ]
  },
  {
   "cell_type": "code",
   "execution_count": 18,
   "metadata": {
    "ExecuteTime": {
     "end_time": "2019-10-21T00:18:10.537827Z",
     "start_time": "2019-10-21T00:18:09.236753Z"
    }
   },
   "outputs": [
    {
     "name": "stdout",
     "output_type": "stream",
     "text": [
      "YEAR BUILT\n",
      "The houses purchased were constructed in the median year 1975,\n",
      "with a mean of construction build of 1971.\n",
      "\n",
      "The observed distribution does not appear to have any Gaussian characteristics.\n"
     ]
    },
    {
     "data": {
      "image/png": "[encoded data removed]",
      "text/plain": [
       "<Figure size 720x504 with 1 Axes>"
      ]
     },
     "metadata": {},
     "output_type": "display_data"
    }
   ],
   "source": [
    "'''\n",
    "Visualize the 'view' features via histogram.\n",
    "Observe the small tail of the distribution.\n",
    "'''\n",
    "abode_df.hist(column=['yr_built'], bins=50)\n",
    "plt.show\n",
    "\n",
    "\n",
    "'''\n",
    "Discover specific attributes of the sales condition.\n",
    "'''\n",
    "mean = np.mean(abode_df['yr_built'])\n",
    "median = np.median(abode_df['yr_built'])\n",
    "print('YEAR BUILT\\nThe houses purchased were constructed in the median year {},'.format(int(np.sum(median))))\n",
    "print('with a mean of construction build of {}.\\n'.format(int(np.sum(mean))))\n",
    "print('The observed distribution does not appear to have any Gaussian characteristics.')"
   ]
  },
  {
   "cell_type": "markdown",
   "metadata": {},
   "source": [
    "### Assess Feature - Year Renovated"
   ]
  },
  {
   "cell_type": "code",
   "execution_count": 19,
   "metadata": {
    "ExecuteTime": {
     "end_time": "2019-10-21T00:18:11.808900Z",
     "start_time": "2019-10-21T00:18:10.541828Z"
    }
   },
   "outputs": [
    {
     "name": "stdout",
     "output_type": "stream",
     "text": [
      "YEAR RENOVATED\n",
      "Observe that the feature is biased with a median of 0,\n",
      "and a mean of 84.\n",
      "\n",
      "In the histogram shown, the presumption is that '0' values indicate houses that have not had any type of renovations.\n",
      "\n",
      "Only 914 houses have reported renovations,\n",
      "that is in-fact an underwhelming outcome per the 21613 total samples contained within this study.\n",
      "\n"
     ]
    },
    {
     "data": {
      "image/png": "[encoded data removed]",
      "text/plain": [
       "<Figure size 720x504 with 1 Axes>"
      ]
     },
     "metadata": {},
     "output_type": "display_data"
    }
   ],
   "source": [
    "'''\n",
    "Visualize the 'yr_renovated' features via histogram.\n",
    "Observe the small tail of the distribution.\n",
    "'''\n",
    "abode_df.hist(column=['yr_renovated'], bins=50)\n",
    "plt.show\n",
    "\n",
    "\n",
    "'''\n",
    "Discover specific attributes of the sales condition.\n",
    "'''\n",
    "vec = abode_df['yr_renovated']\n",
    "mean = np.mean(vec)\n",
    "median = np.median(vec)\n",
    "result = vec>0\n",
    "print('YEAR RENOVATED\\nObserve that the feature is biased with a median of {},'.format(int(np.sum(median))))\n",
    "print('and a mean of {}.\\n'.format(int(np.sum(mean))))\n",
    "print('In the histogram shown, the presumption is that \\'0\\' values indicate houses that have not had any type of renovations.\\n')\n",
    "print('Only {} houses have reported renovations,\\nthat is in-fact an underwhelming outcome per the {} total samples contained within this study.\\n'.format(np.sum(result), abode_df.shape[0]))"
   ]
  },
  {
   "cell_type": "markdown",
   "metadata": {},
   "source": [
    "### Assess Feature - Zipcode"
   ]
  },
  {
   "cell_type": "code",
   "execution_count": 20,
   "metadata": {
    "ExecuteTime": {
     "end_time": "2019-10-21T00:18:13.094974Z",
     "start_time": "2019-10-21T00:18:11.814900Z"
    }
   },
   "outputs": [
    {
     "name": "stdout",
     "output_type": "stream",
     "text": [
      "ZIPCODE\n",
      "There are 70 zipcode designations that the house purchase data is based upon.\n",
      "\n",
      "In preperation for model development, and in order to utilize the 'zipcode' feature,\n",
      "it is necessary then to encode these 70 categorical values into binary ones.\n",
      "\n",
      "Each of these additions consequently becomes a new feature,\n",
      "and the model development attempt would become untenable and overly complex.\n",
      "\n",
      "Thus, the 'zipcode' feature will be negated for future analysis.\n"
     ]
    },
    {
     "data": {
      "image/png": "[encoded data removed]",
      "text/plain": [
       "<Figure size 720x504 with 1 Axes>"
      ]
     },
     "metadata": {},
     "output_type": "display_data"
    }
   ],
   "source": [
    "'''\n",
    "Visualize the 'zipcode' features via histogram.\n",
    "Observe the small tail of the distribution.\n",
    "'''\n",
    "abode_df.hist(column=['zipcode'], bins=50)\n",
    "plt.show\n",
    "\n",
    "\n",
    "'''\n",
    "Discover specific attributes of the sales condition.\n",
    "'''\n",
    "vec = abode_df['zipcode']\n",
    "\n",
    "print('ZIPCODE\\nThere are {} zipcode designations that the house purchase data is based upon.\\n'.format(len(vec.unique())))\n",
    "print('In preperation for model development, and in order to utilize the \\'zipcode\\' feature,')\n",
    "print('it is necessary then to encode these {} categorical values into binary ones.\\n'.format(len(vec.unique())))\n",
    "print('Each of these additions consequently becomes a new feature,')\n",
    "print('and the model development attempt would become untenable and overly complex.\\n')\n",
    "print('Thus, the \\'zipcode\\' feature will be negated for future analysis.')"
   ]
  },
  {
   "cell_type": "markdown",
   "metadata": {},
   "source": [
    "### Assess Features - Longitude, Latitude"
   ]
  },
  {
   "cell_type": "code",
   "execution_count": 21,
   "metadata": {
    "ExecuteTime": {
     "end_time": "2019-10-21T00:18:15.509112Z",
     "start_time": "2019-10-21T00:18:13.098974Z"
    }
   },
   "outputs": [
    {
     "name": "stdout",
     "output_type": "stream",
     "text": [
      "LATITUDE & LONGITUDE\n",
      "Although each of the 'lat', 'long' features is of high precision, this does not make it useful.\n",
      "Equally, the 'zipcode' feature already contains the same information, though at a lesser resolution.\n",
      "\n",
      "Therefore, as previously determined for feature 'zipcode',\n",
      "these 2 features are likewise not useful for developing a simple analytics approach.\n"
     ]
    },
    {
     "data": {
      "image/png": "[encoded data removed]",
      "text/plain": [
       "<Figure size 720x504 with 2 Axes>"
      ]
     },
     "metadata": {},
     "output_type": "display_data"
    }
   ],
   "source": [
    "'''\n",
    "Visualize the 'zipcode' features via histogram.\n",
    "Observe the small tail of the distribution.\n",
    "'''\n",
    "abode_df.hist(column=['lat', 'long'], bins=50)\n",
    "plt.show\n",
    "\n",
    "\n",
    "'''\n",
    "Discover specific attributes of the sales condition.\n",
    "'''\n",
    "print('LATITUDE & LONGITUDE\\nAlthough each of the \\'lat\\', \\'long\\' features is of high precision, this does not make it useful.')\n",
    "print('Equally, the \\'zipcode\\' feature already contains the same information, though at a lesser resolution.\\n')\n",
    "print('Therefore, as previously determined for feature \\'zipcode\\',')\n",
    "print('these 2 features are likewise not useful for developing a simple analytics approach.')"
   ]
  },
  {
   "cell_type": "markdown",
   "metadata": {},
   "source": [
    "### Assess Features - Sqft_living15, Sqft_lot15"
   ]
  },
  {
   "cell_type": "code",
   "execution_count": 22,
   "metadata": {
    "ExecuteTime": {
     "end_time": "2019-10-21T00:18:15.545114Z",
     "start_time": "2019-10-21T00:18:15.529113Z"
    },
    "scrolled": true
   },
   "outputs": [
    {
     "data": {
      "text/plain": [
       "Index(['date', 'price', 'bedrooms', 'bathrooms', 'sqft_living', 'sqft_lot',\n",
       "       'floors', 'waterfront', 'view', 'condition', 'grade', 'sqft_above',\n",
       "       'sqft_basement', 'yr_built', 'yr_renovated', 'zipcode', 'lat', 'long',\n",
       "       'sqft_living15', 'sqft_lot15'],\n",
       "      dtype='object')"
      ]
     },
     "execution_count": 22,
     "metadata": {},
     "output_type": "execute_result"
    }
   ],
   "source": [
    "abode_df.columns"
   ]
  },
  {
   "cell_type": "code",
   "execution_count": 23,
   "metadata": {
    "ExecuteTime": {
     "end_time": "2019-10-21T00:18:18.033256Z",
     "start_time": "2019-10-21T00:18:15.554114Z"
    }
   },
   "outputs": [
    {
     "name": "stdout",
     "output_type": "stream",
     "text": [
      "SQFT_LIVING_15\n",
      "The feature is normally distributed with a median of 1840.0 square feet,\n",
      "and a mean of 1986.55 square feet.\n",
      "\n",
      "SQFT_LOT_15\n",
      "The feature has a median of 7620.0 square feet,\n",
      "and a mean of 12768.46 square feet.\n",
      "\n",
      "SQFT_LIVING\n",
      "The feature has a median of 1910.0 square feet,\n",
      "and a mean of 2079.9 square feet.\n",
      "\n",
      "SQFT_LOT\n",
      "The feature is normally distributed with a median of 7618.0 square feet,\n",
      "and a mean of 15106.97 square feet.\n",
      "\n",
      "DIFFERENCES\n",
      "The differences between the 'sqft_living' vs. 'sqft_living_15',\n",
      "and the 'sqft_lot' vs. 'sqft_lot_15' features, respectively, is 70.0 square feet and 2.0 square feet.\n",
      "\n",
      "These results, based upon the consecutive years from 2014 to 2015, do not reflect significant change.\n",
      "Therefore, these 2 features are neglected in the upcoming analysis, for not conveying realistic information.\n"
     ]
    },
    {
     "data": {
      "image/png": "[encoded data removed]",
      "text/plain": [
       "<Figure size 720x504 with 2 Axes>"
      ]
     },
     "metadata": {},
     "output_type": "display_data"
    }
   ],
   "source": [
    "'''\n",
    "Visualize the 'zipcode' features via histogram.\n",
    "Observe the small tail of the distribution.\n",
    "'''\n",
    "abode_df.hist(column=['sqft_living15', 'sqft_lot15'], bins=50)\n",
    "plt.show\n",
    "\n",
    "\n",
    "'''\n",
    "Discover specific attributes of the sales condition.\n",
    "'''\n",
    "mean_living_15 = np.mean(abode_df['sqft_living15'])\n",
    "median_living_15 = np.median(abode_df['sqft_living15'])\n",
    "#--------\n",
    "mean_lot_15 = np.mean(abode_df['sqft_lot15'])\n",
    "median_lot_15 = np.median(abode_df['sqft_lot15'])\n",
    "print('SQFT_LIVING_15\\nThe feature is normally distributed with a median of {} square feet,'.format(round(np.sum(median_living_15),2)))\n",
    "print('and a mean of {} square feet.\\n'.format(round(np.sum(mean_living_15),2)))\n",
    "print('SQFT_LOT_15\\nThe feature has a median of {} square feet,'.format(round(np.sum(median_lot_15),2)))\n",
    "print('and a mean of {} square feet.\\n'.format(round(np.sum(mean_lot_15),2)))\n",
    "\n",
    "mean_living = np.mean(abode_df['sqft_living'])\n",
    "median_living = np.median(abode_df['sqft_living'])\n",
    "#--------\n",
    "mean_lot = np.mean(abode_df['sqft_lot'])\n",
    "median_lot = np.median(abode_df['sqft_lot'])\n",
    "print('SQFT_LIVING\\nThe feature has a median of {} square feet,'.format(round(np.sum(median_living),2)))\n",
    "print('and a mean of {} square feet.\\n'.format(round(np.sum(mean_living),2)))\n",
    "print('SQFT_LOT\\nThe feature is normally distributed with a median of {} square feet,'.format(round(np.sum(median_lot),2)))\n",
    "print('and a mean of {} square feet.\\n'.format(round(np.sum(mean_lot),2)))\n",
    "\n",
    "median_diff_living = np.abs(median_living_15 - median_living)\n",
    "median_diff_lot = np.abs(median_lot_15 - median_lot)\n",
    "print('DIFFERENCES\\nThe differences between the \\'sqft_living\\' vs. \\'sqft_living_15\\',')\n",
    "print('and the \\'sqft_lot\\' vs. \\'sqft_lot_15\\' features, respectively, is {} square feet and {} square feet.\\n'.format(median_diff_living, median_diff_lot))\n",
    "print('These results, based upon the consecutive years from 2014 to 2015, do not reflect significant change.')\n",
    "print('Therefore, these 2 features are neglected in the upcoming analysis, for not conveying realistic information.')"
   ]
  },
  {
   "cell_type": "markdown",
   "metadata": {},
   "source": [
    "## Analysis Methodology"
   ]
  },
  {
   "cell_type": "markdown",
   "metadata": {},
   "source": [
    "> Preparing the dataset based upon the above discussion, the following features will be dropped from the forthcoming analysis:  \n",
    ">     - waterfront  \n",
    ">     - view  \n",
    ">     - sqft_above\n",
    ">     - sqft_basement\n",
    ">     - yr_renovated\n",
    ">     - long\n",
    ">     - lat\n",
    ">     - sqft_living15\n",
    ">     - sqft_lot15  \n",
    ">     - zipcode\n",
    "<br>  \n",
    "> Of most significance thus far from the above work accomplished, we observe that a correlation between the 2 features of 'sqft_living' and 'sqft_lot' can be identified. This is an interesting aspect of the problem statement, because depending on population density of the King County Housing dataset, it can be surmized that string predictions may be derived from these features, as the lot size may in fact drive the number of floors upward, and consequently the house price increases in kind.  \n",
    "<br>  \n",
    "> The intention then, is to establish an analysis employing multivariate linear regression models sans the above features, so as to simplify the applied model and therefor coaxing improved results that have predictive power of home sales prices based upon the most important of the features only.  "
   ]
  },
  {
   "cell_type": "markdown",
   "metadata": {},
   "source": [
    "## Data Preparation"
   ]
  },
  {
   "cell_type": "markdown",
   "metadata": {
    "heading_collapsed": true
   },
   "source": [
    "### Establish dtype Features - Date"
   ]
  },
  {
   "cell_type": "code",
   "execution_count": 24,
   "metadata": {
    "ExecuteTime": {
     "end_time": "2019-10-21T00:18:18.235268Z",
     "start_time": "2019-10-21T00:18:18.043257Z"
    },
    "hidden": true,
    "scrolled": true
   },
   "outputs": [
    {
     "data": {
      "text/html": [
       "<div>\n",
       "<style scoped>\n",
       "    .dataframe tbody tr th:only-of-type {\n",
       "        vertical-align: middle;\n",
       "    }\n",
       "\n",
       "    .dataframe tbody tr th {\n",
       "        vertical-align: top;\n",
       "    }\n",
       "\n",
       "    .dataframe thead th {\n",
       "        text-align: right;\n",
       "    }\n",
       "</style>\n",
       "<table border=\"1\" class=\"dataframe\">\n",
       "  <thead>\n",
       "    <tr style=\"text-align: right;\">\n",
       "      <th></th>\n",
       "      <th>date</th>\n",
       "      <th>price</th>\n",
       "      <th>bedrooms</th>\n",
       "      <th>bathrooms</th>\n",
       "      <th>sqft_living</th>\n",
       "      <th>sqft_lot</th>\n",
       "      <th>floors</th>\n",
       "      <th>waterfront</th>\n",
       "      <th>view</th>\n",
       "      <th>condition</th>\n",
       "      <th>grade</th>\n",
       "      <th>sqft_above</th>\n",
       "      <th>sqft_basement</th>\n",
       "      <th>yr_built</th>\n",
       "      <th>yr_renovated</th>\n",
       "      <th>zipcode</th>\n",
       "      <th>lat</th>\n",
       "      <th>long</th>\n",
       "      <th>sqft_living15</th>\n",
       "      <th>sqft_lot15</th>\n",
       "    </tr>\n",
       "    <tr>\n",
       "      <th>id</th>\n",
       "      <th></th>\n",
       "      <th></th>\n",
       "      <th></th>\n",
       "      <th></th>\n",
       "      <th></th>\n",
       "      <th></th>\n",
       "      <th></th>\n",
       "      <th></th>\n",
       "      <th></th>\n",
       "      <th></th>\n",
       "      <th></th>\n",
       "      <th></th>\n",
       "      <th></th>\n",
       "      <th></th>\n",
       "      <th></th>\n",
       "      <th></th>\n",
       "      <th></th>\n",
       "      <th></th>\n",
       "      <th></th>\n",
       "      <th></th>\n",
       "    </tr>\n",
       "  </thead>\n",
       "  <tbody>\n",
       "    <tr>\n",
       "      <th>7129300520</th>\n",
       "      <td>2014-10-13</td>\n",
       "      <td>221900.0</td>\n",
       "      <td>3</td>\n",
       "      <td>1.00</td>\n",
       "      <td>1180</td>\n",
       "      <td>5650</td>\n",
       "      <td>1.0</td>\n",
       "      <td>0</td>\n",
       "      <td>0</td>\n",
       "      <td>3</td>\n",
       "      <td>7</td>\n",
       "      <td>1180</td>\n",
       "      <td>0</td>\n",
       "      <td>1955</td>\n",
       "      <td>0</td>\n",
       "      <td>98178</td>\n",
       "      <td>47.5112</td>\n",
       "      <td>-122.257</td>\n",
       "      <td>1340</td>\n",
       "      <td>5650</td>\n",
       "    </tr>\n",
       "    <tr>\n",
       "      <th>6414100192</th>\n",
       "      <td>2014-12-09</td>\n",
       "      <td>538000.0</td>\n",
       "      <td>3</td>\n",
       "      <td>2.25</td>\n",
       "      <td>2570</td>\n",
       "      <td>7242</td>\n",
       "      <td>2.0</td>\n",
       "      <td>0</td>\n",
       "      <td>0</td>\n",
       "      <td>3</td>\n",
       "      <td>7</td>\n",
       "      <td>2170</td>\n",
       "      <td>400</td>\n",
       "      <td>1951</td>\n",
       "      <td>1991</td>\n",
       "      <td>98125</td>\n",
       "      <td>47.7210</td>\n",
       "      <td>-122.319</td>\n",
       "      <td>1690</td>\n",
       "      <td>7639</td>\n",
       "    </tr>\n",
       "    <tr>\n",
       "      <th>5631500400</th>\n",
       "      <td>2015-02-25</td>\n",
       "      <td>180000.0</td>\n",
       "      <td>2</td>\n",
       "      <td>1.00</td>\n",
       "      <td>770</td>\n",
       "      <td>10000</td>\n",
       "      <td>1.0</td>\n",
       "      <td>0</td>\n",
       "      <td>0</td>\n",
       "      <td>3</td>\n",
       "      <td>6</td>\n",
       "      <td>770</td>\n",
       "      <td>0</td>\n",
       "      <td>1933</td>\n",
       "      <td>0</td>\n",
       "      <td>98028</td>\n",
       "      <td>47.7379</td>\n",
       "      <td>-122.233</td>\n",
       "      <td>2720</td>\n",
       "      <td>8062</td>\n",
       "    </tr>\n",
       "    <tr>\n",
       "      <th>2487200875</th>\n",
       "      <td>2014-12-09</td>\n",
       "      <td>604000.0</td>\n",
       "      <td>4</td>\n",
       "      <td>3.00</td>\n",
       "      <td>1960</td>\n",
       "      <td>5000</td>\n",
       "      <td>1.0</td>\n",
       "      <td>0</td>\n",
       "      <td>0</td>\n",
       "      <td>5</td>\n",
       "      <td>7</td>\n",
       "      <td>1050</td>\n",
       "      <td>910</td>\n",
       "      <td>1965</td>\n",
       "      <td>0</td>\n",
       "      <td>98136</td>\n",
       "      <td>47.5208</td>\n",
       "      <td>-122.393</td>\n",
       "      <td>1360</td>\n",
       "      <td>5000</td>\n",
       "    </tr>\n",
       "    <tr>\n",
       "      <th>1954400510</th>\n",
       "      <td>2015-02-18</td>\n",
       "      <td>510000.0</td>\n",
       "      <td>3</td>\n",
       "      <td>2.00</td>\n",
       "      <td>1680</td>\n",
       "      <td>8080</td>\n",
       "      <td>1.0</td>\n",
       "      <td>0</td>\n",
       "      <td>0</td>\n",
       "      <td>3</td>\n",
       "      <td>8</td>\n",
       "      <td>1680</td>\n",
       "      <td>0</td>\n",
       "      <td>1987</td>\n",
       "      <td>0</td>\n",
       "      <td>98074</td>\n",
       "      <td>47.6168</td>\n",
       "      <td>-122.045</td>\n",
       "      <td>1800</td>\n",
       "      <td>7503</td>\n",
       "    </tr>\n",
       "    <tr>\n",
       "      <th>7237550310</th>\n",
       "      <td>2014-05-12</td>\n",
       "      <td>1225000.0</td>\n",
       "      <td>4</td>\n",
       "      <td>4.50</td>\n",
       "      <td>5420</td>\n",
       "      <td>101930</td>\n",
       "      <td>1.0</td>\n",
       "      <td>0</td>\n",
       "      <td>0</td>\n",
       "      <td>3</td>\n",
       "      <td>11</td>\n",
       "      <td>3890</td>\n",
       "      <td>1530</td>\n",
       "      <td>2001</td>\n",
       "      <td>0</td>\n",
       "      <td>98053</td>\n",
       "      <td>47.6561</td>\n",
       "      <td>-122.005</td>\n",
       "      <td>4760</td>\n",
       "      <td>101930</td>\n",
       "    </tr>\n",
       "    <tr>\n",
       "      <th>1321400060</th>\n",
       "      <td>2014-06-27</td>\n",
       "      <td>257500.0</td>\n",
       "      <td>3</td>\n",
       "      <td>2.25</td>\n",
       "      <td>1715</td>\n",
       "      <td>6819</td>\n",
       "      <td>2.0</td>\n",
       "      <td>0</td>\n",
       "      <td>0</td>\n",
       "      <td>3</td>\n",
       "      <td>7</td>\n",
       "      <td>1715</td>\n",
       "      <td>0</td>\n",
       "      <td>1995</td>\n",
       "      <td>0</td>\n",
       "      <td>98003</td>\n",
       "      <td>47.3097</td>\n",
       "      <td>-122.327</td>\n",
       "      <td>2238</td>\n",
       "      <td>6819</td>\n",
       "    </tr>\n",
       "    <tr>\n",
       "      <th>2008000270</th>\n",
       "      <td>2015-01-15</td>\n",
       "      <td>291850.0</td>\n",
       "      <td>3</td>\n",
       "      <td>1.50</td>\n",
       "      <td>1060</td>\n",
       "      <td>9711</td>\n",
       "      <td>1.0</td>\n",
       "      <td>0</td>\n",
       "      <td>0</td>\n",
       "      <td>3</td>\n",
       "      <td>7</td>\n",
       "      <td>1060</td>\n",
       "      <td>0</td>\n",
       "      <td>1963</td>\n",
       "      <td>0</td>\n",
       "      <td>98198</td>\n",
       "      <td>47.4095</td>\n",
       "      <td>-122.315</td>\n",
       "      <td>1650</td>\n",
       "      <td>9711</td>\n",
       "    </tr>\n",
       "    <tr>\n",
       "      <th>2414600126</th>\n",
       "      <td>2015-04-15</td>\n",
       "      <td>229500.0</td>\n",
       "      <td>3</td>\n",
       "      <td>1.00</td>\n",
       "      <td>1780</td>\n",
       "      <td>7470</td>\n",
       "      <td>1.0</td>\n",
       "      <td>0</td>\n",
       "      <td>0</td>\n",
       "      <td>3</td>\n",
       "      <td>7</td>\n",
       "      <td>1050</td>\n",
       "      <td>730</td>\n",
       "      <td>1960</td>\n",
       "      <td>0</td>\n",
       "      <td>98146</td>\n",
       "      <td>47.5123</td>\n",
       "      <td>-122.337</td>\n",
       "      <td>1780</td>\n",
       "      <td>8113</td>\n",
       "    </tr>\n",
       "    <tr>\n",
       "      <th>3793500160</th>\n",
       "      <td>2015-03-12</td>\n",
       "      <td>323000.0</td>\n",
       "      <td>3</td>\n",
       "      <td>2.50</td>\n",
       "      <td>1890</td>\n",
       "      <td>6560</td>\n",
       "      <td>2.0</td>\n",
       "      <td>0</td>\n",
       "      <td>0</td>\n",
       "      <td>3</td>\n",
       "      <td>7</td>\n",
       "      <td>1890</td>\n",
       "      <td>0</td>\n",
       "      <td>2003</td>\n",
       "      <td>0</td>\n",
       "      <td>98038</td>\n",
       "      <td>47.3684</td>\n",
       "      <td>-122.031</td>\n",
       "      <td>2390</td>\n",
       "      <td>7570</td>\n",
       "    </tr>\n",
       "  </tbody>\n",
       "</table>\n",
       "</div>"
      ],
      "text/plain": [
       "                 date      price  bedrooms  bathrooms  sqft_living  sqft_lot  \\\n",
       "id                                                                             \n",
       "7129300520 2014-10-13   221900.0         3       1.00         1180      5650   \n",
       "6414100192 2014-12-09   538000.0         3       2.25         2570      7242   \n",
       "5631500400 2015-02-25   180000.0         2       1.00          770     10000   \n",
       "2487200875 2014-12-09   604000.0         4       3.00         1960      5000   \n",
       "1954400510 2015-02-18   510000.0         3       2.00         1680      8080   \n",
       "7237550310 2014-05-12  1225000.0         4       4.50         5420    101930   \n",
       "1321400060 2014-06-27   257500.0         3       2.25         1715      6819   \n",
       "2008000270 2015-01-15   291850.0         3       1.50         1060      9711   \n",
       "2414600126 2015-04-15   229500.0         3       1.00         1780      7470   \n",
       "3793500160 2015-03-12   323000.0         3       2.50         1890      6560   \n",
       "\n",
       "            floors  waterfront  view  condition  grade  sqft_above  \\\n",
       "id                                                                   \n",
       "7129300520     1.0           0     0          3      7        1180   \n",
       "6414100192     2.0           0     0          3      7        2170   \n",
       "5631500400     1.0           0     0          3      6         770   \n",
       "2487200875     1.0           0     0          5      7        1050   \n",
       "1954400510     1.0           0     0          3      8        1680   \n",
       "7237550310     1.0           0     0          3     11        3890   \n",
       "1321400060     2.0           0     0          3      7        1715   \n",
       "2008000270     1.0           0     0          3      7        1060   \n",
       "2414600126     1.0           0     0          3      7        1050   \n",
       "3793500160     2.0           0     0          3      7        1890   \n",
       "\n",
       "            sqft_basement  yr_built  yr_renovated  zipcode      lat     long  \\\n",
       "id                                                                             \n",
       "7129300520              0      1955             0    98178  47.5112 -122.257   \n",
       "6414100192            400      1951          1991    98125  47.7210 -122.319   \n",
       "5631500400              0      1933             0    98028  47.7379 -122.233   \n",
       "2487200875            910      1965             0    98136  47.5208 -122.393   \n",
       "1954400510              0      1987             0    98074  47.6168 -122.045   \n",
       "7237550310           1530      2001             0    98053  47.6561 -122.005   \n",
       "1321400060              0      1995             0    98003  47.3097 -122.327   \n",
       "2008000270              0      1963             0    98198  47.4095 -122.315   \n",
       "2414600126            730      1960             0    98146  47.5123 -122.337   \n",
       "3793500160              0      2003             0    98038  47.3684 -122.031   \n",
       "\n",
       "            sqft_living15  sqft_lot15  \n",
       "id                                     \n",
       "7129300520           1340        5650  \n",
       "6414100192           1690        7639  \n",
       "5631500400           2720        8062  \n",
       "2487200875           1360        5000  \n",
       "1954400510           1800        7503  \n",
       "7237550310           4760      101930  \n",
       "1321400060           2238        6819  \n",
       "2008000270           1650        9711  \n",
       "2414600126           1780        8113  \n",
       "3793500160           2390        7570  "
      ]
     },
     "execution_count": 24,
     "metadata": {},
     "output_type": "execute_result"
    }
   ],
   "source": [
    "'''\n",
    "Establish the date feature as DATE-TIME dtype.\n",
    "'''\n",
    "abode_df['date'] = pd.to_datetime(abode_df['date'])\n",
    "abode_df.head(10)"
   ]
  },
  {
   "cell_type": "code",
   "execution_count": 25,
   "metadata": {
    "ExecuteTime": {
     "end_time": "2019-10-21T00:18:18.280270Z",
     "start_time": "2019-10-21T00:18:18.239268Z"
    },
    "hidden": true,
    "scrolled": true
   },
   "outputs": [
    {
     "name": "stdout",
     "output_type": "stream",
     "text": [
      "date             0\n",
      "price            0\n",
      "bedrooms         0\n",
      "bathrooms        0\n",
      "sqft_living      0\n",
      "sqft_lot         0\n",
      "floors           0\n",
      "waterfront       0\n",
      "view             0\n",
      "condition        0\n",
      "grade            0\n",
      "sqft_above       0\n",
      "sqft_basement    0\n",
      "yr_built         0\n",
      "yr_renovated     0\n",
      "zipcode          0\n",
      "lat              0\n",
      "long             0\n",
      "sqft_living15    0\n",
      "sqft_lot15       0\n",
      "dtype: int64\n"
     ]
    }
   ],
   "source": [
    "'''\n",
    "Check if there exist any 'NaN' entries for all features.\n",
    "'''\n",
    "print(abode_df.isna().sum())"
   ]
  },
  {
   "cell_type": "code",
   "execution_count": 26,
   "metadata": {
    "ExecuteTime": {
     "end_time": "2019-10-21T00:18:18.348274Z",
     "start_time": "2019-10-21T00:18:18.285270Z"
    },
    "hidden": true,
    "scrolled": true
   },
   "outputs": [
    {
     "name": "stdout",
     "output_type": "stream",
     "text": [
      "<class 'pandas.core.frame.DataFrame'>\n",
      "Int64Index: 21613 entries, 7129300520 to 1523300157\n",
      "Data columns (total 20 columns):\n",
      "date             21613 non-null datetime64[ns]\n",
      "price            21613 non-null float64\n",
      "bedrooms         21613 non-null int64\n",
      "bathrooms        21613 non-null float64\n",
      "sqft_living      21613 non-null int64\n",
      "sqft_lot         21613 non-null int64\n",
      "floors           21613 non-null float64\n",
      "waterfront       21613 non-null int64\n",
      "view             21613 non-null int64\n",
      "condition        21613 non-null int64\n",
      "grade            21613 non-null int64\n",
      "sqft_above       21613 non-null int64\n",
      "sqft_basement    21613 non-null int64\n",
      "yr_built         21613 non-null int64\n",
      "yr_renovated     21613 non-null int64\n",
      "zipcode          21613 non-null int64\n",
      "lat              21613 non-null float64\n",
      "long             21613 non-null float64\n",
      "sqft_living15    21613 non-null int64\n",
      "sqft_lot15       21613 non-null int64\n",
      "dtypes: datetime64[ns](1), float64(5), int64(14)\n",
      "memory usage: 3.5 MB\n"
     ]
    }
   ],
   "source": [
    "'''\n",
    "Verify dataset feature dtypes are as required.\n",
    "'''\n",
    "abode_df.info()"
   ]
  },
  {
   "cell_type": "markdown",
   "metadata": {
    "heading_collapsed": true
   },
   "source": [
    "### Remove Outlier Data - Bedrooms"
   ]
  },
  {
   "cell_type": "code",
   "execution_count": 27,
   "metadata": {
    "ExecuteTime": {
     "end_time": "2019-10-21T00:18:18.500283Z",
     "start_time": "2019-10-21T00:18:18.354274Z"
    },
    "hidden": true
   },
   "outputs": [
    {
     "name": "stdout",
     "output_type": "stream",
     "text": [
      "Original Feature: [0, 1, 2, 3, 4, 5, 6, 7, 8, 9, 10, 11, 33]\n",
      "Filtered Feature: [0, 1, 2, 3, 4, 5, 6, 7, 8, 9, 10, 11]\n"
     ]
    }
   ],
   "source": [
    "'''\n",
    "Filter the outlier data from 'bedrooms'.\n",
    "'''\n",
    "print('Original Feature: {}'.format(sorted(abode_df['bedrooms'].unique())))\n",
    "is_notOut = abode_df['bedrooms']<=11\n",
    "abode_df = abode_df[is_notOut]\n",
    "abode_df.reset_index()\n",
    "print('Filtered Feature: {}'.format(sorted(abode_df['bedrooms'].unique())))"
   ]
  },
  {
   "cell_type": "markdown",
   "metadata": {
    "heading_collapsed": true
   },
   "source": [
    "### Establish Log Features - Price"
   ]
  },
  {
   "cell_type": "code",
   "execution_count": 28,
   "metadata": {
    "ExecuteTime": {
     "end_time": "2019-10-21T00:18:18.961309Z",
     "start_time": "2019-10-21T00:18:18.518284Z"
    },
    "hidden": true
   },
   "outputs": [
    {
     "data": {
      "text/html": [
       "<div>\n",
       "<style scoped>\n",
       "    .dataframe tbody tr th:only-of-type {\n",
       "        vertical-align: middle;\n",
       "    }\n",
       "\n",
       "    .dataframe tbody tr th {\n",
       "        vertical-align: top;\n",
       "    }\n",
       "\n",
       "    .dataframe thead th {\n",
       "        text-align: right;\n",
       "    }\n",
       "</style>\n",
       "<table border=\"1\" class=\"dataframe\">\n",
       "  <thead>\n",
       "    <tr style=\"text-align: right;\">\n",
       "      <th></th>\n",
       "      <th>price</th>\n",
       "      <th>price_log</th>\n",
       "      <th>bedrooms</th>\n",
       "      <th>bathrooms</th>\n",
       "      <th>sqft_living</th>\n",
       "      <th>sqft_lot</th>\n",
       "      <th>floors</th>\n",
       "      <th>waterfront</th>\n",
       "      <th>view</th>\n",
       "      <th>condition</th>\n",
       "      <th>grade</th>\n",
       "      <th>sqft_above</th>\n",
       "      <th>sqft_basement</th>\n",
       "      <th>yr_built</th>\n",
       "      <th>yr_renovated</th>\n",
       "      <th>zipcode</th>\n",
       "      <th>lat</th>\n",
       "      <th>long</th>\n",
       "      <th>sqft_living15</th>\n",
       "      <th>sqft_lot15</th>\n",
       "    </tr>\n",
       "  </thead>\n",
       "  <tbody>\n",
       "    <tr>\n",
       "      <th>count</th>\n",
       "      <td>2.161200e+04</td>\n",
       "      <td>21612.000000</td>\n",
       "      <td>21612.000000</td>\n",
       "      <td>21612.000000</td>\n",
       "      <td>21612.000000</td>\n",
       "      <td>2.161200e+04</td>\n",
       "      <td>21612.000000</td>\n",
       "      <td>21612.000000</td>\n",
       "      <td>21612.000000</td>\n",
       "      <td>21612.000000</td>\n",
       "      <td>21612.000000</td>\n",
       "      <td>21612.000000</td>\n",
       "      <td>21612.000000</td>\n",
       "      <td>21612.000000</td>\n",
       "      <td>21612.000000</td>\n",
       "      <td>21612.000000</td>\n",
       "      <td>21612.000000</td>\n",
       "      <td>21612.000000</td>\n",
       "      <td>21612.000000</td>\n",
       "      <td>21612.000000</td>\n",
       "    </tr>\n",
       "    <tr>\n",
       "      <th>mean</th>\n",
       "      <td>5.400835e+05</td>\n",
       "      <td>13.047802</td>\n",
       "      <td>3.369471</td>\n",
       "      <td>2.114774</td>\n",
       "      <td>2079.921016</td>\n",
       "      <td>1.510739e+04</td>\n",
       "      <td>1.494332</td>\n",
       "      <td>0.007542</td>\n",
       "      <td>0.234314</td>\n",
       "      <td>3.409356</td>\n",
       "      <td>7.656904</td>\n",
       "      <td>1788.425319</td>\n",
       "      <td>291.495697</td>\n",
       "      <td>1971.006247</td>\n",
       "      <td>84.406163</td>\n",
       "      <td>98077.938645</td>\n",
       "      <td>47.560047</td>\n",
       "      <td>-122.213891</td>\n",
       "      <td>1986.582871</td>\n",
       "      <td>12768.828984</td>\n",
       "    </tr>\n",
       "    <tr>\n",
       "      <th>std</th>\n",
       "      <td>3.671351e+05</td>\n",
       "      <td>0.526692</td>\n",
       "      <td>0.907982</td>\n",
       "      <td>0.770177</td>\n",
       "      <td>918.456818</td>\n",
       "      <td>4.142142e+04</td>\n",
       "      <td>0.539991</td>\n",
       "      <td>0.086519</td>\n",
       "      <td>0.766334</td>\n",
       "      <td>0.650668</td>\n",
       "      <td>1.175477</td>\n",
       "      <td>828.094487</td>\n",
       "      <td>442.580931</td>\n",
       "      <td>29.373636</td>\n",
       "      <td>401.688123</td>\n",
       "      <td>53.505993</td>\n",
       "      <td>0.138564</td>\n",
       "      <td>0.140829</td>\n",
       "      <td>685.392610</td>\n",
       "      <td>27304.756179</td>\n",
       "    </tr>\n",
       "    <tr>\n",
       "      <th>min</th>\n",
       "      <td>7.500000e+04</td>\n",
       "      <td>11.225243</td>\n",
       "      <td>0.000000</td>\n",
       "      <td>0.000000</td>\n",
       "      <td>290.000000</td>\n",
       "      <td>5.200000e+02</td>\n",
       "      <td>1.000000</td>\n",
       "      <td>0.000000</td>\n",
       "      <td>0.000000</td>\n",
       "      <td>1.000000</td>\n",
       "      <td>1.000000</td>\n",
       "      <td>290.000000</td>\n",
       "      <td>0.000000</td>\n",
       "      <td>1900.000000</td>\n",
       "      <td>0.000000</td>\n",
       "      <td>98001.000000</td>\n",
       "      <td>47.155900</td>\n",
       "      <td>-122.519000</td>\n",
       "      <td>399.000000</td>\n",
       "      <td>651.000000</td>\n",
       "    </tr>\n",
       "    <tr>\n",
       "      <th>25%</th>\n",
       "      <td>3.218375e+05</td>\n",
       "      <td>12.681802</td>\n",
       "      <td>3.000000</td>\n",
       "      <td>1.750000</td>\n",
       "      <td>1426.500000</td>\n",
       "      <td>5.040000e+03</td>\n",
       "      <td>1.000000</td>\n",
       "      <td>0.000000</td>\n",
       "      <td>0.000000</td>\n",
       "      <td>3.000000</td>\n",
       "      <td>7.000000</td>\n",
       "      <td>1190.000000</td>\n",
       "      <td>0.000000</td>\n",
       "      <td>1951.000000</td>\n",
       "      <td>0.000000</td>\n",
       "      <td>98033.000000</td>\n",
       "      <td>47.470975</td>\n",
       "      <td>-122.328000</td>\n",
       "      <td>1490.000000</td>\n",
       "      <td>5100.000000</td>\n",
       "    </tr>\n",
       "    <tr>\n",
       "      <th>50%</th>\n",
       "      <td>4.500000e+05</td>\n",
       "      <td>13.017003</td>\n",
       "      <td>3.000000</td>\n",
       "      <td>2.250000</td>\n",
       "      <td>1910.000000</td>\n",
       "      <td>7.619000e+03</td>\n",
       "      <td>1.500000</td>\n",
       "      <td>0.000000</td>\n",
       "      <td>0.000000</td>\n",
       "      <td>3.000000</td>\n",
       "      <td>7.000000</td>\n",
       "      <td>1560.000000</td>\n",
       "      <td>0.000000</td>\n",
       "      <td>1975.000000</td>\n",
       "      <td>0.000000</td>\n",
       "      <td>98065.000000</td>\n",
       "      <td>47.571800</td>\n",
       "      <td>-122.230000</td>\n",
       "      <td>1840.000000</td>\n",
       "      <td>7620.000000</td>\n",
       "    </tr>\n",
       "    <tr>\n",
       "      <th>75%</th>\n",
       "      <td>6.450000e+05</td>\n",
       "      <td>13.377006</td>\n",
       "      <td>4.000000</td>\n",
       "      <td>2.500000</td>\n",
       "      <td>2550.000000</td>\n",
       "      <td>1.068825e+04</td>\n",
       "      <td>2.000000</td>\n",
       "      <td>0.000000</td>\n",
       "      <td>0.000000</td>\n",
       "      <td>4.000000</td>\n",
       "      <td>8.000000</td>\n",
       "      <td>2210.000000</td>\n",
       "      <td>560.000000</td>\n",
       "      <td>1997.000000</td>\n",
       "      <td>0.000000</td>\n",
       "      <td>98118.000000</td>\n",
       "      <td>47.678000</td>\n",
       "      <td>-122.125000</td>\n",
       "      <td>2360.000000</td>\n",
       "      <td>10083.250000</td>\n",
       "    </tr>\n",
       "    <tr>\n",
       "      <th>max</th>\n",
       "      <td>7.700000e+06</td>\n",
       "      <td>15.856731</td>\n",
       "      <td>11.000000</td>\n",
       "      <td>8.000000</td>\n",
       "      <td>13540.000000</td>\n",
       "      <td>1.651359e+06</td>\n",
       "      <td>3.500000</td>\n",
       "      <td>1.000000</td>\n",
       "      <td>4.000000</td>\n",
       "      <td>5.000000</td>\n",
       "      <td>13.000000</td>\n",
       "      <td>9410.000000</td>\n",
       "      <td>4820.000000</td>\n",
       "      <td>2015.000000</td>\n",
       "      <td>2015.000000</td>\n",
       "      <td>98199.000000</td>\n",
       "      <td>47.777600</td>\n",
       "      <td>-121.315000</td>\n",
       "      <td>6210.000000</td>\n",
       "      <td>871200.000000</td>\n",
       "    </tr>\n",
       "  </tbody>\n",
       "</table>\n",
       "</div>"
      ],
      "text/plain": [
       "              price     price_log      bedrooms     bathrooms   sqft_living  \\\n",
       "count  2.161200e+04  21612.000000  21612.000000  21612.000000  21612.000000   \n",
       "mean   5.400835e+05     13.047802      3.369471      2.114774   2079.921016   \n",
       "std    3.671351e+05      0.526692      0.907982      0.770177    918.456818   \n",
       "min    7.500000e+04     11.225243      0.000000      0.000000    290.000000   \n",
       "25%    3.218375e+05     12.681802      3.000000      1.750000   1426.500000   \n",
       "50%    4.500000e+05     13.017003      3.000000      2.250000   1910.000000   \n",
       "75%    6.450000e+05     13.377006      4.000000      2.500000   2550.000000   \n",
       "max    7.700000e+06     15.856731     11.000000      8.000000  13540.000000   \n",
       "\n",
       "           sqft_lot        floors    waterfront          view     condition  \\\n",
       "count  2.161200e+04  21612.000000  21612.000000  21612.000000  21612.000000   \n",
       "mean   1.510739e+04      1.494332      0.007542      0.234314      3.409356   \n",
       "std    4.142142e+04      0.539991      0.086519      0.766334      0.650668   \n",
       "min    5.200000e+02      1.000000      0.000000      0.000000      1.000000   \n",
       "25%    5.040000e+03      1.000000      0.000000      0.000000      3.000000   \n",
       "50%    7.619000e+03      1.500000      0.000000      0.000000      3.000000   \n",
       "75%    1.068825e+04      2.000000      0.000000      0.000000      4.000000   \n",
       "max    1.651359e+06      3.500000      1.000000      4.000000      5.000000   \n",
       "\n",
       "              grade    sqft_above  sqft_basement      yr_built  yr_renovated  \\\n",
       "count  21612.000000  21612.000000   21612.000000  21612.000000  21612.000000   \n",
       "mean       7.656904   1788.425319     291.495697   1971.006247     84.406163   \n",
       "std        1.175477    828.094487     442.580931     29.373636    401.688123   \n",
       "min        1.000000    290.000000       0.000000   1900.000000      0.000000   \n",
       "25%        7.000000   1190.000000       0.000000   1951.000000      0.000000   \n",
       "50%        7.000000   1560.000000       0.000000   1975.000000      0.000000   \n",
       "75%        8.000000   2210.000000     560.000000   1997.000000      0.000000   \n",
       "max       13.000000   9410.000000    4820.000000   2015.000000   2015.000000   \n",
       "\n",
       "            zipcode           lat          long  sqft_living15     sqft_lot15  \n",
       "count  21612.000000  21612.000000  21612.000000   21612.000000   21612.000000  \n",
       "mean   98077.938645     47.560047   -122.213891    1986.582871   12768.828984  \n",
       "std       53.505993      0.138564      0.140829     685.392610   27304.756179  \n",
       "min    98001.000000     47.155900   -122.519000     399.000000     651.000000  \n",
       "25%    98033.000000     47.470975   -122.328000    1490.000000    5100.000000  \n",
       "50%    98065.000000     47.571800   -122.230000    1840.000000    7620.000000  \n",
       "75%    98118.000000     47.678000   -122.125000    2360.000000   10083.250000  \n",
       "max    98199.000000     47.777600   -121.315000    6210.000000  871200.000000  "
      ]
     },
     "execution_count": 28,
     "metadata": {},
     "output_type": "execute_result"
    }
   ],
   "source": [
    "'''\n",
    "Accomplish feature engineering outcomes.\n",
    "'''\n",
    "abode_df = logFeature(abode_df, 'price')\n",
    "abode_df.describe()"
   ]
  },
  {
   "cell_type": "markdown",
   "metadata": {
    "heading_collapsed": true
   },
   "source": [
    "### Drop Prescribed Features"
   ]
  },
  {
   "cell_type": "code",
   "execution_count": 29,
   "metadata": {
    "ExecuteTime": {
     "end_time": "2019-10-21T00:18:19.069315Z",
     "start_time": "2019-10-21T00:18:18.974310Z"
    },
    "hidden": true
   },
   "outputs": [
    {
     "data": {
      "text/html": [
       "<div>\n",
       "<style scoped>\n",
       "    .dataframe tbody tr th:only-of-type {\n",
       "        vertical-align: middle;\n",
       "    }\n",
       "\n",
       "    .dataframe tbody tr th {\n",
       "        vertical-align: top;\n",
       "    }\n",
       "\n",
       "    .dataframe thead th {\n",
       "        text-align: right;\n",
       "    }\n",
       "</style>\n",
       "<table border=\"1\" class=\"dataframe\">\n",
       "  <thead>\n",
       "    <tr style=\"text-align: right;\">\n",
       "      <th></th>\n",
       "      <th>date</th>\n",
       "      <th>price</th>\n",
       "      <th>price_log</th>\n",
       "      <th>bedrooms</th>\n",
       "      <th>bathrooms</th>\n",
       "      <th>sqft_living</th>\n",
       "      <th>sqft_lot</th>\n",
       "      <th>floors</th>\n",
       "      <th>condition</th>\n",
       "      <th>grade</th>\n",
       "      <th>yr_built</th>\n",
       "    </tr>\n",
       "    <tr>\n",
       "      <th>id</th>\n",
       "      <th></th>\n",
       "      <th></th>\n",
       "      <th></th>\n",
       "      <th></th>\n",
       "      <th></th>\n",
       "      <th></th>\n",
       "      <th></th>\n",
       "      <th></th>\n",
       "      <th></th>\n",
       "      <th></th>\n",
       "      <th></th>\n",
       "    </tr>\n",
       "  </thead>\n",
       "  <tbody>\n",
       "    <tr>\n",
       "      <th>7129300520</th>\n",
       "      <td>2014-10-13</td>\n",
       "      <td>221900.0</td>\n",
       "      <td>12.309982</td>\n",
       "      <td>3</td>\n",
       "      <td>1.00</td>\n",
       "      <td>1180</td>\n",
       "      <td>5650</td>\n",
       "      <td>1.0</td>\n",
       "      <td>3</td>\n",
       "      <td>7</td>\n",
       "      <td>1955</td>\n",
       "    </tr>\n",
       "    <tr>\n",
       "      <th>6414100192</th>\n",
       "      <td>2014-12-09</td>\n",
       "      <td>538000.0</td>\n",
       "      <td>13.195614</td>\n",
       "      <td>3</td>\n",
       "      <td>2.25</td>\n",
       "      <td>2570</td>\n",
       "      <td>7242</td>\n",
       "      <td>2.0</td>\n",
       "      <td>3</td>\n",
       "      <td>7</td>\n",
       "      <td>1951</td>\n",
       "    </tr>\n",
       "    <tr>\n",
       "      <th>5631500400</th>\n",
       "      <td>2015-02-25</td>\n",
       "      <td>180000.0</td>\n",
       "      <td>12.100712</td>\n",
       "      <td>2</td>\n",
       "      <td>1.00</td>\n",
       "      <td>770</td>\n",
       "      <td>10000</td>\n",
       "      <td>1.0</td>\n",
       "      <td>3</td>\n",
       "      <td>6</td>\n",
       "      <td>1933</td>\n",
       "    </tr>\n",
       "    <tr>\n",
       "      <th>2487200875</th>\n",
       "      <td>2014-12-09</td>\n",
       "      <td>604000.0</td>\n",
       "      <td>13.311329</td>\n",
       "      <td>4</td>\n",
       "      <td>3.00</td>\n",
       "      <td>1960</td>\n",
       "      <td>5000</td>\n",
       "      <td>1.0</td>\n",
       "      <td>5</td>\n",
       "      <td>7</td>\n",
       "      <td>1965</td>\n",
       "    </tr>\n",
       "    <tr>\n",
       "      <th>1954400510</th>\n",
       "      <td>2015-02-18</td>\n",
       "      <td>510000.0</td>\n",
       "      <td>13.142166</td>\n",
       "      <td>3</td>\n",
       "      <td>2.00</td>\n",
       "      <td>1680</td>\n",
       "      <td>8080</td>\n",
       "      <td>1.0</td>\n",
       "      <td>3</td>\n",
       "      <td>8</td>\n",
       "      <td>1987</td>\n",
       "    </tr>\n",
       "    <tr>\n",
       "      <th>7237550310</th>\n",
       "      <td>2014-05-12</td>\n",
       "      <td>1225000.0</td>\n",
       "      <td>14.018451</td>\n",
       "      <td>4</td>\n",
       "      <td>4.50</td>\n",
       "      <td>5420</td>\n",
       "      <td>101930</td>\n",
       "      <td>1.0</td>\n",
       "      <td>3</td>\n",
       "      <td>11</td>\n",
       "      <td>2001</td>\n",
       "    </tr>\n",
       "    <tr>\n",
       "      <th>1321400060</th>\n",
       "      <td>2014-06-27</td>\n",
       "      <td>257500.0</td>\n",
       "      <td>12.458775</td>\n",
       "      <td>3</td>\n",
       "      <td>2.25</td>\n",
       "      <td>1715</td>\n",
       "      <td>6819</td>\n",
       "      <td>2.0</td>\n",
       "      <td>3</td>\n",
       "      <td>7</td>\n",
       "      <td>1995</td>\n",
       "    </tr>\n",
       "    <tr>\n",
       "      <th>2008000270</th>\n",
       "      <td>2015-01-15</td>\n",
       "      <td>291850.0</td>\n",
       "      <td>12.583995</td>\n",
       "      <td>3</td>\n",
       "      <td>1.50</td>\n",
       "      <td>1060</td>\n",
       "      <td>9711</td>\n",
       "      <td>1.0</td>\n",
       "      <td>3</td>\n",
       "      <td>7</td>\n",
       "      <td>1963</td>\n",
       "    </tr>\n",
       "    <tr>\n",
       "      <th>2414600126</th>\n",
       "      <td>2015-04-15</td>\n",
       "      <td>229500.0</td>\n",
       "      <td>12.343658</td>\n",
       "      <td>3</td>\n",
       "      <td>1.00</td>\n",
       "      <td>1780</td>\n",
       "      <td>7470</td>\n",
       "      <td>1.0</td>\n",
       "      <td>3</td>\n",
       "      <td>7</td>\n",
       "      <td>1960</td>\n",
       "    </tr>\n",
       "    <tr>\n",
       "      <th>3793500160</th>\n",
       "      <td>2015-03-12</td>\n",
       "      <td>323000.0</td>\n",
       "      <td>12.685408</td>\n",
       "      <td>3</td>\n",
       "      <td>2.50</td>\n",
       "      <td>1890</td>\n",
       "      <td>6560</td>\n",
       "      <td>2.0</td>\n",
       "      <td>3</td>\n",
       "      <td>7</td>\n",
       "      <td>2003</td>\n",
       "    </tr>\n",
       "  </tbody>\n",
       "</table>\n",
       "</div>"
      ],
      "text/plain": [
       "                 date      price  price_log  bedrooms  bathrooms  sqft_living  \\\n",
       "id                                                                              \n",
       "7129300520 2014-10-13   221900.0  12.309982         3       1.00         1180   \n",
       "6414100192 2014-12-09   538000.0  13.195614         3       2.25         2570   \n",
       "5631500400 2015-02-25   180000.0  12.100712         2       1.00          770   \n",
       "2487200875 2014-12-09   604000.0  13.311329         4       3.00         1960   \n",
       "1954400510 2015-02-18   510000.0  13.142166         3       2.00         1680   \n",
       "7237550310 2014-05-12  1225000.0  14.018451         4       4.50         5420   \n",
       "1321400060 2014-06-27   257500.0  12.458775         3       2.25         1715   \n",
       "2008000270 2015-01-15   291850.0  12.583995         3       1.50         1060   \n",
       "2414600126 2015-04-15   229500.0  12.343658         3       1.00         1780   \n",
       "3793500160 2015-03-12   323000.0  12.685408         3       2.50         1890   \n",
       "\n",
       "            sqft_lot  floors  condition  grade  yr_built  \n",
       "id                                                        \n",
       "7129300520      5650     1.0          3      7      1955  \n",
       "6414100192      7242     2.0          3      7      1951  \n",
       "5631500400     10000     1.0          3      6      1933  \n",
       "2487200875      5000     1.0          5      7      1965  \n",
       "1954400510      8080     1.0          3      8      1987  \n",
       "7237550310    101930     1.0          3     11      2001  \n",
       "1321400060      6819     2.0          3      7      1995  \n",
       "2008000270      9711     1.0          3      7      1963  \n",
       "2414600126      7470     1.0          3      7      1960  \n",
       "3793500160      6560     2.0          3      7      2003  "
      ]
     },
     "execution_count": 29,
     "metadata": {},
     "output_type": "execute_result"
    }
   ],
   "source": [
    "'''\n",
    "Drop the prescribed features.\n",
    "'''\n",
    "drop_df = abode_df.copy(deep=True)\n",
    "drop_features = ['waterfront', 'view', 'sqft_above', 'sqft_basement', 'yr_renovated', 'long', 'lat', 'sqft_living15', 'sqft_lot15', 'zipcode']\n",
    "drop_df = drop_df.drop(drop_features, axis=1)\n",
    "drop_df.head(10)"
   ]
  },
  {
   "cell_type": "markdown",
   "metadata": {
    "heading_collapsed": true
   },
   "source": [
    "### Normalize the Features"
   ]
  },
  {
   "cell_type": "code",
   "execution_count": 30,
   "metadata": {
    "ExecuteTime": {
     "end_time": "2019-10-21T00:18:19.162321Z",
     "start_time": "2019-10-21T00:18:19.079316Z"
    },
    "hidden": true
   },
   "outputs": [
    {
     "name": "stdout",
     "output_type": "stream",
     "text": [
      "Index(['price', 'price_log', 'bedrooms', 'bathrooms', 'sqft_living',\n",
      "       'sqft_lot', 'floors', 'condition', 'grade', 'yr_built'],\n",
      "      dtype='object')\n"
     ]
    },
    {
     "data": {
      "text/html": [
       "<div>\n",
       "<style scoped>\n",
       "    .dataframe tbody tr th:only-of-type {\n",
       "        vertical-align: middle;\n",
       "    }\n",
       "\n",
       "    .dataframe tbody tr th {\n",
       "        vertical-align: top;\n",
       "    }\n",
       "\n",
       "    .dataframe thead th {\n",
       "        text-align: right;\n",
       "    }\n",
       "</style>\n",
       "<table border=\"1\" class=\"dataframe\">\n",
       "  <thead>\n",
       "    <tr style=\"text-align: right;\">\n",
       "      <th></th>\n",
       "      <th>date</th>\n",
       "      <th>price</th>\n",
       "      <th>price_log</th>\n",
       "      <th>bedrooms</th>\n",
       "      <th>bathrooms</th>\n",
       "      <th>sqft_living</th>\n",
       "      <th>sqft_lot</th>\n",
       "      <th>floors</th>\n",
       "      <th>condition</th>\n",
       "      <th>grade</th>\n",
       "      <th>yr_built</th>\n",
       "    </tr>\n",
       "    <tr>\n",
       "      <th>id</th>\n",
       "      <th></th>\n",
       "      <th></th>\n",
       "      <th></th>\n",
       "      <th></th>\n",
       "      <th></th>\n",
       "      <th></th>\n",
       "      <th></th>\n",
       "      <th></th>\n",
       "      <th></th>\n",
       "      <th></th>\n",
       "      <th></th>\n",
       "    </tr>\n",
       "  </thead>\n",
       "  <tbody>\n",
       "    <tr>\n",
       "      <th>7129300520</th>\n",
       "      <td>2014-10-13</td>\n",
       "      <td>0.002311</td>\n",
       "      <td>0.006412</td>\n",
       "      <td>0.005848</td>\n",
       "      <td>0.003022</td>\n",
       "      <td>0.003530</td>\n",
       "      <td>0.000872</td>\n",
       "      <td>0.004281</td>\n",
       "      <td>0.005879</td>\n",
       "      <td>0.006147</td>\n",
       "      <td>0.006746</td>\n",
       "    </tr>\n",
       "    <tr>\n",
       "      <th>6414100192</th>\n",
       "      <td>2014-12-09</td>\n",
       "      <td>0.005604</td>\n",
       "      <td>0.006874</td>\n",
       "      <td>0.005848</td>\n",
       "      <td>0.006800</td>\n",
       "      <td>0.007689</td>\n",
       "      <td>0.001117</td>\n",
       "      <td>0.008562</td>\n",
       "      <td>0.005879</td>\n",
       "      <td>0.006147</td>\n",
       "      <td>0.006732</td>\n",
       "    </tr>\n",
       "    <tr>\n",
       "      <th>5631500400</th>\n",
       "      <td>2015-02-25</td>\n",
       "      <td>0.001875</td>\n",
       "      <td>0.006303</td>\n",
       "      <td>0.003899</td>\n",
       "      <td>0.003022</td>\n",
       "      <td>0.002304</td>\n",
       "      <td>0.001543</td>\n",
       "      <td>0.004281</td>\n",
       "      <td>0.005879</td>\n",
       "      <td>0.005269</td>\n",
       "      <td>0.006670</td>\n",
       "    </tr>\n",
       "    <tr>\n",
       "      <th>2487200875</th>\n",
       "      <td>2014-12-09</td>\n",
       "      <td>0.006291</td>\n",
       "      <td>0.006934</td>\n",
       "      <td>0.007797</td>\n",
       "      <td>0.009067</td>\n",
       "      <td>0.005864</td>\n",
       "      <td>0.000771</td>\n",
       "      <td>0.004281</td>\n",
       "      <td>0.009799</td>\n",
       "      <td>0.006147</td>\n",
       "      <td>0.006781</td>\n",
       "    </tr>\n",
       "    <tr>\n",
       "      <th>1954400510</th>\n",
       "      <td>2015-02-18</td>\n",
       "      <td>0.005312</td>\n",
       "      <td>0.006846</td>\n",
       "      <td>0.005848</td>\n",
       "      <td>0.006045</td>\n",
       "      <td>0.005026</td>\n",
       "      <td>0.001247</td>\n",
       "      <td>0.004281</td>\n",
       "      <td>0.005879</td>\n",
       "      <td>0.007025</td>\n",
       "      <td>0.006857</td>\n",
       "    </tr>\n",
       "    <tr>\n",
       "      <th>7237550310</th>\n",
       "      <td>2014-05-12</td>\n",
       "      <td>0.012760</td>\n",
       "      <td>0.007302</td>\n",
       "      <td>0.007797</td>\n",
       "      <td>0.013601</td>\n",
       "      <td>0.016215</td>\n",
       "      <td>0.015726</td>\n",
       "      <td>0.004281</td>\n",
       "      <td>0.005879</td>\n",
       "      <td>0.009659</td>\n",
       "      <td>0.006905</td>\n",
       "    </tr>\n",
       "    <tr>\n",
       "      <th>1321400060</th>\n",
       "      <td>2014-06-27</td>\n",
       "      <td>0.002682</td>\n",
       "      <td>0.006490</td>\n",
       "      <td>0.005848</td>\n",
       "      <td>0.006800</td>\n",
       "      <td>0.005131</td>\n",
       "      <td>0.001052</td>\n",
       "      <td>0.008562</td>\n",
       "      <td>0.005879</td>\n",
       "      <td>0.006147</td>\n",
       "      <td>0.006884</td>\n",
       "    </tr>\n",
       "    <tr>\n",
       "      <th>2008000270</th>\n",
       "      <td>2015-01-15</td>\n",
       "      <td>0.003040</td>\n",
       "      <td>0.006555</td>\n",
       "      <td>0.005848</td>\n",
       "      <td>0.004534</td>\n",
       "      <td>0.003171</td>\n",
       "      <td>0.001498</td>\n",
       "      <td>0.004281</td>\n",
       "      <td>0.005879</td>\n",
       "      <td>0.006147</td>\n",
       "      <td>0.006774</td>\n",
       "    </tr>\n",
       "    <tr>\n",
       "      <th>2414600126</th>\n",
       "      <td>2015-04-15</td>\n",
       "      <td>0.002391</td>\n",
       "      <td>0.006430</td>\n",
       "      <td>0.005848</td>\n",
       "      <td>0.003022</td>\n",
       "      <td>0.005325</td>\n",
       "      <td>0.001152</td>\n",
       "      <td>0.004281</td>\n",
       "      <td>0.005879</td>\n",
       "      <td>0.006147</td>\n",
       "      <td>0.006764</td>\n",
       "    </tr>\n",
       "    <tr>\n",
       "      <th>3793500160</th>\n",
       "      <td>2015-03-12</td>\n",
       "      <td>0.003364</td>\n",
       "      <td>0.006608</td>\n",
       "      <td>0.005848</td>\n",
       "      <td>0.007556</td>\n",
       "      <td>0.005654</td>\n",
       "      <td>0.001012</td>\n",
       "      <td>0.008562</td>\n",
       "      <td>0.005879</td>\n",
       "      <td>0.006147</td>\n",
       "      <td>0.006912</td>\n",
       "    </tr>\n",
       "  </tbody>\n",
       "</table>\n",
       "</div>"
      ],
      "text/plain": [
       "                 date     price  price_log  bedrooms  bathrooms  sqft_living  \\\n",
       "id                                                                             \n",
       "7129300520 2014-10-13  0.002311   0.006412  0.005848   0.003022     0.003530   \n",
       "6414100192 2014-12-09  0.005604   0.006874  0.005848   0.006800     0.007689   \n",
       "5631500400 2015-02-25  0.001875   0.006303  0.003899   0.003022     0.002304   \n",
       "2487200875 2014-12-09  0.006291   0.006934  0.007797   0.009067     0.005864   \n",
       "1954400510 2015-02-18  0.005312   0.006846  0.005848   0.006045     0.005026   \n",
       "7237550310 2014-05-12  0.012760   0.007302  0.007797   0.013601     0.016215   \n",
       "1321400060 2014-06-27  0.002682   0.006490  0.005848   0.006800     0.005131   \n",
       "2008000270 2015-01-15  0.003040   0.006555  0.005848   0.004534     0.003171   \n",
       "2414600126 2015-04-15  0.002391   0.006430  0.005848   0.003022     0.005325   \n",
       "3793500160 2015-03-12  0.003364   0.006608  0.005848   0.007556     0.005654   \n",
       "\n",
       "            sqft_lot    floors  condition     grade  yr_built  \n",
       "id                                                             \n",
       "7129300520  0.000872  0.004281   0.005879  0.006147  0.006746  \n",
       "6414100192  0.001117  0.008562   0.005879  0.006147  0.006732  \n",
       "5631500400  0.001543  0.004281   0.005879  0.005269  0.006670  \n",
       "2487200875  0.000771  0.004281   0.009799  0.006147  0.006781  \n",
       "1954400510  0.001247  0.004281   0.005879  0.007025  0.006857  \n",
       "7237550310  0.015726  0.004281   0.005879  0.009659  0.006905  \n",
       "1321400060  0.001052  0.008562   0.005879  0.006147  0.006884  \n",
       "2008000270  0.001498  0.004281   0.005879  0.006147  0.006774  \n",
       "2414600126  0.001152  0.004281   0.005879  0.006147  0.006764  \n",
       "3793500160  0.001012  0.008562   0.005879  0.006147  0.006912  "
      ]
     },
     "execution_count": 30,
     "metadata": {},
     "output_type": "execute_result"
    }
   ],
   "source": [
    "'''\n",
    "Normalize the features to a copy of the original DataFrame.\n",
    "'''\n",
    "norm_df = drop_df.copy(deep=True)\n",
    "\n",
    "features = norm_df.columns[1:]\n",
    "print(features)\n",
    "\n",
    "for feature in features:\n",
    "    norm = get_normFeature(abode_df[feature]) # returns an array\n",
    "    norm_df[feature] = norm[0].T\n",
    "norm_df.head(10)"
   ]
  },
  {
   "cell_type": "code",
   "execution_count": 31,
   "metadata": {
    "ExecuteTime": {
     "end_time": "2019-10-21T00:18:20.221381Z",
     "start_time": "2019-10-21T00:18:19.172321Z"
    },
    "hidden": true,
    "scrolled": false
   },
   "outputs": [
    {
     "data": {
      "image/png": "[encoded data removed]",
      "text/plain": [
       "<Figure size 720x504 with 1 Axes>"
      ]
     },
     "metadata": {},
     "output_type": "display_data"
    }
   ],
   "source": [
    "'''\n",
    "Show the distribution characteristics of the normalized dataset features.\n",
    "REQUIRES: plt.boxplot()\n",
    "'''\n",
    "fig = plt.figure() # Define plot area\n",
    "ax = fig.gca() # Define axis\n",
    "\n",
    "norm_features = norm_df.columns[1:]\n",
    "norm_df.loc[:,norm_features].boxplot(flierprops=markerType, ax = ax)\n",
    "ax.set_title('Box Plots of (Normalized) Home Features', fontsize=20)\n",
    "ax.set_ylabel('Frequency\\n', fontsize=16)\n",
    "ax.set_xlabel('\\nCategory', fontsize=16)\n",
    "plt.xticks(rotation=45)\n",
    "plt.show()"
   ]
  },
  {
   "cell_type": "markdown",
   "metadata": {},
   "source": [
    "## Model Evaluations"
   ]
  },
  {
   "cell_type": "markdown",
   "metadata": {
    "heading_collapsed": true
   },
   "source": [
    "### Scale the Data"
   ]
  },
  {
   "cell_type": "code",
   "execution_count": 32,
   "metadata": {
    "ExecuteTime": {
     "end_time": "2019-10-21T00:18:20.438394Z",
     "start_time": "2019-10-21T00:18:20.226381Z"
    },
    "hidden": true
   },
   "outputs": [
    {
     "data": {
      "text/html": [
       "<div>\n",
       "<style scoped>\n",
       "    .dataframe tbody tr th:only-of-type {\n",
       "        vertical-align: middle;\n",
       "    }\n",
       "\n",
       "    .dataframe tbody tr th {\n",
       "        vertical-align: top;\n",
       "    }\n",
       "\n",
       "    .dataframe thead th {\n",
       "        text-align: right;\n",
       "    }\n",
       "</style>\n",
       "<table border=\"1\" class=\"dataframe\">\n",
       "  <thead>\n",
       "    <tr style=\"text-align: right;\">\n",
       "      <th></th>\n",
       "      <th>date</th>\n",
       "      <th>price</th>\n",
       "      <th>price_log</th>\n",
       "      <th>bedrooms</th>\n",
       "      <th>bathrooms</th>\n",
       "      <th>sqft_living</th>\n",
       "      <th>sqft_lot</th>\n",
       "      <th>floors</th>\n",
       "      <th>condition</th>\n",
       "      <th>grade</th>\n",
       "      <th>yr_built</th>\n",
       "    </tr>\n",
       "    <tr>\n",
       "      <th>id</th>\n",
       "      <th></th>\n",
       "      <th></th>\n",
       "      <th></th>\n",
       "      <th></th>\n",
       "      <th></th>\n",
       "      <th></th>\n",
       "      <th></th>\n",
       "      <th></th>\n",
       "      <th></th>\n",
       "      <th></th>\n",
       "      <th></th>\n",
       "    </tr>\n",
       "  </thead>\n",
       "  <tbody>\n",
       "    <tr>\n",
       "      <th>7129300520</th>\n",
       "      <td>2014-10-13</td>\n",
       "      <td>221900.0</td>\n",
       "      <td>12.309982</td>\n",
       "      <td>-0.406924</td>\n",
       "      <td>-1.447460</td>\n",
       "      <td>-0.979841</td>\n",
       "      <td>-0.228326</td>\n",
       "      <td>-0.915466</td>\n",
       "      <td>-0.629146</td>\n",
       "      <td>-0.558853</td>\n",
       "      <td>-0.544931</td>\n",
       "    </tr>\n",
       "    <tr>\n",
       "      <th>6414100192</th>\n",
       "      <td>2014-12-09</td>\n",
       "      <td>538000.0</td>\n",
       "      <td>13.195614</td>\n",
       "      <td>-0.406924</td>\n",
       "      <td>0.175582</td>\n",
       "      <td>0.533602</td>\n",
       "      <td>-0.189891</td>\n",
       "      <td>0.936460</td>\n",
       "      <td>-0.629146</td>\n",
       "      <td>-0.558853</td>\n",
       "      <td>-0.681111</td>\n",
       "    </tr>\n",
       "    <tr>\n",
       "      <th>5631500400</th>\n",
       "      <td>2015-02-25</td>\n",
       "      <td>180000.0</td>\n",
       "      <td>12.100712</td>\n",
       "      <td>-1.508293</td>\n",
       "      <td>-1.447460</td>\n",
       "      <td>-1.426252</td>\n",
       "      <td>-0.123306</td>\n",
       "      <td>-0.915466</td>\n",
       "      <td>-0.629146</td>\n",
       "      <td>-1.409591</td>\n",
       "      <td>-1.293920</td>\n",
       "    </tr>\n",
       "    <tr>\n",
       "      <th>2487200875</th>\n",
       "      <td>2014-12-09</td>\n",
       "      <td>604000.0</td>\n",
       "      <td>13.311329</td>\n",
       "      <td>0.694446</td>\n",
       "      <td>1.149406</td>\n",
       "      <td>-0.130571</td>\n",
       "      <td>-0.244019</td>\n",
       "      <td>-0.915466</td>\n",
       "      <td>2.444688</td>\n",
       "      <td>-0.558853</td>\n",
       "      <td>-0.204482</td>\n",
       "    </tr>\n",
       "    <tr>\n",
       "      <th>1954400510</th>\n",
       "      <td>2015-02-18</td>\n",
       "      <td>510000.0</td>\n",
       "      <td>13.142166</td>\n",
       "      <td>-0.406924</td>\n",
       "      <td>-0.149027</td>\n",
       "      <td>-0.435437</td>\n",
       "      <td>-0.169660</td>\n",
       "      <td>-0.915466</td>\n",
       "      <td>-0.629146</td>\n",
       "      <td>0.291885</td>\n",
       "      <td>0.544506</td>\n",
       "    </tr>\n",
       "    <tr>\n",
       "      <th>7237550310</th>\n",
       "      <td>2014-05-12</td>\n",
       "      <td>1225000.0</td>\n",
       "      <td>14.018451</td>\n",
       "      <td>0.694446</td>\n",
       "      <td>3.097056</td>\n",
       "      <td>3.636705</td>\n",
       "      <td>2.096128</td>\n",
       "      <td>-0.915466</td>\n",
       "      <td>-0.629146</td>\n",
       "      <td>2.844099</td>\n",
       "      <td>1.021135</td>\n",
       "    </tr>\n",
       "    <tr>\n",
       "      <th>1321400060</th>\n",
       "      <td>2014-06-27</td>\n",
       "      <td>257500.0</td>\n",
       "      <td>12.458775</td>\n",
       "      <td>-0.406924</td>\n",
       "      <td>0.175582</td>\n",
       "      <td>-0.397329</td>\n",
       "      <td>-0.200104</td>\n",
       "      <td>0.936460</td>\n",
       "      <td>-0.629146</td>\n",
       "      <td>-0.558853</td>\n",
       "      <td>0.816865</td>\n",
       "    </tr>\n",
       "    <tr>\n",
       "      <th>2008000270</th>\n",
       "      <td>2015-01-15</td>\n",
       "      <td>291850.0</td>\n",
       "      <td>12.583995</td>\n",
       "      <td>-0.406924</td>\n",
       "      <td>-0.798243</td>\n",
       "      <td>-1.110498</td>\n",
       "      <td>-0.130283</td>\n",
       "      <td>-0.915466</td>\n",
       "      <td>-0.629146</td>\n",
       "      <td>-0.558853</td>\n",
       "      <td>-0.272572</td>\n",
       "    </tr>\n",
       "    <tr>\n",
       "      <th>2414600126</th>\n",
       "      <td>2015-04-15</td>\n",
       "      <td>229500.0</td>\n",
       "      <td>12.343658</td>\n",
       "      <td>-0.406924</td>\n",
       "      <td>-1.447460</td>\n",
       "      <td>-0.326556</td>\n",
       "      <td>-0.184387</td>\n",
       "      <td>-0.915466</td>\n",
       "      <td>-0.629146</td>\n",
       "      <td>-0.558853</td>\n",
       "      <td>-0.374707</td>\n",
       "    </tr>\n",
       "    <tr>\n",
       "      <th>3793500160</th>\n",
       "      <td>2015-03-12</td>\n",
       "      <td>323000.0</td>\n",
       "      <td>12.685408</td>\n",
       "      <td>-0.406924</td>\n",
       "      <td>0.500190</td>\n",
       "      <td>-0.206788</td>\n",
       "      <td>-0.206357</td>\n",
       "      <td>0.936460</td>\n",
       "      <td>-0.629146</td>\n",
       "      <td>-0.558853</td>\n",
       "      <td>1.089225</td>\n",
       "    </tr>\n",
       "  </tbody>\n",
       "</table>\n",
       "</div>"
      ],
      "text/plain": [
       "                 date      price  price_log  bedrooms  bathrooms  sqft_living  \\\n",
       "id                                                                              \n",
       "7129300520 2014-10-13   221900.0  12.309982 -0.406924  -1.447460    -0.979841   \n",
       "6414100192 2014-12-09   538000.0  13.195614 -0.406924   0.175582     0.533602   \n",
       "5631500400 2015-02-25   180000.0  12.100712 -1.508293  -1.447460    -1.426252   \n",
       "2487200875 2014-12-09   604000.0  13.311329  0.694446   1.149406    -0.130571   \n",
       "1954400510 2015-02-18   510000.0  13.142166 -0.406924  -0.149027    -0.435437   \n",
       "7237550310 2014-05-12  1225000.0  14.018451  0.694446   3.097056     3.636705   \n",
       "1321400060 2014-06-27   257500.0  12.458775 -0.406924   0.175582    -0.397329   \n",
       "2008000270 2015-01-15   291850.0  12.583995 -0.406924  -0.798243    -1.110498   \n",
       "2414600126 2015-04-15   229500.0  12.343658 -0.406924  -1.447460    -0.326556   \n",
       "3793500160 2015-03-12   323000.0  12.685408 -0.406924   0.500190    -0.206788   \n",
       "\n",
       "            sqft_lot    floors  condition     grade  yr_built  \n",
       "id                                                             \n",
       "7129300520 -0.228326 -0.915466  -0.629146 -0.558853 -0.544931  \n",
       "6414100192 -0.189891  0.936460  -0.629146 -0.558853 -0.681111  \n",
       "5631500400 -0.123306 -0.915466  -0.629146 -1.409591 -1.293920  \n",
       "2487200875 -0.244019 -0.915466   2.444688 -0.558853 -0.204482  \n",
       "1954400510 -0.169660 -0.915466  -0.629146  0.291885  0.544506  \n",
       "7237550310  2.096128 -0.915466  -0.629146  2.844099  1.021135  \n",
       "1321400060 -0.200104  0.936460  -0.629146 -0.558853  0.816865  \n",
       "2008000270 -0.130283 -0.915466  -0.629146 -0.558853 -0.272572  \n",
       "2414600126 -0.184387 -0.915466  -0.629146 -0.558853 -0.374707  \n",
       "3793500160 -0.206357  0.936460  -0.629146 -0.558853  1.089225  "
      ]
     },
     "execution_count": 32,
     "metadata": {},
     "output_type": "execute_result"
    }
   ],
   "source": [
    "'''\n",
    "Scale individual features back to a copy of the original DataFrame.\n",
    "'''\n",
    "features = ['bedrooms', 'bathrooms', 'sqft_living', 'sqft_lot', 'floors',\n",
    "            'condition', 'grade', 'yr_built']\n",
    "\n",
    "scale_df = drop_df.copy()\n",
    "for feature in features:\n",
    "    scale_df[feature] = scale(scale_df[feature])\n",
    "scale_df.head(10)"
   ]
  },
  {
   "cell_type": "markdown",
   "metadata": {},
   "source": [
    "### Establish the Regression Models"
   ]
  },
  {
   "cell_type": "code",
   "execution_count": 33,
   "metadata": {
    "ExecuteTime": {
     "end_time": "2019-10-21T00:18:20.459395Z",
     "start_time": "2019-10-21T00:18:20.446394Z"
    }
   },
   "outputs": [],
   "source": [
    "# Lasso Regression with a sequence of lambdas\n",
    "# Generate a sequence of lambdas\n",
    "log_lambda_seq = np.linspace(-6, 2, 50)\n",
    "lambda_seq = np.exp(log_lambda_seq)\n",
    "\n",
    "feature_set = 'bedrooms + bathrooms + sqft_living + sqft_lot + floors \\\n",
    "                + condition + grade + yr_built + 1'\n",
    "\n",
    "formula = 'price_log ~ ' + feature_set\n",
    "\n",
    "price_log = abode_df.loc[:,'price_log']"
   ]
  },
  {
   "cell_type": "markdown",
   "metadata": {},
   "source": [
    "#### LASSO Regression"
   ]
  },
  {
   "cell_type": "code",
   "execution_count": 34,
   "metadata": {
    "ExecuteTime": {
     "end_time": "2019-10-21T00:19:38.168840Z",
     "start_time": "2019-10-21T00:18:20.471395Z"
    }
   },
   "outputs": [],
   "source": [
    "coeffs_array = []\n",
    "rsq_array = []\n",
    "for lamb in lambda_seq:\n",
    "    lasso_model = sm.ols(formula, data=scale_df)\n",
    "    lasso_result = lasso_model.fit_regularized(method='elastic_net', alpha=lamb, L1_wt=1.0)\n",
    "    \n",
    "    coeffs_array.append(list(lasso_result.params))\n",
    "    lasso_predictions = lasso_result.fittedvalues\n",
    "    lasso_residuals = [x - y for x, y in zip(np.squeeze(lasso_predictions), price_log)]\n",
    "\n",
    "    SSR_lasso = np.sum(np.square(lasso_residuals))\n",
    "    SST_lasso = np.sum(np.square(price_log - np.mean(price_log)))\n",
    "    SSE_lasso = SST_lasso - SSR_lasso\n",
    "\n",
    "    rsq_lasso = 1 - (SSR_lasso / SST_lasso)\n",
    "    rsq_array.append(rsq_lasso)"
   ]
  },
  {
   "cell_type": "code",
   "execution_count": 35,
   "metadata": {
    "ExecuteTime": {
     "end_time": "2019-10-21T00:19:39.344907Z",
     "start_time": "2019-10-21T00:19:38.179840Z"
    }
   },
   "outputs": [
    {
     "data": {
      "image/png": "[encoded data removed]",
      "text/plain": [
       "<Figure size 720x504 with 1 Axes>"
      ]
     },
     "metadata": {},
     "output_type": "display_data"
    }
   ],
   "source": [
    "'''\n",
    "Pull out partial slopes (drop intercept version)\n",
    "'''\n",
    "beta_coeffs = [x[1:] for x in coeffs_array]\n",
    "plt.plot(log_lambda_seq, beta_coeffs)\n",
    "plt.title('LASSO REGRESSION\\nPartial Slopes vs Log-Lambda')\n",
    "plt.ylabel('Partial Slope Values')\n",
    "plt.xlabel('Log-Lambda')\n",
    "plt.legend(labels=features)\n",
    "plt.grid()"
   ]
  },
  {
   "cell_type": "code",
   "execution_count": 36,
   "metadata": {
    "ExecuteTime": {
     "end_time": "2019-10-21T00:19:40.372966Z",
     "start_time": "2019-10-21T00:19:39.348907Z"
    }
   },
   "outputs": [
    {
     "data": {
      "image/png": "[encoded data removed]",
      "text/plain": [
       "<Figure size 720x504 with 1 Axes>"
      ]
     },
     "metadata": {},
     "output_type": "display_data"
    }
   ],
   "source": [
    "'''\n",
    "Plot partial slopes vs R squared (% deviance explained)\n",
    "'''\n",
    "plt.plot(rsq_array, beta_coeffs)\n",
    "plt.xlim([-0.8, 0.78])\n",
    "plt.title('LASSO REGRESSION\\nPartial Slopes vs R-Squared')\n",
    "plt.ylabel('Partial Slopes')\n",
    "plt.xlabel('R-squared')\n",
    "plt.legend(labels=features)\n",
    "plt.grid()"
   ]
  },
  {
   "cell_type": "markdown",
   "metadata": {},
   "source": [
    "#### Ridge Regression"
   ]
  },
  {
   "cell_type": "code",
   "execution_count": 37,
   "metadata": {
    "ExecuteTime": {
     "end_time": "2019-10-21T00:19:56.137867Z",
     "start_time": "2019-10-21T00:19:40.377966Z"
    }
   },
   "outputs": [],
   "source": [
    "coeffs_array = []\n",
    "rsq_array = []\n",
    "for lamb in lambda_seq:\n",
    "    ridge_model = sm.ols(formula, data=scale_df)\n",
    "    ridge_result = ridge_model.fit_regularized(method='elastic_net', alpha=lamb, L1_wt=0.0)\n",
    "    \n",
    "    coeffs_array.append(list(ridge_result.params))\n",
    "    ridge_predictions = ridge_result.fittedvalues\n",
    "    ridge_residuals = [x - y for x, y in zip(np.squeeze(ridge_predictions), price_log)]\n",
    "\n",
    "    SSR_ridge = np.sum(np.square(ridge_residuals))\n",
    "    SST_ridge = np.sum(np.square(price_log - np.mean(price_log)))\n",
    "    SSE_ridge = SST_ridge - SSR_ridge\n",
    "    \n",
    "    rsq_ridge = 1 - (SSR_ridge / SST_ridge)\n",
    "    rsq_array.append(rsq_ridge)"
   ]
  },
  {
   "cell_type": "code",
   "execution_count": 38,
   "metadata": {
    "ExecuteTime": {
     "end_time": "2019-10-21T00:19:57.357937Z",
     "start_time": "2019-10-21T00:19:56.141868Z"
    }
   },
   "outputs": [
    {
     "data": {
      "image/png": "[encoded data removed]",
      "text/plain": [
       "<Figure size 720x504 with 1 Axes>"
      ]
     },
     "metadata": {},
     "output_type": "display_data"
    }
   ],
   "source": [
    "# Pull out partial slopes (drop intercept version)\n",
    "beta_coeffs = [x[1:] for x in coeffs_array]\n",
    "plt.plot(log_lambda_seq, beta_coeffs)\n",
    "plt.xlim([-6.0, 2.0])\n",
    "plt.title('RIDGE REGRESSION\\nPartial Slopes vs Log-Lambda')\n",
    "plt.ylabel('Partial Slope Values')\n",
    "plt.xlabel('Log-Lambda')\n",
    "plt.legend(labels=features)\n",
    "plt.grid()"
   ]
  },
  {
   "cell_type": "code",
   "execution_count": 39,
   "metadata": {
    "ExecuteTime": {
     "end_time": "2019-10-21T00:19:58.269989Z",
     "start_time": "2019-10-21T00:19:57.373938Z"
    }
   },
   "outputs": [
    {
     "data": {
      "image/png": "[encoded data removed]",
      "text/plain": [
       "<Figure size 720x504 with 1 Axes>"
      ]
     },
     "metadata": {},
     "output_type": "display_data"
    }
   ],
   "source": [
    "# Plot partial slopes vs R squared (% deviance explained)\n",
    "plt.plot(rsq_array, beta_coeffs)\n",
    "plt.xlim([-475, 2])\n",
    "plt.title('RIDGE REGRESSION\\nPartial Slopes vs R-Squared')\n",
    "plt.ylabel('Partial Slopes')\n",
    "plt.xlabel('R-squared')\n",
    "plt.legend(labels=features)\n",
    "plt.grid()"
   ]
  },
  {
   "cell_type": "markdown",
   "metadata": {},
   "source": [
    "#### Elastic-Net Regression"
   ]
  },
  {
   "cell_type": "code",
   "execution_count": 40,
   "metadata": {
    "ExecuteTime": {
     "end_time": "2019-10-21T00:21:44.419061Z",
     "start_time": "2019-10-21T00:19:58.273989Z"
    }
   },
   "outputs": [],
   "source": [
    "coeffs_array = []\n",
    "rsq_array = []\n",
    "for lamb in lambda_seq:\n",
    "    elastic_model = sm.ols(formula, data=scale_df)\n",
    "    elastic_result = elastic_model.fit_regularized(method='elastic_net', alpha=lamb, L1_wt=0.15)\n",
    "    \n",
    "    coeffs_array.append(list(elastic_result.params))\n",
    "    elastic_predictions = elastic_result.fittedvalues\n",
    "    elastic_residuals = [x - y for x, y in zip(np.squeeze(elastic_predictions), price_log)]\n",
    "\n",
    "    SSR_elastic = np.sum(np.square(elastic_residuals))\n",
    "    SST_elastic = np.sum(np.square(price_log - np.mean(price_log)))\n",
    "    SSE_elastic = SST_elastic - SSR_elastic\n",
    "    \n",
    "    rsq_elastic = 1 - (SSR_elastic / SST_elastic)\n",
    "    rsq_array.append(rsq_elastic)"
   ]
  },
  {
   "cell_type": "code",
   "execution_count": 41,
   "metadata": {
    "ExecuteTime": {
     "end_time": "2019-10-21T00:21:45.561126Z",
     "start_time": "2019-10-21T00:21:44.430061Z"
    }
   },
   "outputs": [
    {
     "data": {
      "image/png": "[encoded data removed]",
      "text/plain": [
       "<Figure size 720x504 with 1 Axes>"
      ]
     },
     "metadata": {},
     "output_type": "display_data"
    }
   ],
   "source": [
    "# Pull out partial slopes (drop intercept version)\n",
    "beta_coeffs = [x[1:] for x in coeffs_array]\n",
    "plt.plot(log_lambda_seq, beta_coeffs)\n",
    "plt.xlim([-6.0, 2.0])\n",
    "plt.title('ELASTIC-NET REGRESSION\\nPartial Slopes vs Log-Lambda')\n",
    "plt.ylabel('Partial Slope Values')\n",
    "plt.xlabel('Log-Lambda')\n",
    "plt.legend(labels=features)\n",
    "plt.grid()"
   ]
  },
  {
   "cell_type": "code",
   "execution_count": 42,
   "metadata": {
    "ExecuteTime": {
     "end_time": "2019-10-21T00:21:46.583184Z",
     "start_time": "2019-10-21T00:21:45.618129Z"
    }
   },
   "outputs": [
    {
     "data": {
      "image/png": "[encoded data removed]",
      "text/plain": [
       "<Figure size 720x504 with 1 Axes>"
      ]
     },
     "metadata": {},
     "output_type": "display_data"
    }
   ],
   "source": [
    "# Plot partial slopes vs R squared (% deviance explained)\n",
    "plt.plot(rsq_array, beta_coeffs)\n",
    "plt.xlim([-225, 3.0])\n",
    "plt.title('ELASTIC-NET REGRESSION\\nPartial Slopes vs R-Squared')\n",
    "plt.ylabel('Partial Slopes')\n",
    "plt.xlabel('R-squared')\n",
    "plt.legend(labels=features)\n",
    "plt.grid()"
   ]
  },
  {
   "cell_type": "markdown",
   "metadata": {},
   "source": [
    "## Model Analysis"
   ]
  },
  {
   "cell_type": "code",
   "execution_count": 43,
   "metadata": {
    "ExecuteTime": {
     "end_time": "2019-10-21T00:21:46.606186Z",
     "start_time": "2019-10-21T00:21:46.588185Z"
    }
   },
   "outputs": [
    {
     "name": "stdout",
     "output_type": "stream",
     "text": [
      "| RESULTS OF THE LINEAR REGRESSION MODELS ANALYSED |\n",
      "\n",
      "       LASSO       RIDGE     ELASTIC-NET\n",
      "SSR:  1185970     2858943      2818597\n",
      "SST:  5994        5994         5994\n",
      "SSE:  -1179975    -2852948     -2812602\n",
      "R^2:  -196        -475         -469\n",
      "\n"
     ]
    }
   ],
   "source": [
    "'''\n",
    "Return the model accuracy measures.\n",
    "'''\n",
    "print('| RESULTS OF THE LINEAR REGRESSION MODELS ANALYSED |\\n')\n",
    "print('       LASSO       RIDGE     ELASTIC-NET')\n",
    "#     the Sum of Squared Residuals-\n",
    "#     a measure of the discrepancy between the data and an estimation model.   \n",
    "print('SSR:  {}     {}      {}'.format(int(SSR_lasso), int(SSR_ridge), int(SSR_elastic)))\n",
    "#     the Sum of Squared Totals-\n",
    "#     the sum, over all observations, of the squared differences of each observation from the overall mean.   \n",
    "print('SST:  {}        {}         {}'.format(int(SST_lasso), int(SST_ridge), int(SST_elastic)))\n",
    "#     the Sum of Squared Errors-\n",
    "#     the sum of the squares of the deviations of the predicted values from the mean value of a response variable.   \n",
    "print('SSE:  {}    {}     {}'.format(int(SSE_lasso), int(SSE_ridge), int(SSE_elastic)))\n",
    "#     the R-squared value-\n",
    "#     a measure of how well observed outcomes are replicated by the model,\n",
    "#     based on the proportion of total variation of outcomes explained by the model.\n",
    "print('R^2:  {}        {}         {}\\n'.format(int(rsq_lasso), int(rsq_ridge), int(rsq_elastic)))"
   ]
  },
  {
   "cell_type": "markdown",
   "metadata": {},
   "source": [
    ">    For each of the 3 linear regression models developed above (LASSO, Ridge, and Elastic-Net), the LASSO model shows the best outcomes according to the derived accuracy measures:  \n",
    "<br>  \n",
    ">    - The Sum of Squared Residuals (`SSR`) -  \n",
    ">    The LASSO model returns the smallest value, that is a preferred outcome. This indicates the total summed errors are least of the 3 models.  \n",
    "<br>  \n",
    ">    - The Sum of Squared Totals (`SST`) -  \n",
    ">    Because this value is computed in the same way for each model, by calculating the sum of the differences between each house price and the mean of all of the house prices, each of the 3 models returns the same magnitude.  \n",
    "<br>  \n",
    ">    - The Sum of Squared Errors (`SSE`) -  \n",
    "     The LASSO model returns the smallest magnitude result for the deviations of predicted house prices and the mean value of the specified features.  \n",
    "<br>  \n",
    ">    - The R-squared value (`R^2`) -  \n",
    ">    The LASSO model returns the most favorable accuracy metric becuase it gives the smallest magnitude.  \n",
    "<br>  \n",
    "> The coefficient of determination (`R^2`) is probably the most telling accuracy measure to base model performance (and therefore model selection) upon, as it is, \"...a measure of how well observed outcomes are replicated by the model.\"  \n",
    "<br>  \n",
    "> Equally, it should be noted that the remaining 2 assessed models are relatively similar in their accuracy metrics. Primarily this is due to the `L1_wt` variable having only a small difference of `0.25` between the Ridge and Elastic-Net models. Thus, it is reasonable to expect such similar outcomes."
   ]
  },
  {
   "cell_type": "markdown",
   "metadata": {},
   "source": [
    "## Conclusion"
   ]
  },
  {
   "cell_type": "markdown",
   "metadata": {},
   "source": [
    "> Because the preferred model would replicate the LASSO accuracies as shown above, we would hope to further improve it by smoothing those traces such as the similar ones shown in the Ridge model plots. This is the intent of employing the Elastic-Net linear regression model here, so as to further limit additional erroneous predictions by way of biasing the LASSO method toward those Ridge regression results. However, even very small increments away from zero of the variable `L1_wt` effect the Elastic-Net behaviors in non-beneficial ways and the plotted traces quickly exhibit non-Ridge like, non-smoothed, sections from a couple traces therein. Thus, limited benefit is achieved by way incorporating an Elastic-Net method. This again, is verified via the accuracy measures discussed above where specifically, the `R^2` magnitude remains quite large in comparison to that of the LASSO result.\n",
    "<br>  \n",
    "> Concerning the predictions themselves, it is observed that 3 of the features are signifiacnt (see above plots) due to their partial slope magnitudes. These features are `grade`, `sqft_living`, and `yr_built`. The inference not yet stated, is that `sqft_living` may have correlations with feature `floors`, and this in fact is true (but not shown). We know that the prior 2 features are realatively correlated because both the log lambda values and the residual errors maintain similar plotted curves across the given partial slopes parameter. Otherwise, the latter feature is equally correlated, although its sign is opposite (negative) and its R-squared values maintain 0 for far longer than the prior 2 features."
   ]
  }
 ],
 "metadata": {
  "kernelspec": {
   "display_name": "Python 3",
   "language": "python",
   "name": "python3"
  },
  "language_info": {
   "codemirror_mode": {
    "name": "ipython",
    "version": 3
   },
   "file_extension": ".py",
   "mimetype": "text/x-python",
   "name": "python",
   "nbconvert_exporter": "python",
   "pygments_lexer": "ipython3",
   "version": "3.7.5"
  },
  "toc": {
   "base_numbering": 1,
   "nav_menu": {},
   "number_sections": true,
   "sideBar": true,
   "skip_h1_title": false,
   "title_cell": "Table of Contents",
   "title_sidebar": "Contents",
   "toc_cell": false,
   "toc_position": {
    "height": "calc(100% - 180px)",
    "left": "10px",
    "top": "150px",
    "width": "223.965px"
   },
   "toc_section_display": true,
   "toc_window_display": true
  }
 },
 "nbformat": 4,
 "nbformat_minor": 2
}
